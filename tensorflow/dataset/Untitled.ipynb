{
 "cells": [
  {
   "cell_type": "markdown",
   "id": "ac68c58f",
   "metadata": {},
   "source": [
    "# Feature columns\n",
    "\n",
    "Feature columns tell the model what inputs to expect"
   ]
  },
  {
   "cell_type": "code",
   "execution_count": 12,
   "id": "d923d753",
   "metadata": {},
   "outputs": [],
   "source": [
    "import tensorflow as tf\n",
    "import numpy as np"
   ]
  },
  {
   "cell_type": "code",
   "execution_count": 13,
   "id": "6cbf7039",
   "metadata": {},
   "outputs": [],
   "source": [
    "fc = tf.feature_column"
   ]
  },
  {
   "cell_type": "markdown",
   "id": "e6660a71",
   "metadata": {},
   "source": [
    "## Example"
   ]
  },
  {
   "cell_type": "code",
   "execution_count": 14,
   "id": "5b21b33b",
   "metadata": {},
   "outputs": [],
   "source": [
    "featcolumns = [\n",
    "    fc.numeric_column('sq_footage'),\n",
    "    fc.categorical_column_with_vocabulary_list('type', ['house', 'apt']) # one-hot encoding\n",
    "]"
   ]
  },
  {
   "cell_type": "markdown",
   "id": "ade2c0a8",
   "metadata": {},
   "source": [
    "## `bucketized_column`\n",
    "\n",
    "The `fc.bucketized_column` function splits a numeric feature into categories based on numeric ranges"
   ]
  },
  {
   "cell_type": "code",
   "execution_count": 21,
   "id": "cdb307a1",
   "metadata": {},
   "outputs": [],
   "source": [
    "NBUCKETS = 16\n",
    "latbuckets = np.linspace(start=38.0, stop=42.0, num=NBUCKETS).tolist()\n",
    "lonbuckets = np.linspace(start=72.0, stop=76.0, num=NBUCKETS).tolist()"
   ]
  },
  {
   "cell_type": "code",
   "execution_count": 22,
   "id": "45958a04",
   "metadata": {},
   "outputs": [],
   "source": [
    "bucketised_plat = fc.bucketized_column(\n",
    "    source_column=fc.numeric_column('pickup_latitude'),\n",
    "    boundaries=latbuckets\n",
    ")"
   ]
  },
  {
   "cell_type": "code",
   "execution_count": 23,
   "id": "d8140ab0",
   "metadata": {},
   "outputs": [],
   "source": [
    "bucketised_plon = fc.bucketized_column(\n",
    "    source_column=fc.numeric_column('pickup_longitude'),\n",
    "    boundaries=lonbuckets\n",
    ")"
   ]
  },
  {
   "cell_type": "markdown",
   "id": "63936932",
   "metadata": {},
   "source": [
    "## `categorical_column_*`\n",
    "\n",
    "Categorical columns are represented as sparse tensors. This saves memory and optimise compute time."
   ]
  },
  {
   "cell_type": "markdown",
   "id": "dd919d4d",
   "metadata": {},
   "source": [
    "If you know the keys beforhand"
   ]
  },
  {
   "cell_type": "code",
   "execution_count": 30,
   "id": "becb678e",
   "metadata": {},
   "outputs": [
    {
     "data": {
      "text/plain": [
       "VocabularyListCategoricalColumn(key='postcode', vocabulary_list=('W1A1AA', 'W13LBT', 'W377F'), dtype=tf.string, default_value=-1, num_oov_buckets=0)"
      ]
     },
     "execution_count": 30,
     "metadata": {},
     "output_type": "execute_result"
    }
   ],
   "source": [
    "fc.categorical_column_with_vocabulary_list('postcode', ['W1A1AA', 'W13LBT', 'W377F'])\n",
    "# fc.categorical_column_with_vocabulary_file in case the vocabulary is stored in a file rather than in memory"
   ]
  },
  {
   "cell_type": "markdown",
   "id": "a09aeb74",
   "metadata": {},
   "source": [
    "if your data is already indexed i.e. has integers [0, N)"
   ]
  },
  {
   "cell_type": "code",
   "execution_count": 31,
   "id": "73f5c79c",
   "metadata": {},
   "outputs": [
    {
     "data": {
      "text/plain": [
       "IdentityCategoricalColumn(key='schoolsRatings', number_buckets=2, default_value=None)"
      ]
     },
     "execution_count": 31,
     "metadata": {},
     "output_type": "execute_result"
    }
   ],
   "source": [
    "fc.categorical_column_with_identity('schoolsRatings', num_buckets=2)"
   ]
  },
  {
   "cell_type": "markdown",
   "id": "ccece494",
   "metadata": {},
   "source": [
    "if you don't have a vocabulary of all possible values"
   ]
  },
  {
   "cell_type": "code",
   "execution_count": 29,
   "id": "c7c5bf02",
   "metadata": {},
   "outputs": [
    {
     "data": {
      "text/plain": [
       "HashedCategoricalColumn(key='storeID', hash_bucket_size=500, dtype=tf.string)"
      ]
     },
     "execution_count": 29,
     "metadata": {},
     "output_type": "execute_result"
    }
   ],
   "source": [
    "fc.categorical_column_with_hash_bucket('storeID', hash_bucket_size=500)"
   ]
  },
  {
   "cell_type": "markdown",
   "id": "35ab36c1",
   "metadata": {},
   "source": [
    "## `embedding_column`\n",
    "\n",
    "As the number of categories of the feature grows, it becomes unfeasibel to train a neural network using one-hot encodings. Imagine having 1 million possible values for a categorical feature, with one-hot encoding we will have 1 million feature to represent all the possible values.\n",
    "\n",
    "Embeddings overcome this limitation. Rather than repreenting the data as a one-hot tensor of many dimensions, an embedding column represents the data at a lower dimensional level using a dense vector, where each cell can contain any number, not just a 0 or a 1."
   ]
  },
  {
   "cell_type": "code",
   "execution_count": null,
   "id": "8e4b328a",
   "metadata": {},
   "outputs": [],
   "source": []
  }
 ],
 "metadata": {
  "kernelspec": {
   "display_name": "Python 3 (ipykernel)",
   "language": "python",
   "name": "python3"
  },
  "language_info": {
   "codemirror_mode": {
    "name": "ipython",
    "version": 3
   },
   "file_extension": ".py",
   "mimetype": "text/x-python",
   "name": "python",
   "nbconvert_exporter": "python",
   "pygments_lexer": "ipython3",
   "version": "3.10.10"
  }
 },
 "nbformat": 4,
 "nbformat_minor": 5
}
