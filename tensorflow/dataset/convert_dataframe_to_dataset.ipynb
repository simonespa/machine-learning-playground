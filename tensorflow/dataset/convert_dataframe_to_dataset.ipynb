{
 "cells": [
  {
   "cell_type": "markdown",
   "id": "7d8a514b-6d6b-4a42-9f1f-0aa1e480468a",
   "metadata": {
    "tags": []
   },
   "source": [
    "# Convert Pandas dataframe to Tensorflow tensor and dataset"
   ]
  },
  {
   "cell_type": "markdown",
   "id": "2b3e2576-ebcd-4c16-a59b-1f7c6febb278",
   "metadata": {},
   "source": [
    "import the required libraries"
   ]
  },
  {
   "cell_type": "code",
   "execution_count": 1,
   "id": "cc506c96-91de-4125-b598-53bca66705fc",
   "metadata": {
    "tags": []
   },
   "outputs": [
    {
     "name": "stderr",
     "output_type": "stream",
     "text": [
      "2023-03-25 11:02:27.375804: I tensorflow/core/platform/cpu_feature_guard.cc:193] This TensorFlow binary is optimized with oneAPI Deep Neural Network Library (oneDNN) to use the following CPU instructions in performance-critical operations:  AVX2 FMA\n",
      "To enable them in other operations, rebuild TensorFlow with the appropriate compiler flags.\n"
     ]
    }
   ],
   "source": [
    "import tensorflow as tf\n",
    "import pandas as pd\n",
    "import numpy as np"
   ]
  },
  {
   "cell_type": "markdown",
   "id": "73d95a1e-fe50-4d26-9935-e0394f6f59aa",
   "metadata": {},
   "source": [
    "load the CSV file with Pandas"
   ]
  },
  {
   "cell_type": "code",
   "execution_count": 2,
   "id": "64dac118-cb26-4098-9211-585a459bae81",
   "metadata": {
    "tags": []
   },
   "outputs": [
    {
     "data": {
      "text/html": [
       "<div>\n",
       "<style scoped>\n",
       "    .dataframe tbody tr th:only-of-type {\n",
       "        vertical-align: middle;\n",
       "    }\n",
       "\n",
       "    .dataframe tbody tr th {\n",
       "        vertical-align: top;\n",
       "    }\n",
       "\n",
       "    .dataframe thead th {\n",
       "        text-align: right;\n",
       "    }\n",
       "</style>\n",
       "<table border=\"1\" class=\"dataframe\">\n",
       "  <thead>\n",
       "    <tr style=\"text-align: right;\">\n",
       "      <th></th>\n",
       "      <th>tv</th>\n",
       "      <th>radio</th>\n",
       "      <th>newspaper</th>\n",
       "      <th>sales</th>\n",
       "    </tr>\n",
       "  </thead>\n",
       "  <tbody>\n",
       "    <tr>\n",
       "      <th>0</th>\n",
       "      <td>230.1</td>\n",
       "      <td>37.8</td>\n",
       "      <td>69.2</td>\n",
       "      <td>22.1</td>\n",
       "    </tr>\n",
       "    <tr>\n",
       "      <th>1</th>\n",
       "      <td>44.5</td>\n",
       "      <td>39.3</td>\n",
       "      <td>45.1</td>\n",
       "      <td>10.4</td>\n",
       "    </tr>\n",
       "    <tr>\n",
       "      <th>2</th>\n",
       "      <td>17.2</td>\n",
       "      <td>45.9</td>\n",
       "      <td>69.3</td>\n",
       "      <td>9.3</td>\n",
       "    </tr>\n",
       "    <tr>\n",
       "      <th>3</th>\n",
       "      <td>151.5</td>\n",
       "      <td>41.3</td>\n",
       "      <td>58.5</td>\n",
       "      <td>18.5</td>\n",
       "    </tr>\n",
       "    <tr>\n",
       "      <th>4</th>\n",
       "      <td>180.8</td>\n",
       "      <td>10.8</td>\n",
       "      <td>58.4</td>\n",
       "      <td>12.9</td>\n",
       "    </tr>\n",
       "  </tbody>\n",
       "</table>\n",
       "</div>"
      ],
      "text/plain": [
       "      tv  radio  newspaper  sales\n",
       "0  230.1   37.8       69.2   22.1\n",
       "1   44.5   39.3       45.1   10.4\n",
       "2   17.2   45.9       69.3    9.3\n",
       "3  151.5   41.3       58.5   18.5\n",
       "4  180.8   10.8       58.4   12.9"
      ]
     },
     "execution_count": 2,
     "metadata": {},
     "output_type": "execute_result"
    }
   ],
   "source": [
    "dataframe = pd.read_csv('../../datasets/advertising.csv')\n",
    "dataframe.head(5)"
   ]
  },
  {
   "cell_type": "markdown",
   "id": "5552055f-e23a-4ca8-ad09-20654c3414dc",
   "metadata": {},
   "source": [
    "transform the dataframe to a tensor"
   ]
  },
  {
   "cell_type": "markdown",
   "id": "f683fb9c-fdf5-41db-9db0-e383843a5626",
   "metadata": {},
   "source": [
    "## Transform a Dataframe to a Dataset"
   ]
  },
  {
   "cell_type": "code",
   "execution_count": 3,
   "id": "8af6edcd-7138-4931-83d1-9c550cc0b2b8",
   "metadata": {
    "tags": []
   },
   "outputs": [],
   "source": [
    "def df_to_ds(dataframe, slice=True, shuffle=True, batch_size=5):\n",
    "    features = dataframe.copy()\n",
    "    label = features.pop('sales')\n",
    "    if slice:\n",
    "        ds = tf.data.Dataset.from_tensor_slices((dict(features), label))\n",
    "    else:\n",
    "        ds = tf.data.Dataset.from_tensors((dict(features), label))\n",
    "    if shuffle:\n",
    "        ds = ds.shuffle(buffer_size=len(dataframe))\n",
    "    ds = ds.batch(batch_size)\n",
    "    return ds"
   ]
  },
  {
   "cell_type": "code",
   "execution_count": 4,
   "id": "9f28700a-3415-4c71-8131-33616b02817b",
   "metadata": {
    "tags": []
   },
   "outputs": [
    {
     "name": "stderr",
     "output_type": "stream",
     "text": [
      "2023-03-25 11:02:30.947451: I tensorflow/core/platform/cpu_feature_guard.cc:193] This TensorFlow binary is optimized with oneAPI Deep Neural Network Library (oneDNN) to use the following CPU instructions in performance-critical operations:  AVX2 FMA\n",
      "To enable them in other operations, rebuild TensorFlow with the appropriate compiler flags.\n"
     ]
    },
    {
     "data": {
      "text/plain": [
       "<BatchDataset element_spec=({'tv': TensorSpec(shape=(None,), dtype=tf.float64, name=None), 'radio': TensorSpec(shape=(None,), dtype=tf.float64, name=None), 'newspaper': TensorSpec(shape=(None,), dtype=tf.float64, name=None)}, TensorSpec(shape=(None,), dtype=tf.float64, name=None))>"
      ]
     },
     "execution_count": 4,
     "metadata": {},
     "output_type": "execute_result"
    }
   ],
   "source": [
    "df_to_ds(dataframe)"
   ]
  },
  {
   "cell_type": "code",
   "execution_count": 5,
   "id": "51cb85e4-9620-4ef1-af27-3b1d010295fa",
   "metadata": {
    "tags": []
   },
   "outputs": [
    {
     "data": {
      "text/plain": [
       "<BatchDataset element_spec=({'tv': TensorSpec(shape=(None, 200), dtype=tf.float64, name=None), 'radio': TensorSpec(shape=(None, 200), dtype=tf.float64, name=None), 'newspaper': TensorSpec(shape=(None, 200), dtype=tf.float64, name=None)}, TensorSpec(shape=(None, 200), dtype=tf.float64, name=None))>"
      ]
     },
     "execution_count": 5,
     "metadata": {},
     "output_type": "execute_result"
    }
   ],
   "source": [
    "df_to_ds(dataframe, slice=False)"
   ]
  },
  {
   "cell_type": "markdown",
   "id": "0580c2c5-f192-40c5-a015-962cb11203cb",
   "metadata": {},
   "source": [
    "## Transform a Dataframe to a Tensor"
   ]
  },
  {
   "cell_type": "code",
   "execution_count": 6,
   "id": "af09a754-54d7-40ac-b42f-e7ed05436f18",
   "metadata": {
    "tags": []
   },
   "outputs": [
    {
     "data": {
      "text/plain": [
       "tensorflow.python.framework.ops.EagerTensor"
      ]
     },
     "execution_count": 6,
     "metadata": {},
     "output_type": "execute_result"
    }
   ],
   "source": [
    "tensor = tf.constant(dataframe) # this only works if all features have the same type\n",
    "type(tensor)"
   ]
  },
  {
   "cell_type": "markdown",
   "id": "04070342-829d-4fe0-a415-14f53ce07aee",
   "metadata": {},
   "source": [
    "## From tensors"
   ]
  },
  {
   "cell_type": "code",
   "execution_count": 7,
   "id": "f85b8947-7d3f-4aab-998e-5a1b9f9f70ff",
   "metadata": {
    "tags": []
   },
   "outputs": [
    {
     "data": {
      "text/plain": [
       "tensorflow.python.data.ops.dataset_ops.TensorDataset"
      ]
     },
     "execution_count": 7,
     "metadata": {},
     "output_type": "execute_result"
    }
   ],
   "source": [
    "dataset = tf.data.Dataset.from_tensors(dataframe) # this only works if all features have the same type\n",
    "type(dataset)"
   ]
  },
  {
   "cell_type": "code",
   "execution_count": 8,
   "id": "9a778674-dafa-4155-b313-d5f14f5fe4ae",
   "metadata": {
    "tags": []
   },
   "outputs": [
    {
     "data": {
      "text/plain": [
       "tensorflow.python.data.ops.dataset_ops.TensorDataset"
      ]
     },
     "execution_count": 8,
     "metadata": {},
     "output_type": "execute_result"
    }
   ],
   "source": [
    "dataset = tf.data.Dataset.from_tensors(tensor)\n",
    "type(dataset)"
   ]
  },
  {
   "cell_type": "markdown",
   "id": "3b12352e-4a98-4844-a411-2b553b541b37",
   "metadata": {},
   "source": [
    "## From tensor slices"
   ]
  },
  {
   "cell_type": "code",
   "execution_count": 9,
   "id": "2b043538-77ca-4cc7-846a-1740927295c1",
   "metadata": {
    "tags": []
   },
   "outputs": [
    {
     "data": {
      "text/plain": [
       "tensorflow.python.data.ops.from_tensor_slices_op.TensorSliceDataset"
      ]
     },
     "execution_count": 9,
     "metadata": {},
     "output_type": "execute_result"
    }
   ],
   "source": [
    "dataset = tf.data.Dataset.from_tensor_slices(dataframe) # this only works if all features have the same type\n",
    "type(dataset)"
   ]
  },
  {
   "cell_type": "code",
   "execution_count": 10,
   "id": "d74a4f8d-84ca-4d1b-9302-02ad5acde072",
   "metadata": {
    "tags": []
   },
   "outputs": [
    {
     "data": {
      "text/plain": [
       "tensorflow.python.data.ops.from_tensor_slices_op.TensorSliceDataset"
      ]
     },
     "execution_count": 10,
     "metadata": {},
     "output_type": "execute_result"
    }
   ],
   "source": [
    "dataset = tf.data.Dataset.from_tensor_slices(tensor)\n",
    "type(dataset)"
   ]
  },
  {
   "cell_type": "markdown",
   "id": "147fdfcc-5fa7-4fe4-9747-2b99325e7f20",
   "metadata": {
    "tags": []
   },
   "source": [
    "## Example"
   ]
  },
  {
   "cell_type": "code",
   "execution_count": 11,
   "id": "148e38a1-6d15-48b1-960c-b0ff5ecf149c",
   "metadata": {
    "tags": []
   },
   "outputs": [],
   "source": [
    "features = dataframe.copy()\n",
    "labels = features.pop('sales')"
   ]
  },
  {
   "cell_type": "code",
   "execution_count": 12,
   "id": "ede1194b",
   "metadata": {},
   "outputs": [
    {
     "data": {
      "text/html": [
       "<div>\n",
       "<style scoped>\n",
       "    .dataframe tbody tr th:only-of-type {\n",
       "        vertical-align: middle;\n",
       "    }\n",
       "\n",
       "    .dataframe tbody tr th {\n",
       "        vertical-align: top;\n",
       "    }\n",
       "\n",
       "    .dataframe thead th {\n",
       "        text-align: right;\n",
       "    }\n",
       "</style>\n",
       "<table border=\"1\" class=\"dataframe\">\n",
       "  <thead>\n",
       "    <tr style=\"text-align: right;\">\n",
       "      <th></th>\n",
       "      <th>tv</th>\n",
       "      <th>radio</th>\n",
       "      <th>newspaper</th>\n",
       "    </tr>\n",
       "  </thead>\n",
       "  <tbody>\n",
       "    <tr>\n",
       "      <th>0</th>\n",
       "      <td>230.1</td>\n",
       "      <td>37.8</td>\n",
       "      <td>69.2</td>\n",
       "    </tr>\n",
       "    <tr>\n",
       "      <th>1</th>\n",
       "      <td>44.5</td>\n",
       "      <td>39.3</td>\n",
       "      <td>45.1</td>\n",
       "    </tr>\n",
       "    <tr>\n",
       "      <th>2</th>\n",
       "      <td>17.2</td>\n",
       "      <td>45.9</td>\n",
       "      <td>69.3</td>\n",
       "    </tr>\n",
       "    <tr>\n",
       "      <th>3</th>\n",
       "      <td>151.5</td>\n",
       "      <td>41.3</td>\n",
       "      <td>58.5</td>\n",
       "    </tr>\n",
       "    <tr>\n",
       "      <th>4</th>\n",
       "      <td>180.8</td>\n",
       "      <td>10.8</td>\n",
       "      <td>58.4</td>\n",
       "    </tr>\n",
       "  </tbody>\n",
       "</table>\n",
       "</div>"
      ],
      "text/plain": [
       "      tv  radio  newspaper\n",
       "0  230.1   37.8       69.2\n",
       "1   44.5   39.3       45.1\n",
       "2   17.2   45.9       69.3\n",
       "3  151.5   41.3       58.5\n",
       "4  180.8   10.8       58.4"
      ]
     },
     "execution_count": 12,
     "metadata": {},
     "output_type": "execute_result"
    }
   ],
   "source": [
    "features.head()"
   ]
  },
  {
   "cell_type": "code",
   "execution_count": 13,
   "id": "55c0e5ae",
   "metadata": {},
   "outputs": [
    {
     "data": {
      "text/plain": [
       "0      22.1\n",
       "1      10.4\n",
       "2       9.3\n",
       "3      18.5\n",
       "4      12.9\n",
       "       ... \n",
       "195     7.6\n",
       "196     9.7\n",
       "197    12.8\n",
       "198    25.5\n",
       "199    13.4\n",
       "Name: sales, Length: 200, dtype: float64"
      ]
     },
     "execution_count": 13,
     "metadata": {},
     "output_type": "execute_result"
    }
   ],
   "source": [
    "labels"
   ]
  },
  {
   "cell_type": "code",
   "execution_count": 14,
   "id": "f38bdc83-4714-4440-a3ed-ccbf33045b5a",
   "metadata": {
    "tags": []
   },
   "outputs": [
    {
     "data": {
      "text/plain": [
       "<BatchDataset element_spec=(TensorSpec(shape=(10, 3), dtype=tf.float64, name=None), TensorSpec(shape=(10,), dtype=tf.float64, name=None))>"
      ]
     },
     "execution_count": 14,
     "metadata": {},
     "output_type": "execute_result"
    }
   ],
   "source": [
    "(\n",
    "    tf.data.Dataset.from_tensor_slices((features, labels))\n",
    "        .repeat(100)\n",
    "        .batch(batch_size=10, drop_remainder=True)\n",
    ")"
   ]
  },
  {
   "cell_type": "markdown",
   "id": "9c03f994-244b-453a-8d18-1a742542658b",
   "metadata": {},
   "source": [
    "## Notes\n",
    "\n",
    "the `from_tensors` method combines the input and returns a dataset with a single element, wherease the `from_tensor_slices` method creates a dataset with a separate element for each row of the input tensor."
   ]
  },
  {
   "cell_type": "code",
   "execution_count": 15,
   "id": "13dd4790-d082-43c3-a172-f146fdd72100",
   "metadata": {
    "tags": []
   },
   "outputs": [
    {
     "data": {
      "text/plain": [
       "<TensorDataset element_spec=TensorSpec(shape=(2, 2), dtype=tf.int32, name=None)>"
      ]
     },
     "execution_count": 15,
     "metadata": {},
     "output_type": "execute_result"
    }
   ],
   "source": [
    "tensor = tf.constant([[4, 2], [5, 3]])\n",
    "dataset = tf.data.Dataset.from_tensors(tensor)\n",
    "dataset # [ [4, 2], [5, 3] ]"
   ]
  },
  {
   "cell_type": "code",
   "execution_count": 16,
   "id": "e33023ea-9a0a-4e0f-af0d-4a711854edd2",
   "metadata": {
    "tags": []
   },
   "outputs": [
    {
     "data": {
      "text/plain": [
       "<TensorSliceDataset element_spec=TensorSpec(shape=(2,), dtype=tf.int32, name=None)>"
      ]
     },
     "execution_count": 16,
     "metadata": {},
     "output_type": "execute_result"
    }
   ],
   "source": [
    "tensor = tf.constant([[4, 2], [5, 3]])\n",
    "dataset = tf.data.Dataset.from_tensor_slices(tensor)\n",
    "dataset # [4, 2], [5, 3]"
   ]
  },
  {
   "cell_type": "markdown",
   "id": "ecd49cb3-1acb-4b54-b836-d3741331c80f",
   "metadata": {},
   "source": [
    "## TextLineDataset"
   ]
  },
  {
   "cell_type": "code",
   "execution_count": 17,
   "id": "fc23541d-4ce2-49cf-abf6-96b78180f1d4",
   "metadata": {},
   "outputs": [],
   "source": [
    "def parse_csv_records(records):\n",
    "    cols = tf.io.decode_csv(records, record_defaults=[[0], [0], [0], [0]])\n",
    "    features = {'tv': cols[0], 'radio': cols[1], 'newspaper': cols[2]}\n",
    "    label = cols[3] # sales\n",
    "    return features, label"
   ]
  },
  {
   "cell_type": "code",
   "execution_count": 18,
   "id": "fd4c0da9-7e53-4cc5-a760-69f2bfb64f0d",
   "metadata": {
    "scrolled": true,
    "tags": []
   },
   "outputs": [
    {
     "data": {
      "text/plain": [
       "<BatchDataset element_spec=({'tv': TensorSpec(shape=(None,), dtype=tf.int32, name=None), 'radio': TensorSpec(shape=(None,), dtype=tf.int32, name=None), 'newspaper': TensorSpec(shape=(None,), dtype=tf.int32, name=None)}, TensorSpec(shape=(None,), dtype=tf.int32, name=None))>"
      ]
     },
     "execution_count": 18,
     "metadata": {},
     "output_type": "execute_result"
    }
   ],
   "source": [
    "dataset = (\n",
    "    tf.data.TextLineDataset('../../datasets/advertising.csv')\n",
    "        .map(parse_csv_records)\n",
    "        .shuffle(1000) # IMPORTANT: only shuffle the training data\n",
    "        .repeat(20)\n",
    "        .batch(100)\n",
    ")\n",
    "dataset"
   ]
  },
  {
   "cell_type": "markdown",
   "id": "95ec054c",
   "metadata": {},
   "source": [
    "If we have multiple files on disk, we may want to scan the directory to collect them all"
   ]
  },
  {
   "cell_type": "code",
   "execution_count": 19,
   "id": "4711c00c",
   "metadata": {},
   "outputs": [
    {
     "data": {
      "text/plain": [
       "<BatchDataset element_spec=({'tv': TensorSpec(shape=(None,), dtype=tf.int32, name=None), 'radio': TensorSpec(shape=(None,), dtype=tf.int32, name=None), 'newspaper': TensorSpec(shape=(None,), dtype=tf.int32, name=None)}, TensorSpec(shape=(None,), dtype=tf.int32, name=None))>"
      ]
     },
     "execution_count": 19,
     "metadata": {},
     "output_type": "execute_result"
    }
   ],
   "source": [
    "dataset = (\n",
    "    tf.data.Dataset.list_files('../../datasets/shards/*.csv')\n",
    "        .flat_map(tf.data.TextLineDataset)\n",
    "        .map(parse_csv_records)\n",
    "        .shuffle(1000) # IMPORTANT: only shuffle the training data\n",
    "        .repeat(20)\n",
    "        .batch(100)\n",
    ")\n",
    "dataset"
   ]
  },
  {
   "cell_type": "code",
   "execution_count": 20,
   "id": "eb240936-6ccf-4b09-b203-10403c78f266",
   "metadata": {
    "tags": []
   },
   "outputs": [],
   "source": [
    "train = pd.read_csv('/Users/spaccs01/.keras/datasets/train.csv')\n",
    "eval = pd.read_csv('/Users/spaccs01/.keras/datasets/eval.csv')"
   ]
  },
  {
   "cell_type": "code",
   "execution_count": 21,
   "id": "a56321c8-98f5-40ee-88e2-75c853146190",
   "metadata": {
    "tags": []
   },
   "outputs": [
    {
     "data": {
      "text/html": [
       "<div>\n",
       "<style scoped>\n",
       "    .dataframe tbody tr th:only-of-type {\n",
       "        vertical-align: middle;\n",
       "    }\n",
       "\n",
       "    .dataframe tbody tr th {\n",
       "        vertical-align: top;\n",
       "    }\n",
       "\n",
       "    .dataframe thead th {\n",
       "        text-align: right;\n",
       "    }\n",
       "</style>\n",
       "<table border=\"1\" class=\"dataframe\">\n",
       "  <thead>\n",
       "    <tr style=\"text-align: right;\">\n",
       "      <th></th>\n",
       "      <th>survived</th>\n",
       "      <th>sex</th>\n",
       "      <th>age</th>\n",
       "      <th>n_siblings_spouses</th>\n",
       "      <th>parch</th>\n",
       "      <th>fare</th>\n",
       "      <th>class</th>\n",
       "      <th>deck</th>\n",
       "      <th>embark_town</th>\n",
       "      <th>alone</th>\n",
       "    </tr>\n",
       "  </thead>\n",
       "  <tbody>\n",
       "    <tr>\n",
       "      <th>0</th>\n",
       "      <td>0</td>\n",
       "      <td>male</td>\n",
       "      <td>22.0</td>\n",
       "      <td>1</td>\n",
       "      <td>0</td>\n",
       "      <td>7.2500</td>\n",
       "      <td>Third</td>\n",
       "      <td>unknown</td>\n",
       "      <td>Southampton</td>\n",
       "      <td>n</td>\n",
       "    </tr>\n",
       "    <tr>\n",
       "      <th>1</th>\n",
       "      <td>1</td>\n",
       "      <td>female</td>\n",
       "      <td>38.0</td>\n",
       "      <td>1</td>\n",
       "      <td>0</td>\n",
       "      <td>71.2833</td>\n",
       "      <td>First</td>\n",
       "      <td>C</td>\n",
       "      <td>Cherbourg</td>\n",
       "      <td>n</td>\n",
       "    </tr>\n",
       "    <tr>\n",
       "      <th>2</th>\n",
       "      <td>1</td>\n",
       "      <td>female</td>\n",
       "      <td>26.0</td>\n",
       "      <td>0</td>\n",
       "      <td>0</td>\n",
       "      <td>7.9250</td>\n",
       "      <td>Third</td>\n",
       "      <td>unknown</td>\n",
       "      <td>Southampton</td>\n",
       "      <td>y</td>\n",
       "    </tr>\n",
       "    <tr>\n",
       "      <th>3</th>\n",
       "      <td>1</td>\n",
       "      <td>female</td>\n",
       "      <td>35.0</td>\n",
       "      <td>1</td>\n",
       "      <td>0</td>\n",
       "      <td>53.1000</td>\n",
       "      <td>First</td>\n",
       "      <td>C</td>\n",
       "      <td>Southampton</td>\n",
       "      <td>n</td>\n",
       "    </tr>\n",
       "    <tr>\n",
       "      <th>4</th>\n",
       "      <td>0</td>\n",
       "      <td>male</td>\n",
       "      <td>28.0</td>\n",
       "      <td>0</td>\n",
       "      <td>0</td>\n",
       "      <td>8.4583</td>\n",
       "      <td>Third</td>\n",
       "      <td>unknown</td>\n",
       "      <td>Queenstown</td>\n",
       "      <td>y</td>\n",
       "    </tr>\n",
       "    <tr>\n",
       "      <th>...</th>\n",
       "      <td>...</td>\n",
       "      <td>...</td>\n",
       "      <td>...</td>\n",
       "      <td>...</td>\n",
       "      <td>...</td>\n",
       "      <td>...</td>\n",
       "      <td>...</td>\n",
       "      <td>...</td>\n",
       "      <td>...</td>\n",
       "      <td>...</td>\n",
       "    </tr>\n",
       "    <tr>\n",
       "      <th>622</th>\n",
       "      <td>0</td>\n",
       "      <td>male</td>\n",
       "      <td>28.0</td>\n",
       "      <td>0</td>\n",
       "      <td>0</td>\n",
       "      <td>10.5000</td>\n",
       "      <td>Second</td>\n",
       "      <td>unknown</td>\n",
       "      <td>Southampton</td>\n",
       "      <td>y</td>\n",
       "    </tr>\n",
       "    <tr>\n",
       "      <th>623</th>\n",
       "      <td>0</td>\n",
       "      <td>male</td>\n",
       "      <td>25.0</td>\n",
       "      <td>0</td>\n",
       "      <td>0</td>\n",
       "      <td>7.0500</td>\n",
       "      <td>Third</td>\n",
       "      <td>unknown</td>\n",
       "      <td>Southampton</td>\n",
       "      <td>y</td>\n",
       "    </tr>\n",
       "    <tr>\n",
       "      <th>624</th>\n",
       "      <td>1</td>\n",
       "      <td>female</td>\n",
       "      <td>19.0</td>\n",
       "      <td>0</td>\n",
       "      <td>0</td>\n",
       "      <td>30.0000</td>\n",
       "      <td>First</td>\n",
       "      <td>B</td>\n",
       "      <td>Southampton</td>\n",
       "      <td>y</td>\n",
       "    </tr>\n",
       "    <tr>\n",
       "      <th>625</th>\n",
       "      <td>0</td>\n",
       "      <td>female</td>\n",
       "      <td>28.0</td>\n",
       "      <td>1</td>\n",
       "      <td>2</td>\n",
       "      <td>23.4500</td>\n",
       "      <td>Third</td>\n",
       "      <td>unknown</td>\n",
       "      <td>Southampton</td>\n",
       "      <td>n</td>\n",
       "    </tr>\n",
       "    <tr>\n",
       "      <th>626</th>\n",
       "      <td>0</td>\n",
       "      <td>male</td>\n",
       "      <td>32.0</td>\n",
       "      <td>0</td>\n",
       "      <td>0</td>\n",
       "      <td>7.7500</td>\n",
       "      <td>Third</td>\n",
       "      <td>unknown</td>\n",
       "      <td>Queenstown</td>\n",
       "      <td>y</td>\n",
       "    </tr>\n",
       "  </tbody>\n",
       "</table>\n",
       "<p>627 rows × 10 columns</p>\n",
       "</div>"
      ],
      "text/plain": [
       "     survived     sex   age  n_siblings_spouses  parch     fare   class  \\\n",
       "0           0    male  22.0                   1      0   7.2500   Third   \n",
       "1           1  female  38.0                   1      0  71.2833   First   \n",
       "2           1  female  26.0                   0      0   7.9250   Third   \n",
       "3           1  female  35.0                   1      0  53.1000   First   \n",
       "4           0    male  28.0                   0      0   8.4583   Third   \n",
       "..        ...     ...   ...                 ...    ...      ...     ...   \n",
       "622         0    male  28.0                   0      0  10.5000  Second   \n",
       "623         0    male  25.0                   0      0   7.0500   Third   \n",
       "624         1  female  19.0                   0      0  30.0000   First   \n",
       "625         0  female  28.0                   1      2  23.4500   Third   \n",
       "626         0    male  32.0                   0      0   7.7500   Third   \n",
       "\n",
       "        deck  embark_town alone  \n",
       "0    unknown  Southampton     n  \n",
       "1          C    Cherbourg     n  \n",
       "2    unknown  Southampton     y  \n",
       "3          C  Southampton     n  \n",
       "4    unknown   Queenstown     y  \n",
       "..       ...          ...   ...  \n",
       "622  unknown  Southampton     y  \n",
       "623  unknown  Southampton     y  \n",
       "624        B  Southampton     y  \n",
       "625  unknown  Southampton     n  \n",
       "626  unknown   Queenstown     y  \n",
       "\n",
       "[627 rows x 10 columns]"
      ]
     },
     "execution_count": 21,
     "metadata": {},
     "output_type": "execute_result"
    }
   ],
   "source": [
    "train"
   ]
  },
  {
   "cell_type": "code",
   "execution_count": 22,
   "id": "dfc91717-55e8-41a5-8d1f-93107b14fb5c",
   "metadata": {
    "tags": []
   },
   "outputs": [],
   "source": [
    "def parse(line):\n",
    "    cols = tf.io.decode_csv(line)\n",
    "    features = {\n",
    "        'sex': cols[1],\n",
    "        'age': cols[2],\n",
    "        'n_siblings_spouses': cols[3],\n",
    "        'parch': cols[4],\n",
    "        'fare': cols[5],\n",
    "        'class': cols[6],\n",
    "        'deck': cols[7],\n",
    "        'embark_town': cols[8],\n",
    "        'alone': cols[9]\n",
    "    }\n",
    "    label = cols[0] # survived\n",
    "    return features, label"
   ]
  },
  {
   "cell_type": "code",
   "execution_count": 23,
   "id": "e5244b23-8df0-43a3-a35a-f2ffc90038d6",
   "metadata": {
    "tags": []
   },
   "outputs": [],
   "source": [
    "# dataset = (\n",
    "#     tf.data.TextLineDataset('/Users/spaccs01/.keras/datasets/train.csv')\n",
    "#         .map(parse)\n",
    "#         # .shuffle(1000) # IMPORTANT: only shuffle the training data\n",
    "#         # .repeat(20)\n",
    "#         .batch(5)\n",
    "# )\n",
    "# dataset"
   ]
  },
  {
   "cell_type": "code",
   "execution_count": 24,
   "id": "7f2f0cde-d1bd-434e-b227-bb4bcb9c0526",
   "metadata": {
    "tags": []
   },
   "outputs": [
    {
     "name": "stdout",
     "output_type": "stream",
     "text": [
      "WARNING:tensorflow:From /Users/spaccs01/workspace/playground/machine-learning-playground/.python/lib/python3.10/site-packages/tensorflow/python/data/experimental/ops/readers.py:572: ignore_errors (from tensorflow.python.data.experimental.ops.error_ops) is deprecated and will be removed in a future version.\n",
      "Instructions for updating:\n",
      "Use `tf.data.Dataset.ignore_errors` instead.\n"
     ]
    }
   ],
   "source": [
    "dataset = tf.data.experimental.make_csv_dataset(\n",
    "    '/Users/spaccs01/.keras/datasets/train.csv',\n",
    "    batch_size=5,\n",
    "    label_name='survived',\n",
    "    na_value=\"?\",\n",
    "    num_epochs=1,\n",
    "    ignore_errors=True\n",
    ")"
   ]
  },
  {
   "cell_type": "code",
   "execution_count": 25,
   "id": "51040c51-210f-4bc6-960e-50f03b03a101",
   "metadata": {
    "tags": []
   },
   "outputs": [
    {
     "name": "stdout",
     "output_type": "stream",
     "text": [
      "sex                 : [b'male' b'female' b'male' b'male' b'male']\n",
      "age                 : [30. 28. 19. 32. 20.]\n",
      "n_siblings_spouses  : [1 0 0 0 0]\n",
      "parch               : [0 0 0 0 0]\n",
      "fare                : [24.     79.2     7.8958 56.4958  9.8458]\n",
      "class               : [b'Second' b'First' b'Third' b'Third' b'Third']\n",
      "deck                : [b'unknown' b'unknown' b'unknown' b'unknown' b'unknown']\n",
      "embark_town         : [b'Cherbourg' b'Cherbourg' b'Southampton' b'Southampton' b'Southampton']\n",
      "alone               : [b'n' b'y' b'y' b'y' b'y']\n"
     ]
    }
   ],
   "source": [
    "for batch, label in dataset.take(1):\n",
    "    for key, value in batch.items():\n",
    "        print(\"{:20s}: {}\".format(key, value.numpy()))"
   ]
  }
 ],
 "metadata": {
  "kernelspec": {
   "display_name": "Python 3 (ipykernel)",
   "language": "python",
   "name": "python3"
  },
  "language_info": {
   "codemirror_mode": {
    "name": "ipython",
    "version": 3
   },
   "file_extension": ".py",
   "mimetype": "text/x-python",
   "name": "python",
   "nbconvert_exporter": "python",
   "pygments_lexer": "ipython3",
   "version": "3.10.10"
  }
 },
 "nbformat": 4,
 "nbformat_minor": 5
}
