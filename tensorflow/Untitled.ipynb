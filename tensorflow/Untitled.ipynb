{
 "cells": [
  {
   "cell_type": "markdown",
   "id": "7d8a514b-6d6b-4a42-9f1f-0aa1e480468a",
   "metadata": {
    "tags": []
   },
   "source": [
    "# Convert Pandas dataframe to Tensorflow tensor and dataset"
   ]
  },
  {
   "cell_type": "markdown",
   "id": "2b3e2576-ebcd-4c16-a59b-1f7c6febb278",
   "metadata": {},
   "source": [
    "import the required libraries"
   ]
  },
  {
   "cell_type": "code",
   "execution_count": 1,
   "id": "cc506c96-91de-4125-b598-53bca66705fc",
   "metadata": {
    "tags": []
   },
   "outputs": [
    {
     "name": "stderr",
     "output_type": "stream",
     "text": [
      "2023-03-06 21:31:34.882031: I tensorflow/core/platform/cpu_feature_guard.cc:193] This TensorFlow binary is optimized with oneAPI Deep Neural Network Library (oneDNN) to use the following CPU instructions in performance-critical operations:  AVX2 FMA\n",
      "To enable them in other operations, rebuild TensorFlow with the appropriate compiler flags.\n"
     ]
    }
   ],
   "source": [
    "import tensorflow as tf\n",
    "import pandas as pd\n",
    "import numpy as np"
   ]
  },
  {
   "cell_type": "markdown",
   "id": "73d95a1e-fe50-4d26-9935-e0394f6f59aa",
   "metadata": {},
   "source": [
    "load the CSV file with Pandas"
   ]
  },
  {
   "cell_type": "code",
   "execution_count": 2,
   "id": "64dac118-cb26-4098-9211-585a459bae81",
   "metadata": {
    "tags": []
   },
   "outputs": [
    {
     "data": {
      "text/html": [
       "<div>\n",
       "<style scoped>\n",
       "    .dataframe tbody tr th:only-of-type {\n",
       "        vertical-align: middle;\n",
       "    }\n",
       "\n",
       "    .dataframe tbody tr th {\n",
       "        vertical-align: top;\n",
       "    }\n",
       "\n",
       "    .dataframe thead th {\n",
       "        text-align: right;\n",
       "    }\n",
       "</style>\n",
       "<table border=\"1\" class=\"dataframe\">\n",
       "  <thead>\n",
       "    <tr style=\"text-align: right;\">\n",
       "      <th></th>\n",
       "      <th>tv</th>\n",
       "      <th>radio</th>\n",
       "      <th>newspaper</th>\n",
       "      <th>sales</th>\n",
       "    </tr>\n",
       "  </thead>\n",
       "  <tbody>\n",
       "    <tr>\n",
       "      <th>0</th>\n",
       "      <td>230.1</td>\n",
       "      <td>37.8</td>\n",
       "      <td>69.2</td>\n",
       "      <td>22.1</td>\n",
       "    </tr>\n",
       "    <tr>\n",
       "      <th>1</th>\n",
       "      <td>44.5</td>\n",
       "      <td>39.3</td>\n",
       "      <td>45.1</td>\n",
       "      <td>10.4</td>\n",
       "    </tr>\n",
       "    <tr>\n",
       "      <th>2</th>\n",
       "      <td>17.2</td>\n",
       "      <td>45.9</td>\n",
       "      <td>69.3</td>\n",
       "      <td>9.3</td>\n",
       "    </tr>\n",
       "    <tr>\n",
       "      <th>3</th>\n",
       "      <td>151.5</td>\n",
       "      <td>41.3</td>\n",
       "      <td>58.5</td>\n",
       "      <td>18.5</td>\n",
       "    </tr>\n",
       "    <tr>\n",
       "      <th>4</th>\n",
       "      <td>180.8</td>\n",
       "      <td>10.8</td>\n",
       "      <td>58.4</td>\n",
       "      <td>12.9</td>\n",
       "    </tr>\n",
       "  </tbody>\n",
       "</table>\n",
       "</div>"
      ],
      "text/plain": [
       "      tv  radio  newspaper  sales\n",
       "0  230.1   37.8       69.2   22.1\n",
       "1   44.5   39.3       45.1   10.4\n",
       "2   17.2   45.9       69.3    9.3\n",
       "3  151.5   41.3       58.5   18.5\n",
       "4  180.8   10.8       58.4   12.9"
      ]
     },
     "execution_count": 2,
     "metadata": {},
     "output_type": "execute_result"
    }
   ],
   "source": [
    "dataframe = pd.read_csv('../datasets/advertising.csv')\n",
    "dataframe.head(5)"
   ]
  },
  {
   "cell_type": "markdown",
   "id": "5552055f-e23a-4ca8-ad09-20654c3414dc",
   "metadata": {},
   "source": [
    "transform the dataframe to a tensor"
   ]
  },
  {
   "cell_type": "code",
   "execution_count": 3,
   "id": "af09a754-54d7-40ac-b42f-e7ed05436f18",
   "metadata": {
    "tags": []
   },
   "outputs": [
    {
     "name": "stderr",
     "output_type": "stream",
     "text": [
      "2023-03-06 21:31:38.282586: I tensorflow/core/platform/cpu_feature_guard.cc:193] This TensorFlow binary is optimized with oneAPI Deep Neural Network Library (oneDNN) to use the following CPU instructions in performance-critical operations:  AVX2 FMA\n",
      "To enable them in other operations, rebuild TensorFlow with the appropriate compiler flags.\n"
     ]
    },
    {
     "data": {
      "text/plain": [
       "tensorflow.python.framework.ops.EagerTensor"
      ]
     },
     "execution_count": 3,
     "metadata": {},
     "output_type": "execute_result"
    }
   ],
   "source": [
    "tensor = tf.constant(dataframe)\n",
    "type(tensor)"
   ]
  },
  {
   "cell_type": "markdown",
   "id": "04070342-829d-4fe0-a415-14f53ce07aee",
   "metadata": {},
   "source": [
    "## From tensors"
   ]
  },
  {
   "cell_type": "code",
   "execution_count": 4,
   "id": "f85b8947-7d3f-4aab-998e-5a1b9f9f70ff",
   "metadata": {
    "tags": []
   },
   "outputs": [
    {
     "data": {
      "text/plain": [
       "tensorflow.python.data.ops.dataset_ops.TensorDataset"
      ]
     },
     "execution_count": 4,
     "metadata": {},
     "output_type": "execute_result"
    }
   ],
   "source": [
    "dataset = tf.data.Dataset.from_tensors(dataframe)\n",
    "type(dataset)"
   ]
  },
  {
   "cell_type": "code",
   "execution_count": 5,
   "id": "9a778674-dafa-4155-b313-d5f14f5fe4ae",
   "metadata": {
    "tags": []
   },
   "outputs": [
    {
     "data": {
      "text/plain": [
       "tensorflow.python.data.ops.dataset_ops.TensorDataset"
      ]
     },
     "execution_count": 5,
     "metadata": {},
     "output_type": "execute_result"
    }
   ],
   "source": [
    "dataset = tf.data.Dataset.from_tensors(tensor)\n",
    "type(dataset)"
   ]
  },
  {
   "cell_type": "markdown",
   "id": "3b12352e-4a98-4844-a411-2b553b541b37",
   "metadata": {},
   "source": [
    "## From tensor slices"
   ]
  },
  {
   "cell_type": "code",
   "execution_count": 6,
   "id": "2b043538-77ca-4cc7-846a-1740927295c1",
   "metadata": {
    "tags": []
   },
   "outputs": [
    {
     "data": {
      "text/plain": [
       "tensorflow.python.data.ops.from_tensor_slices_op.TensorSliceDataset"
      ]
     },
     "execution_count": 6,
     "metadata": {},
     "output_type": "execute_result"
    }
   ],
   "source": [
    "dataset = tf.data.Dataset.from_tensor_slices(dataframe)\n",
    "type(dataset)"
   ]
  },
  {
   "cell_type": "code",
   "execution_count": 7,
   "id": "d74a4f8d-84ca-4d1b-9302-02ad5acde072",
   "metadata": {
    "tags": []
   },
   "outputs": [
    {
     "data": {
      "text/plain": [
       "tensorflow.python.data.ops.from_tensor_slices_op.TensorSliceDataset"
      ]
     },
     "execution_count": 7,
     "metadata": {},
     "output_type": "execute_result"
    }
   ],
   "source": [
    "dataset = tf.data.Dataset.from_tensor_slices(tensor)\n",
    "type(dataset)"
   ]
  },
  {
   "cell_type": "markdown",
   "id": "147fdfcc-5fa7-4fe4-9747-2b99325e7f20",
   "metadata": {
    "tags": []
   },
   "source": [
    "## Example"
   ]
  },
  {
   "cell_type": "code",
   "execution_count": 8,
   "id": "148e38a1-6d15-48b1-960c-b0ff5ecf149c",
   "metadata": {
    "tags": []
   },
   "outputs": [],
   "source": [
    "features = dataframe.copy()\n",
    "labels = features.pop('sales')"
   ]
  },
  {
   "cell_type": "code",
   "execution_count": 9,
   "id": "f38bdc83-4714-4440-a3ed-ccbf33045b5a",
   "metadata": {
    "tags": []
   },
   "outputs": [
    {
     "data": {
      "text/plain": [
       "<BatchDataset element_spec=(TensorSpec(shape=(10, 3), dtype=tf.float64, name=None), TensorSpec(shape=(10,), dtype=tf.float64, name=None))>"
      ]
     },
     "execution_count": 9,
     "metadata": {},
     "output_type": "execute_result"
    }
   ],
   "source": [
    "(\n",
    "    tf.data.Dataset.from_tensor_slices((features, labels))\n",
    "        .repeat(100)\n",
    "        .batch(batch_size=10, drop_remainder=True)\n",
    ")"
   ]
  },
  {
   "cell_type": "markdown",
   "id": "9c03f994-244b-453a-8d18-1a742542658b",
   "metadata": {},
   "source": [
    "## Notes\n",
    "\n",
    "the `from_tensors` method combines the input and returns a dataset with a single element, wherease the `from_tensor_slices` method creates a dataset with a separate element for each row of the input tensor."
   ]
  },
  {
   "cell_type": "code",
   "execution_count": 10,
   "id": "13dd4790-d082-43c3-a172-f146fdd72100",
   "metadata": {
    "tags": []
   },
   "outputs": [
    {
     "data": {
      "text/plain": [
       "<TensorDataset element_spec=TensorSpec(shape=(2, 2), dtype=tf.int32, name=None)>"
      ]
     },
     "execution_count": 10,
     "metadata": {},
     "output_type": "execute_result"
    }
   ],
   "source": [
    "tensor = tf.constant([[4, 2], [5, 3]])\n",
    "dataset = tf.data.Dataset.from_tensors(tensor)\n",
    "dataset # [ [4, 2], [5, 3] ]"
   ]
  },
  {
   "cell_type": "code",
   "execution_count": 11,
   "id": "e33023ea-9a0a-4e0f-af0d-4a711854edd2",
   "metadata": {
    "tags": []
   },
   "outputs": [
    {
     "data": {
      "text/plain": [
       "<TensorSliceDataset element_spec=TensorSpec(shape=(2,), dtype=tf.int32, name=None)>"
      ]
     },
     "execution_count": 11,
     "metadata": {},
     "output_type": "execute_result"
    }
   ],
   "source": [
    "tensor = tf.constant([[4, 2], [5, 3]])\n",
    "dataset = tf.data.Dataset.from_tensor_slices(tensor)\n",
    "dataset # [4, 2], [5, 3]"
   ]
  },
  {
   "cell_type": "markdown",
   "id": "ecd49cb3-1acb-4b54-b836-d3741331c80f",
   "metadata": {},
   "source": [
    "## TextLineDataset"
   ]
  },
  {
   "cell_type": "code",
   "execution_count": 21,
   "id": "fc23541d-4ce2-49cf-abf6-96b78180f1d4",
   "metadata": {},
   "outputs": [],
   "source": [
    "def parse_csv_records(records):\n",
    "    cols = tf.io.decode_csv(records, record_defaults=[[0], [0], [0], [0]])\n",
    "    features = {'tv': cols[0], 'radio': cols[1], 'newspaper': cols[2]}\n",
    "    label = cols[3]\n",
    "    return features, label"
   ]
  },
  {
   "cell_type": "code",
   "execution_count": 23,
   "id": "fd4c0da9-7e53-4cc5-a760-69f2bfb64f0d",
   "metadata": {
    "scrolled": true,
    "tags": []
   },
   "outputs": [],
   "source": [
    "dataset = tf.data.TextLineDataset('../datasets/advertising.csv')\n",
    "    .map(parse_csv_records)\n",
    "    .shuffle(1000) # IMPORTANT: recommended to shuffle only the training data\n",
    "    .repeat(20)\n",
    "    .batch(100)"
   ]
  },
  {
   "cell_type": "markdown",
   "id": "95ec054c",
   "metadata": {},
   "source": [
    "If we have multiple files on disk, we may want to scan the directory to collect them all"
   ]
  },
  {
   "cell_type": "code",
   "execution_count": 26,
   "id": "4711c00c",
   "metadata": {},
   "outputs": [
    {
     "ename": "AttributeError",
     "evalue": "'ShuffleDataset' object has no attribute 'flat_map_map'",
     "output_type": "error",
     "traceback": [
      "\u001b[0;31m---------------------------------------------------------------------------\u001b[0m",
      "\u001b[0;31mAttributeError\u001b[0m                            Traceback (most recent call last)",
      "Cell \u001b[0;32mIn[26], line 1\u001b[0m\n\u001b[0;32m----> 1\u001b[0m \u001b[43mtf\u001b[49m\u001b[38;5;241;43m.\u001b[39;49m\u001b[43mdata\u001b[49m\u001b[38;5;241;43m.\u001b[39;49m\u001b[43mDataset\u001b[49m\u001b[38;5;241;43m.\u001b[39;49m\u001b[43mlist_files\u001b[49m\u001b[43m(\u001b[49m\u001b[38;5;124;43m'\u001b[39;49m\u001b[38;5;124;43m../datasets/\u001b[39;49m\u001b[38;5;124;43m'\u001b[39;49m\u001b[43m)\u001b[49m\u001b[38;5;241;43m.\u001b[39;49m\u001b[43mflat_map_map\u001b[49m(tf\u001b[38;5;241m.\u001b[39mdata\u001b[38;5;241m.\u001b[39mTextLineDataset)\n",
      "\u001b[0;31mAttributeError\u001b[0m: 'ShuffleDataset' object has no attribute 'flat_map_map'"
     ]
    }
   ],
   "source": [
    "tf.data.Dataset.list_files('../datasets/').flat_map_map(tf.data.TextLineDataset)"
   ]
  },
  {
   "cell_type": "code",
   "execution_count": null,
   "id": "333704f2",
   "metadata": {},
   "outputs": [],
   "source": []
  }
 ],
 "metadata": {
  "kernelspec": {
   "display_name": "Python 3 (ipykernel)",
   "language": "python",
   "name": "python3"
  },
  "language_info": {
   "codemirror_mode": {
    "name": "ipython",
    "version": 3
   },
   "file_extension": ".py",
   "mimetype": "text/x-python",
   "name": "python",
   "nbconvert_exporter": "python",
   "pygments_lexer": "ipython3",
   "version": "3.10.9"
  }
 },
 "nbformat": 4,
 "nbformat_minor": 5
}
