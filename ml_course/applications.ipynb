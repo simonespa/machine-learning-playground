{
 "cells": [
  {
   "cell_type": "markdown",
   "id": "9c22e58c-e2cf-4fa8-96e8-b49698e1efb2",
   "metadata": {},
   "source": [
    "# Applications of Machine Learning\n",
    "\n",
    "- Computer Vision: to interact with and understand digital images and video. Object detection, objects segmentation, facial recognition, image processing\n",
    "- Natural Language Processing: to interact with and understand text, language, grammar, semantic. Examples are speech-to-text, text-to-speech, chatbots\n",
    "- Robotics: to interact with the physical world. They could be specialised in one task, humanoid, etc. Robotis needs perception to get input from the world, and control to interact with the world.\n",
    "- Computational biology: automatic drug discovery, protein structure prediction\n",
    "- Recommender Systems\n",
    "- Expert systems\n",
    "- Planning\n",
    "- Reasoning\n",
    "- Symbolic AI"
   ]
  }
 ],
 "metadata": {
  "kernelspec": {
   "display_name": "Python 3 (ipykernel)",
   "language": "python",
   "name": "python3"
  },
  "language_info": {
   "codemirror_mode": {
    "name": "ipython",
    "version": 3
   },
   "file_extension": ".py",
   "mimetype": "text/x-python",
   "name": "python",
   "nbconvert_exporter": "python",
   "pygments_lexer": "ipython3",
   "version": "3.11.7"
  },
  "widgets": {
   "application/vnd.jupyter.widget-state+json": {
    "state": {},
    "version_major": 2,
    "version_minor": 0
   }
  }
 },
 "nbformat": 4,
 "nbformat_minor": 5
}
