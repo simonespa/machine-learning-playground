{
 "cells": [
  {
   "cell_type": "markdown",
   "id": "e53c354e-c17e-41dd-99b4-ac7202a70a8f",
   "metadata": {},
   "source": [
    "# Python Libraries\n",
    "- [yfinance](https://pypi.org/project/yfinance/)"
   ]
  },
  {
   "cell_type": "markdown",
   "id": "05556d76-705d-4b4e-9392-77698fea68fb",
   "metadata": {},
   "source": [
    "## API\n",
    "\n",
    "Free:\n",
    "- [Alpha Vantage](https://www.alphavantage.co/)\n",
    "- [Tradier](https://documentation.tradier.com/)\n",
    "\n",
    "Paid:\n",
    " [Barchart OnDemand](https://www.barchart.com/ondemand)\n",
    " [Polygon](https://polygon.io/)"
   ]
  },
  {
   "cell_type": "code",
   "execution_count": null,
   "id": "ca7a5028-40fe-44e7-923a-a29c48804406",
   "metadata": {},
   "outputs": [],
   "source": []
  }
 ],
 "metadata": {
  "kernelspec": {
   "display_name": "Python 3 (ipykernel)",
   "language": "python",
   "name": "python3"
  },
  "language_info": {
   "codemirror_mode": {
    "name": "ipython",
    "version": 3
   },
   "file_extension": ".py",
   "mimetype": "text/x-python",
   "name": "python",
   "nbconvert_exporter": "python",
   "pygments_lexer": "ipython3",
   "version": "3.11.7"
  },
  "widgets": {
   "application/vnd.jupyter.widget-state+json": {
    "state": {},
    "version_major": 2,
    "version_minor": 0
   }
  }
 },
 "nbformat": 4,
 "nbformat_minor": 5
}
