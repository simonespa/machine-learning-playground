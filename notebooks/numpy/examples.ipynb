{
 "cells": [
  {
   "cell_type": "markdown",
   "id": "1e353203-74b6-4d31-98aa-7fbeae7e3dea",
   "metadata": {},
   "source": [
    "# Examples"
   ]
  },
  {
   "cell_type": "markdown",
   "id": "cd7953d6-0491-4f7f-b1a1-70dcf8dbf972",
   "metadata": {},
   "source": [
    "## Import numpy as np and see the version"
   ]
  },
  {
   "cell_type": "code",
   "execution_count": 3,
   "id": "bd7ab2cc-a5b8-4376-bb01-7206cf18f89e",
   "metadata": {},
   "outputs": [
    {
     "data": {
      "text/plain": [
       "'1.24.1'"
      ]
     },
     "execution_count": 3,
     "metadata": {},
     "output_type": "execute_result"
    }
   ],
   "source": [
    "import numpy as np\n",
    "np.__version__"
   ]
  },
  {
   "cell_type": "markdown",
   "id": "d9260ef0-fd70-4f6b-9cc1-95d08732eb3b",
   "metadata": {},
   "source": [
    "## How to create a 1D array\n",
    "\n",
    "Create a 1D array of numbers from 0 to 9"
   ]
  },
  {
   "cell_type": "code",
   "execution_count": 6,
   "id": "880db502-2edc-4c24-8eef-fa3182429ed9",
   "metadata": {},
   "outputs": [
    {
     "data": {
      "text/plain": [
       "array([0, 1, 2, 3, 4, 5, 6, 7, 8, 9])"
      ]
     },
     "execution_count": 6,
     "metadata": {},
     "output_type": "execute_result"
    }
   ],
   "source": [
    "np.arange(10)"
   ]
  },
  {
   "cell_type": "markdown",
   "id": "2826c3f9-7884-4c83-b8a3-99604fc19a8c",
   "metadata": {},
   "source": [
    "## How to create a boolean array\n",
    "\n",
    "Create a 3×3 numpy array of all True’s"
   ]
  },
  {
   "cell_type": "code",
   "execution_count": 7,
   "id": "c71bf4c9-069e-4c37-b87a-512d5f0d3e8f",
   "metadata": {},
   "outputs": [
    {
     "data": {
      "text/plain": [
       "array([[ True,  True,  True],\n",
       "       [ True,  True,  True],\n",
       "       [ True,  True,  True]])"
      ]
     },
     "execution_count": 7,
     "metadata": {},
     "output_type": "execute_result"
    }
   ],
   "source": [
    "np.full((3, 3), True)"
   ]
  },
  {
   "cell_type": "markdown",
   "id": "7142bccb-ea60-4fe0-99fe-41b9cb94422a",
   "metadata": {},
   "source": [
    "## How to extract items that satisfy a given condition from 1D array\n",
    "\n",
    "Extract all odd numbers from `array`"
   ]
  },
  {
   "cell_type": "code",
   "execution_count": 93,
   "id": "0638544d-ecc5-4b63-b75d-cfd1a4d6fb35",
   "metadata": {},
   "outputs": [
    {
     "data": {
      "text/plain": [
       "array([10, 11, 12, 13, 14, 15, 16, 17, 18, 19, 20])"
      ]
     },
     "execution_count": 93,
     "metadata": {},
     "output_type": "execute_result"
    }
   ],
   "source": [
    "array = np.arange(10, 21)\n",
    "array"
   ]
  },
  {
   "cell_type": "code",
   "execution_count": 94,
   "id": "5f688795-bafe-430a-bfaa-ae7468f28888",
   "metadata": {},
   "outputs": [
    {
     "data": {
      "text/plain": [
       "array([11, 13, 15, 17, 19])"
      ]
     },
     "execution_count": 94,
     "metadata": {},
     "output_type": "execute_result"
    }
   ],
   "source": [
    "array[array % 2 != 0]"
   ]
  },
  {
   "cell_type": "markdown",
   "id": "6e843a84-eb32-4bba-b49a-72059aa96881",
   "metadata": {},
   "source": [
    "## How to replace items that satisfy a condition with another value in numpy array\n",
    "\n",
    "Replace all odd numbers in `array` with -1"
   ]
  },
  {
   "cell_type": "code",
   "execution_count": 29,
   "id": "4654777b-7d68-4ec0-89ee-d0bba767df53",
   "metadata": {},
   "outputs": [
    {
     "data": {
      "text/plain": [
       "array([ 0,  1,  2,  3,  4,  5,  6,  7,  8,  9, 10])"
      ]
     },
     "execution_count": 29,
     "metadata": {},
     "output_type": "execute_result"
    }
   ],
   "source": [
    "array = np.arange(11)\n",
    "array"
   ]
  },
  {
   "cell_type": "code",
   "execution_count": 30,
   "id": "daa96547-05cd-4f28-853b-7255696a001c",
   "metadata": {},
   "outputs": [
    {
     "data": {
      "text/plain": [
       "array([ 0, -1,  2, -1,  4, -1,  6, -1,  8, -1, 10])"
      ]
     },
     "execution_count": 30,
     "metadata": {},
     "output_type": "execute_result"
    }
   ],
   "source": [
    "array[array % 2 != 0] = -1\n",
    "array"
   ]
  },
  {
   "cell_type": "markdown",
   "id": "ef795751-35b0-4760-9911-6649536d6418",
   "metadata": {},
   "source": [
    "## How to replace items that satisfy a condition without affecting the original array\n",
    "\n",
    "Replace all odd numbers in `array` with -1 without changing the original array"
   ]
  },
  {
   "cell_type": "code",
   "execution_count": 36,
   "id": "9032f894-10e5-4004-999d-91fee534e18f",
   "metadata": {},
   "outputs": [
    {
     "data": {
      "text/plain": [
       "array([ 0,  1,  2,  3,  4,  5,  6,  7,  8,  9, 10])"
      ]
     },
     "execution_count": 36,
     "metadata": {},
     "output_type": "execute_result"
    }
   ],
   "source": [
    "array = np.arange(11)\n",
    "array"
   ]
  },
  {
   "cell_type": "code",
   "execution_count": 37,
   "id": "da4c82fc-a942-4d9c-9cbc-36d779099f46",
   "metadata": {},
   "outputs": [],
   "source": [
    "copy_array = array.copy()\n",
    "copy_array[copy_array % 2 != 0] = -1"
   ]
  },
  {
   "cell_type": "code",
   "execution_count": 38,
   "id": "364d4f3c-c15f-4c14-83a4-4514eb23084e",
   "metadata": {},
   "outputs": [
    {
     "data": {
      "text/plain": [
       "array([ 0, -1,  2, -1,  4, -1,  6, -1,  8, -1, 10])"
      ]
     },
     "execution_count": 38,
     "metadata": {},
     "output_type": "execute_result"
    }
   ],
   "source": [
    "copy_array"
   ]
  },
  {
   "cell_type": "code",
   "execution_count": 39,
   "id": "41c4c2f7-dd8e-4f01-a5f8-c2ad53d2b97a",
   "metadata": {},
   "outputs": [
    {
     "data": {
      "text/plain": [
       "array([ 0,  1,  2,  3,  4,  5,  6,  7,  8,  9, 10])"
      ]
     },
     "execution_count": 39,
     "metadata": {},
     "output_type": "execute_result"
    }
   ],
   "source": [
    "array"
   ]
  },
  {
   "cell_type": "markdown",
   "id": "b311c3ea-011f-4fd0-9eaa-60c645114fb2",
   "metadata": {},
   "source": [
    "or you can also use `where`"
   ]
  },
  {
   "cell_type": "code",
   "execution_count": 45,
   "id": "63c5a7b4-ed64-44af-808d-bcb066c4297c",
   "metadata": {},
   "outputs": [
    {
     "data": {
      "text/plain": [
       "array([ 0, -1,  2, -1,  4, -1,  6, -1,  8, -1, 10])"
      ]
     },
     "execution_count": 45,
     "metadata": {},
     "output_type": "execute_result"
    }
   ],
   "source": [
    "array = np.arange(11)\n",
    "np.where(array % 2 != 0, -1, array)"
   ]
  },
  {
   "cell_type": "code",
   "execution_count": 46,
   "id": "b6cdc671-5731-4cba-a474-54836f69fe73",
   "metadata": {},
   "outputs": [
    {
     "data": {
      "text/plain": [
       "array([ 0,  1,  2,  3,  4,  5,  6,  7,  8,  9, 10])"
      ]
     },
     "execution_count": 46,
     "metadata": {},
     "output_type": "execute_result"
    }
   ],
   "source": [
    "array"
   ]
  },
  {
   "cell_type": "markdown",
   "id": "69672f90-593b-43b7-8b76-fdc81d00ff48",
   "metadata": {},
   "source": [
    "## How to reshape an array"
   ]
  },
  {
   "cell_type": "code",
   "execution_count": 56,
   "id": "56753459-899c-4298-9c38-2a112e733e65",
   "metadata": {},
   "outputs": [
    {
     "data": {
      "text/plain": [
       "array([[ 0,  1,  2,  3,  4,  5,  6,  7,  8,  9, 10, 11, 12, 13, 14, 15,\n",
       "        16],\n",
       "       [17, 18, 19, 20, 21, 22, 23, 24, 25, 26, 27, 28, 29, 30, 31, 32,\n",
       "        33],\n",
       "       [34, 35, 36, 37, 38, 39, 40, 41, 42, 43, 44, 45, 46, 47, 48, 49,\n",
       "        50]])"
      ]
     },
     "execution_count": 56,
     "metadata": {},
     "output_type": "execute_result"
    }
   ],
   "source": [
    "np.arange(51).reshape(3, -1) # the -1 automatically decides how many columns left"
   ]
  },
  {
   "cell_type": "markdown",
   "id": "c8d90ae8-9e51-41f0-8a2f-9cec088b19d4",
   "metadata": {},
   "source": [
    "## How to generate automatic custom sequences\n",
    "\n",
    "Create the following pattern without hardcoding. Use only numpy functions and the below input array a.\n",
    "\n",
    "Desired input\n",
    "\n",
    "```\n",
    "a = np.array([1,2,3])\n",
    "```\n",
    "\n",
    "Desired output\n",
    "\n",
    "```\n",
    "array([1, 1, 1, 2, 2, 2, 3, 3, 3, 1, 2, 3, 1, 2, 3, 1, 2, 3])\n",
    "```"
   ]
  },
  {
   "cell_type": "code",
   "execution_count": 57,
   "id": "1c95e4b6-9a7f-46c6-9b57-817c70c52773",
   "metadata": {},
   "outputs": [],
   "source": [
    "a = np.array([1,2,3])"
   ]
  },
  {
   "cell_type": "markdown",
   "id": "bfb54bb0-4ccd-46d6-8ecf-4feaf5fa8de0",
   "metadata": {},
   "source": [
    "We can use `repeat` and `tile` to generate the two patterns"
   ]
  },
  {
   "cell_type": "code",
   "execution_count": 72,
   "id": "a8a971f1-1fd2-4579-bb5e-8b1f11461f95",
   "metadata": {},
   "outputs": [
    {
     "data": {
      "text/plain": [
       "array([1, 1, 1, 2, 2, 2, 3, 3, 3])"
      ]
     },
     "execution_count": 72,
     "metadata": {},
     "output_type": "execute_result"
    }
   ],
   "source": [
    "p1 = np.repeat(a, 3)\n",
    "p1"
   ]
  },
  {
   "cell_type": "code",
   "execution_count": 73,
   "id": "e639317a-090a-440d-8852-18300ce6ab0f",
   "metadata": {},
   "outputs": [
    {
     "data": {
      "text/plain": [
       "array([1, 2, 3, 1, 2, 3, 1, 2, 3])"
      ]
     },
     "execution_count": 73,
     "metadata": {},
     "output_type": "execute_result"
    }
   ],
   "source": [
    "p2 = np.tile(a, 3)\n",
    "p2"
   ]
  },
  {
   "cell_type": "markdown",
   "id": "5c0d5d8c-5150-468d-afb0-358b06fd50cc",
   "metadata": {},
   "source": [
    "and then we can concatenate the results together with various methods"
   ]
  },
  {
   "cell_type": "code",
   "execution_count": 75,
   "id": "fb6942cd-4581-4f3c-a93b-3bfe0177f8ab",
   "metadata": {},
   "outputs": [
    {
     "data": {
      "text/plain": [
       "array([1, 1, 1, 2, 2, 2, 3, 3, 3, 1, 2, 3, 1, 2, 3, 1, 2, 3])"
      ]
     },
     "execution_count": 75,
     "metadata": {},
     "output_type": "execute_result"
    }
   ],
   "source": [
    "np.concatenate((p1, p2))"
   ]
  },
  {
   "cell_type": "code",
   "execution_count": 77,
   "id": "e63f9b25-91f4-40ee-94da-6c65c297881f",
   "metadata": {},
   "outputs": [
    {
     "data": {
      "text/plain": [
       "array([1, 1, 1, 2, 2, 2, 3, 3, 3, 1, 2, 3, 1, 2, 3, 1, 2, 3])"
      ]
     },
     "execution_count": 77,
     "metadata": {},
     "output_type": "execute_result"
    }
   ],
   "source": [
    "np.hstack((p1, p2))"
   ]
  },
  {
   "cell_type": "markdown",
   "id": "88a3d2d6-345d-4568-bda9-99ecc47d2c1a",
   "metadata": {},
   "source": [
    "## How to get the common items between two python numpy arrays\n",
    "\n",
    "Get the common items between a and b"
   ]
  },
  {
   "cell_type": "code",
   "execution_count": 79,
   "id": "75872827-7be2-4f16-91da-e88017a99220",
   "metadata": {},
   "outputs": [],
   "source": [
    "a = [1, 3, 7, 11, 22]\n",
    "b = [22, 7, 13]"
   ]
  },
  {
   "cell_type": "code",
   "execution_count": 80,
   "id": "4fa02657-1bed-4218-819d-4f2dd519fc3a",
   "metadata": {},
   "outputs": [
    {
     "data": {
      "text/plain": [
       "array([ 7, 22])"
      ]
     },
     "execution_count": 80,
     "metadata": {},
     "output_type": "execute_result"
    }
   ],
   "source": [
    "np.intersect1d(a, b)"
   ]
  },
  {
   "cell_type": "markdown",
   "id": "9823ff70-aea0-4fe8-a703-1fd6c20310c6",
   "metadata": {},
   "source": [
    "## How to remove from one array those items that exist in another\n",
    "\n",
    "From array `a` remove all items present in array `b`"
   ]
  },
  {
   "cell_type": "code",
   "execution_count": 84,
   "id": "5a882d2d-f862-4e95-b51c-526a4d408698",
   "metadata": {},
   "outputs": [],
   "source": [
    "a = np.array([1,2,3,4,5])\n",
    "b = np.array([4, 5,6,7,8])"
   ]
  },
  {
   "cell_type": "code",
   "execution_count": 85,
   "id": "8b89a034-9968-4a98-ae2b-3cd2ac302b5d",
   "metadata": {},
   "outputs": [
    {
     "data": {
      "text/plain": [
       "array([1, 2, 3])"
      ]
     },
     "execution_count": 85,
     "metadata": {},
     "output_type": "execute_result"
    }
   ],
   "source": [
    "np.setdiff1d(a, b)"
   ]
  },
  {
   "cell_type": "code",
   "execution_count": 86,
   "id": "53787960-f3b0-4394-89b9-14841c8d100f",
   "metadata": {},
   "outputs": [
    {
     "data": {
      "text/plain": [
       "array([6, 7, 8])"
      ]
     },
     "execution_count": 86,
     "metadata": {},
     "output_type": "execute_result"
    }
   ],
   "source": [
    "np.setdiff1d(b, a)"
   ]
  },
  {
   "cell_type": "markdown",
   "id": "9b38ceba-6224-4c8b-b64c-446ba446c1d3",
   "metadata": {},
   "source": [
    "## How to get the indexes of matching elements"
   ]
  },
  {
   "cell_type": "code",
   "execution_count": 88,
   "id": "2e26860d-efd0-4004-9c04-5a5b51eea8ac",
   "metadata": {},
   "outputs": [],
   "source": [
    "a = np.array([1,2,3,2,3,4,3,4,5,6])\n",
    "b = np.array([7,2,10,2,7,4,9,4,9,8])"
   ]
  },
  {
   "cell_type": "code",
   "execution_count": 95,
   "id": "e0eb9d47-c2e9-4c66-8e8c-9a1f7b0cf66f",
   "metadata": {},
   "outputs": [
    {
     "data": {
      "text/plain": [
       "(array([1, 3, 5, 7]),)"
      ]
     },
     "execution_count": 95,
     "metadata": {},
     "output_type": "execute_result"
    }
   ],
   "source": [
    "np.where(a == b)"
   ]
  },
  {
   "cell_type": "markdown",
   "id": "d2536990-96ac-45a0-80d7-316a62073241",
   "metadata": {},
   "source": [
    "## How to extract all numbers between a given range from a numpy array\n",
    "\n",
    "Get all items between 5 and 10 from a."
   ]
  },
  {
   "cell_type": "code",
   "execution_count": 96,
   "id": "0493c94c-746b-49c7-8c14-69626e108530",
   "metadata": {},
   "outputs": [],
   "source": [
    "a = np.array([2, 6, 1, 9, 10, 3, 27])"
   ]
  },
  {
   "cell_type": "markdown",
   "id": "e74661f5-6a37-40e9-b142-e0602f5e9632",
   "metadata": {
    "jp-MarkdownHeadingCollapsed": true,
    "tags": []
   },
   "source": [
    "**Method 1**"
   ]
  },
  {
   "cell_type": "code",
   "execution_count": 100,
   "id": "ef8dc604-d8bd-4710-adcd-a7b41c2cb64f",
   "metadata": {},
   "outputs": [
    {
     "data": {
      "text/plain": [
       "array([ 6,  9, 10])"
      ]
     },
     "execution_count": 100,
     "metadata": {},
     "output_type": "execute_result"
    }
   ],
   "source": [
    "a[np.where((a >= 5) & (a <= 10))]"
   ]
  },
  {
   "cell_type": "markdown",
   "id": "3bd32ef1-a6e2-4450-80c5-9a427e929614",
   "metadata": {
    "jp-MarkdownHeadingCollapsed": true,
    "tags": []
   },
   "source": [
    "**Method 2**"
   ]
  },
  {
   "cell_type": "code",
   "execution_count": 101,
   "id": "aa1719c9-e96a-4295-8b27-7cd7bec85219",
   "metadata": {},
   "outputs": [
    {
     "data": {
      "text/plain": [
       "array([ 6,  9, 10])"
      ]
     },
     "execution_count": 101,
     "metadata": {},
     "output_type": "execute_result"
    }
   ],
   "source": [
    "a[np.where(np.logical_and(a >= 5, a <= 10))]"
   ]
  },
  {
   "cell_type": "markdown",
   "id": "ed6da63c-3e98-4778-bd4b-027630fd9765",
   "metadata": {
    "jp-MarkdownHeadingCollapsed": true,
    "tags": []
   },
   "source": [
    "**Method 3**"
   ]
  },
  {
   "cell_type": "code",
   "execution_count": 103,
   "id": "faaa8a10-45bd-4841-877e-34fc7ab9b39d",
   "metadata": {},
   "outputs": [
    {
     "data": {
      "text/plain": [
       "array([ 6,  9, 10])"
      ]
     },
     "execution_count": 103,
     "metadata": {},
     "output_type": "execute_result"
    }
   ],
   "source": [
    "a[(a >= 5) & (a <= 10)]"
   ]
  },
  {
   "cell_type": "markdown",
   "id": "ffa68024-99a2-493d-ad13-b369da4d3965",
   "metadata": {},
   "source": [
    "## How to make a python function that handles scalars to work on numpy arrays\n",
    "\n",
    "Convert the following function that works on two scalars, to work on two arrays.\n",
    "\n",
    "```python\n",
    "def vector_max(x, y):\n",
    "    \"\"\"Get the maximum of two items\"\"\"\n",
    "    if x >= y:\n",
    "        return x\n",
    "    else:\n",
    "        return y\n",
    "```"
   ]
  },
  {
   "cell_type": "code",
   "execution_count": 105,
   "id": "c0686991-aa85-4040-ad5c-e3242da100ec",
   "metadata": {},
   "outputs": [],
   "source": [
    "def vector_max(x, y):\n",
    "    \"\"\"Get the maximum of two items\"\"\"\n",
    "    if x >= y:\n",
    "        return x\n",
    "    else:\n",
    "        return y"
   ]
  },
  {
   "cell_type": "code",
   "execution_count": 106,
   "id": "c9fb7e85-adb9-4cef-8c5f-92d26dc8e362",
   "metadata": {},
   "outputs": [
    {
     "data": {
      "text/plain": [
       "5"
      ]
     },
     "execution_count": 106,
     "metadata": {},
     "output_type": "execute_result"
    }
   ],
   "source": [
    "vector_max(1, 5)"
   ]
  },
  {
   "cell_type": "code",
   "execution_count": 118,
   "id": "7a0a87be-4700-4933-86b5-eab92964c929",
   "metadata": {},
   "outputs": [
    {
     "data": {
      "text/plain": [
       "array([ 3,  5, -1])"
      ]
     },
     "execution_count": 118,
     "metadata": {},
     "output_type": "execute_result"
    }
   ],
   "source": [
    "np.vectorize(vector_max)([1, 0, -1], [3, 5, -3])"
   ]
  },
  {
   "cell_type": "markdown",
   "id": "e04555af-f417-4e46-98dc-e4dec8ec6ddc",
   "metadata": {},
   "source": [
    "## How to compute the mean, median, standard deviation of a numpy array\n",
    "\n",
    "Find the mean, median, variance and standard deviation of the following array."
   ]
  },
  {
   "cell_type": "code",
   "execution_count": 150,
   "id": "c7f81586-2460-42b1-97f1-38c7f4d27b91",
   "metadata": {},
   "outputs": [
    {
     "data": {
      "text/plain": [
       "array([225, 104, 887, 113, 548, 938, 787, 703, 738, 482, 352, 151, 516,\n",
       "        30, 539, 727, 519, 580, 707, 809, 157, 155, 694, 563,  74, 340,\n",
       "       291, 156, 432, 265,  38, 653, 585, 941,  88, 638, 410, 404, 974,\n",
       "       163, 210, 550, 274, 457, 990, 461, 723, 508, 258, 754])"
      ]
     },
     "execution_count": 150,
     "metadata": {},
     "output_type": "execute_result"
    }
   ],
   "source": [
    "a = np.random.randint(low=1, high=1000, size=50)\n",
    "a"
   ]
  },
  {
   "cell_type": "code",
   "execution_count": 151,
   "id": "25d34c7c-179a-44b8-9a68-3a18eb334532",
   "metadata": {},
   "outputs": [
    {
     "data": {
      "text/plain": [
       "495.0"
      ]
     },
     "execution_count": 151,
     "metadata": {},
     "output_type": "execute_result"
    }
   ],
   "source": [
    "np.median(a)"
   ]
  },
  {
   "cell_type": "code",
   "execution_count": 152,
   "id": "2ec64948-60d9-4c36-8133-55018715b5c5",
   "metadata": {},
   "outputs": [
    {
     "data": {
      "text/plain": [
       "473.22"
      ]
     },
     "execution_count": 152,
     "metadata": {},
     "output_type": "execute_result"
    }
   ],
   "source": [
    "np.mean(a)"
   ]
  },
  {
   "cell_type": "code",
   "execution_count": 153,
   "id": "c9d2f5b2-b39e-42d0-8fba-1b40acd83705",
   "metadata": {},
   "outputs": [
    {
     "data": {
      "text/plain": [
       "473.22"
      ]
     },
     "execution_count": 153,
     "metadata": {},
     "output_type": "execute_result"
    }
   ],
   "source": [
    "a.mean()"
   ]
  },
  {
   "cell_type": "code",
   "execution_count": 154,
   "id": "7224c873-5a4c-46c8-874a-2bd523a9d0ca",
   "metadata": {},
   "outputs": [
    {
     "data": {
      "text/plain": [
       "271.2181623711804"
      ]
     },
     "execution_count": 154,
     "metadata": {},
     "output_type": "execute_result"
    }
   ],
   "source": [
    "np.std(a)"
   ]
  },
  {
   "cell_type": "code",
   "execution_count": 155,
   "id": "53f81cc1-776f-4b44-8134-d0a6869b2fd8",
   "metadata": {},
   "outputs": [
    {
     "data": {
      "text/plain": [
       "271.2181623711804"
      ]
     },
     "execution_count": 155,
     "metadata": {},
     "output_type": "execute_result"
    }
   ],
   "source": [
    "a.std()"
   ]
  },
  {
   "cell_type": "code",
   "execution_count": 156,
   "id": "3ee7c926-a8c5-4a69-8581-f127acf0ca4e",
   "metadata": {},
   "outputs": [
    {
     "data": {
      "text/plain": [
       "73559.2916"
      ]
     },
     "execution_count": 156,
     "metadata": {},
     "output_type": "execute_result"
    }
   ],
   "source": [
    "np.var(a)"
   ]
  },
  {
   "cell_type": "code",
   "execution_count": 157,
   "id": "56f64562-3bf2-4b15-a324-85edf787d51c",
   "metadata": {},
   "outputs": [
    {
     "data": {
      "text/plain": [
       "73559.2916"
      ]
     },
     "execution_count": 157,
     "metadata": {},
     "output_type": "execute_result"
    }
   ],
   "source": [
    "a.var()"
   ]
  },
  {
   "cell_type": "markdown",
   "id": "26dfb15f-6817-44e3-a6e3-7ba078a74e21",
   "metadata": {},
   "source": [
    "## How to find the percentile scores of a numpy array\n",
    "\n",
    "Find the 5th and 95th percentile of the following distribution"
   ]
  },
  {
   "cell_type": "code",
   "execution_count": 168,
   "id": "cb40bfb8-34ea-41a1-ba24-7078d00f6117",
   "metadata": {},
   "outputs": [],
   "source": [
    "a = np.random.randint(low=0, high=10000, size=1000)"
   ]
  },
  {
   "cell_type": "code",
   "execution_count": 169,
   "id": "9a2d4940-8aaf-4345-8435-a3f5cfc50e0e",
   "metadata": {},
   "outputs": [
    {
     "data": {
      "text/plain": [
       "array([ 419.85, 9436.3 ])"
      ]
     },
     "execution_count": 169,
     "metadata": {},
     "output_type": "execute_result"
    }
   ],
   "source": [
    "np.percentile(a, q=[5, 95])"
   ]
  },
  {
   "cell_type": "code",
   "execution_count": null,
   "id": "978cca19-ec91-4013-b0ed-244cae1a1ed7",
   "metadata": {},
   "outputs": [],
   "source": []
  }
 ],
 "metadata": {
  "kernelspec": {
   "display_name": "Python 3 (ipykernel)",
   "language": "python",
   "name": "python3"
  },
  "language_info": {
   "codemirror_mode": {
    "name": "ipython",
    "version": 3
   },
   "file_extension": ".py",
   "mimetype": "text/x-python",
   "name": "python",
   "nbconvert_exporter": "python",
   "pygments_lexer": "ipython3",
   "version": "3.10.9"
  },
  "toc-autonumbering": false
 },
 "nbformat": 4,
 "nbformat_minor": 5
}
