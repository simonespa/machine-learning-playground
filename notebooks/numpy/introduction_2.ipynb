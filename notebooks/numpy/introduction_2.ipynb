{
 "cells": [
  {
   "cell_type": "markdown",
   "id": "d1366327-03b2-46b6-bb52-c16b50b08c34",
   "metadata": {},
   "source": [
    "# Numpy"
   ]
  },
  {
   "cell_type": "code",
   "execution_count": 1,
   "id": "27588a63-bc20-4fbb-bd4c-b283985580e9",
   "metadata": {},
   "outputs": [],
   "source": [
    "import numpy as np"
   ]
  },
  {
   "cell_type": "code",
   "execution_count": 2,
   "id": "721c5bcd-c48c-4652-93ee-80088389a84d",
   "metadata": {},
   "outputs": [
    {
     "name": "stdout",
     "output_type": "stream",
     "text": [
      "1.24.1\n"
     ]
    }
   ],
   "source": [
    "print(np.__version__)"
   ]
  },
  {
   "cell_type": "markdown",
   "id": "27744c73-fa35-4245-9582-a60e7833424f",
   "metadata": {
    "tags": []
   },
   "source": [
    "## Addition"
   ]
  },
  {
   "cell_type": "markdown",
   "id": "6747a0af-f698-414e-804e-44192dc1580c",
   "metadata": {},
   "source": [
    "### Array by Array"
   ]
  },
  {
   "cell_type": "code",
   "execution_count": 3,
   "id": "381ae173-223a-4ef8-a790-ec1a24819155",
   "metadata": {},
   "outputs": [],
   "source": [
    "a1 = np.array([2, 3, 4, 5])\n",
    "b1 = np.array([-1, 10, -23, 7])"
   ]
  },
  {
   "cell_type": "code",
   "execution_count": 4,
   "id": "885ed0f8-3dca-4f8f-841e-36afbab6e324",
   "metadata": {},
   "outputs": [
    {
     "data": {
      "text/plain": [
       "array([  1,  13, -19,  12])"
      ]
     },
     "execution_count": 4,
     "metadata": {},
     "output_type": "execute_result"
    }
   ],
   "source": [
    "a1 + b1"
   ]
  },
  {
   "cell_type": "code",
   "execution_count": 5,
   "id": "24154c1e-d052-4bb5-bcdb-ea54c2e36047",
   "metadata": {},
   "outputs": [
    {
     "data": {
      "text/plain": [
       "array([  1,  13, -19,  12])"
      ]
     },
     "execution_count": 5,
     "metadata": {},
     "output_type": "execute_result"
    }
   ],
   "source": [
    "b1 + a1"
   ]
  },
  {
   "cell_type": "markdown",
   "id": "456f3938-88df-4457-9218-208ea15b19cd",
   "metadata": {},
   "source": [
    "### Array by Scalar"
   ]
  },
  {
   "cell_type": "code",
   "execution_count": 6,
   "id": "78c2401e-924c-4740-9edc-db539f99747d",
   "metadata": {},
   "outputs": [
    {
     "data": {
      "text/plain": [
       "array([5, 5, 5, 5])"
      ]
     },
     "execution_count": 6,
     "metadata": {},
     "output_type": "execute_result"
    }
   ],
   "source": [
    "np.array([2, 2, 2, 2]) + 3"
   ]
  },
  {
   "cell_type": "code",
   "execution_count": 7,
   "id": "4cc23bc7-9397-47f0-88b8-4a9c34d9fba7",
   "metadata": {},
   "outputs": [
    {
     "data": {
      "text/plain": [
       "array([5, 5, 5, 5])"
      ]
     },
     "execution_count": 7,
     "metadata": {},
     "output_type": "execute_result"
    }
   ],
   "source": [
    "3 + np.array([2, 2, 2, 2])"
   ]
  },
  {
   "cell_type": "code",
   "execution_count": 8,
   "id": "5c3b8e1d-df04-4e47-8bb7-1d6267be0c9d",
   "metadata": {},
   "outputs": [
    {
     "data": {
      "text/plain": [
       "array([-2, -2, -2, -2])"
      ]
     },
     "execution_count": 8,
     "metadata": {},
     "output_type": "execute_result"
    }
   ],
   "source": [
    "- np.array([2, 2, 2, 2])"
   ]
  },
  {
   "cell_type": "markdown",
   "id": "c0146042-d2ff-4922-8841-b3f8c21f52b0",
   "metadata": {},
   "source": [
    "## Multiplication"
   ]
  },
  {
   "cell_type": "markdown",
   "id": "5c797eaa-185a-4d84-8f2e-2add62e839c6",
   "metadata": {},
   "source": [
    "### Array by Array"
   ]
  },
  {
   "cell_type": "code",
   "execution_count": 9,
   "id": "7f4ceb15-7f59-4283-b3c3-349de7314d37",
   "metadata": {},
   "outputs": [],
   "source": [
    "a2 = np.array([2, 3, 4, 5])\n",
    "b2 = np.array([-1, 10, -23, 7])"
   ]
  },
  {
   "cell_type": "code",
   "execution_count": 10,
   "id": "3dca1ab2-1968-4299-a16c-e78512716838",
   "metadata": {},
   "outputs": [
    {
     "data": {
      "text/plain": [
       "array([ -2,  30, -92,  35])"
      ]
     },
     "execution_count": 10,
     "metadata": {},
     "output_type": "execute_result"
    }
   ],
   "source": [
    "a2 * b2"
   ]
  },
  {
   "cell_type": "code",
   "execution_count": 11,
   "id": "79df4d1c-03c7-40af-9f2d-5cd4f2240e99",
   "metadata": {},
   "outputs": [
    {
     "data": {
      "text/plain": [
       "array([ -2,  30, -92,  35])"
      ]
     },
     "execution_count": 11,
     "metadata": {},
     "output_type": "execute_result"
    }
   ],
   "source": [
    "b2 * a2"
   ]
  },
  {
   "cell_type": "markdown",
   "id": "1ab2ba25-fb36-4964-be45-e2e46caafbed",
   "metadata": {},
   "source": [
    "### Array by Scalar"
   ]
  },
  {
   "cell_type": "code",
   "execution_count": 12,
   "id": "23643911-c88b-4769-b4ca-2adeaa34e555",
   "metadata": {},
   "outputs": [
    {
     "data": {
      "text/plain": [
       "array([6, 6, 6, 6])"
      ]
     },
     "execution_count": 12,
     "metadata": {},
     "output_type": "execute_result"
    }
   ],
   "source": [
    "np.array([2, 2, 2, 2]) * 3"
   ]
  },
  {
   "cell_type": "code",
   "execution_count": 13,
   "id": "d538b33d-f0ce-4400-8c5c-2e93a4af06a3",
   "metadata": {},
   "outputs": [
    {
     "data": {
      "text/plain": [
       "array([6, 6, 6, 6])"
      ]
     },
     "execution_count": 13,
     "metadata": {},
     "output_type": "execute_result"
    }
   ],
   "source": [
    "3 * np.array([2, 2, 2, 2])"
   ]
  },
  {
   "cell_type": "markdown",
   "id": "b144181a-7f46-40b7-8250-6a49a26802af",
   "metadata": {},
   "source": [
    "### Matrix by Matrix"
   ]
  },
  {
   "cell_type": "code",
   "execution_count": 14,
   "id": "d1abdee2-71ba-4ac1-9917-c0ae1fb2c5a7",
   "metadata": {},
   "outputs": [],
   "source": [
    "m1 = np.array([[1,2,3],\n",
    "              [4,5,6],\n",
    "              [7,8,9]])\n",
    "\n",
    "m2 = np.array([2,3,4])"
   ]
  },
  {
   "cell_type": "code",
   "execution_count": 15,
   "id": "7133efc0-19fe-4b65-84b7-931987acff03",
   "metadata": {},
   "outputs": [
    {
     "data": {
      "text/plain": [
       "array([[ 2,  6, 12],\n",
       "       [ 8, 15, 24],\n",
       "       [14, 24, 36]])"
      ]
     },
     "execution_count": 15,
     "metadata": {},
     "output_type": "execute_result"
    }
   ],
   "source": [
    "m1 * m2"
   ]
  },
  {
   "cell_type": "code",
   "execution_count": 16,
   "id": "8cd325ec-fc4d-4c80-8aeb-40cc1f68f1ca",
   "metadata": {},
   "outputs": [
    {
     "data": {
      "text/plain": [
       "array([20, 47, 74])"
      ]
     },
     "execution_count": 16,
     "metadata": {},
     "output_type": "execute_result"
    }
   ],
   "source": [
    "m1 @ m2"
   ]
  },
  {
   "cell_type": "code",
   "execution_count": 17,
   "id": "66f028df-36ab-4083-9efc-363110c92683",
   "metadata": {},
   "outputs": [
    {
     "data": {
      "text/plain": [
       "array([20, 47, 74])"
      ]
     },
     "execution_count": 17,
     "metadata": {},
     "output_type": "execute_result"
    }
   ],
   "source": [
    "np.matmul(m1, m2)"
   ]
  },
  {
   "cell_type": "markdown",
   "id": "089bc973-1e35-44ed-a192-415817fae3d4",
   "metadata": {},
   "source": [
    "## Matrix generation"
   ]
  },
  {
   "cell_type": "code",
   "execution_count": 18,
   "id": "f4076369-46c9-4d5f-ac30-b7357beb16af",
   "metadata": {},
   "outputs": [
    {
     "data": {
      "text/plain": [
       "array([[1., 0., 0.],\n",
       "       [0., 1., 0.],\n",
       "       [0., 0., 1.]])"
      ]
     },
     "execution_count": 18,
     "metadata": {},
     "output_type": "execute_result"
    }
   ],
   "source": [
    "np.eye(3)"
   ]
  },
  {
   "cell_type": "code",
   "execution_count": 19,
   "id": "477eec8c-c26e-4e5f-b8c5-bc9754e681f2",
   "metadata": {},
   "outputs": [
    {
     "data": {
      "text/plain": [
       "array([[0, 0, 0],\n",
       "       [0, 0, 0]])"
      ]
     },
     "execution_count": 19,
     "metadata": {},
     "output_type": "execute_result"
    }
   ],
   "source": [
    "np.full((2, 3), 0)"
   ]
  },
  {
   "cell_type": "code",
   "execution_count": 20,
   "id": "b54751f8-0a30-43b9-9eed-1848d7c630be",
   "metadata": {},
   "outputs": [
    {
     "data": {
      "text/plain": [
       "array([[1, 1, 1],\n",
       "       [1, 1, 1],\n",
       "       [1, 1, 1]])"
      ]
     },
     "execution_count": 20,
     "metadata": {},
     "output_type": "execute_result"
    }
   ],
   "source": [
    "np.full((3, 3), 1)"
   ]
  },
  {
   "cell_type": "code",
   "execution_count": 21,
   "id": "af6c0c77-7104-43e8-983f-881ed7b6f724",
   "metadata": {},
   "outputs": [
    {
     "data": {
      "text/plain": [
       "array([[1., 1., 1.],\n",
       "       [1., 1., 1.],\n",
       "       [1., 1., 1.]])"
      ]
     },
     "execution_count": 21,
     "metadata": {},
     "output_type": "execute_result"
    }
   ],
   "source": [
    "np.ones((3, 3))"
   ]
  },
  {
   "cell_type": "code",
   "execution_count": 22,
   "id": "4d6e0367-233d-45f3-a197-3c7b003961a0",
   "metadata": {},
   "outputs": [
    {
     "data": {
      "text/plain": [
       "array([1, 2, 3, 1, 2, 3, 1, 2, 3])"
      ]
     },
     "execution_count": 22,
     "metadata": {},
     "output_type": "execute_result"
    }
   ],
   "source": [
    "np.tile([1, 2, 3], 3)"
   ]
  },
  {
   "cell_type": "code",
   "execution_count": 23,
   "id": "3ec3c197-7b0d-43e2-a4a1-c3dad76c2d97",
   "metadata": {},
   "outputs": [
    {
     "data": {
      "text/plain": [
       "array([[6, 3, 7],\n",
       "       [4, 6, 9],\n",
       "       [2, 6, 7]])"
      ]
     },
     "execution_count": 23,
     "metadata": {},
     "output_type": "execute_result"
    }
   ],
   "source": [
    "np.random.seed(42) # setting the seed\n",
    "np.random.randint(0, 10, size = (3,3))"
   ]
  },
  {
   "cell_type": "code",
   "execution_count": 24,
   "id": "115a7a7f-b175-46f7-aa3f-ce72a78919ed",
   "metadata": {},
   "outputs": [
    {
     "data": {
      "text/plain": [
       "array([[ 0.49671415, -0.1382643 ,  0.64768854],\n",
       "       [ 1.52302986, -0.23415337, -0.23413696],\n",
       "       [ 1.57921282,  0.76743473, -0.46947439]])"
      ]
     },
     "execution_count": 24,
     "metadata": {},
     "output_type": "execute_result"
    }
   ],
   "source": [
    "np.random.seed(42) # setting the seed\n",
    "np.random.normal(size = (3,3))"
   ]
  },
  {
   "cell_type": "markdown",
   "id": "c6999486-d93e-4095-a427-bedcad2eec90",
   "metadata": {},
   "source": [
    "## Matrix Transpose"
   ]
  },
  {
   "cell_type": "code",
   "execution_count": 25,
   "id": "2460f089-13c7-4512-86d0-a5bdda8fa35c",
   "metadata": {},
   "outputs": [
    {
     "data": {
      "text/plain": [
       "array([[63, 59, 20],\n",
       "       [32, 75, 57],\n",
       "       [21, 88, 48]])"
      ]
     },
     "execution_count": 25,
     "metadata": {},
     "output_type": "execute_result"
    }
   ],
   "source": [
    "matrix = np.random.randint(0, 100, size = (3,3))\n",
    "matrix"
   ]
  },
  {
   "cell_type": "code",
   "execution_count": 26,
   "id": "b58530fb-4422-4219-a029-ddf15282c2ad",
   "metadata": {},
   "outputs": [
    {
     "data": {
      "text/plain": [
       "array([[63, 32, 21],\n",
       "       [59, 75, 88],\n",
       "       [20, 57, 48]])"
      ]
     },
     "execution_count": 26,
     "metadata": {},
     "output_type": "execute_result"
    }
   ],
   "source": [
    "matrix.T"
   ]
  },
  {
   "cell_type": "markdown",
   "id": "1f4f13bc-73f2-430c-807a-d4b21e76570f",
   "metadata": {},
   "source": [
    "## Range and linear space"
   ]
  },
  {
   "cell_type": "code",
   "execution_count": 27,
   "id": "ba075589-922e-4b78-9ed7-23f4ae16c0ed",
   "metadata": {},
   "outputs": [
    {
     "data": {
      "text/plain": [
       "array([  0.,  25.,  50.,  75., 100.])"
      ]
     },
     "execution_count": 27,
     "metadata": {},
     "output_type": "execute_result"
    }
   ],
   "source": [
    "np.linspace(0, 100, 5) # Generate 5 evenly spaced numbers between 0 and 100"
   ]
  },
  {
   "cell_type": "code",
   "execution_count": 28,
   "id": "7ae6522a-b2c7-46f2-a9b4-72eb41d109e3",
   "metadata": {},
   "outputs": [
    {
     "data": {
      "text/plain": [
       "array([ 0,  1,  2,  3,  4,  5,  6,  7,  8,  9, 10])"
      ]
     },
     "execution_count": 28,
     "metadata": {},
     "output_type": "execute_result"
    }
   ],
   "source": [
    "np.arange(11)"
   ]
  },
  {
   "cell_type": "code",
   "execution_count": 29,
   "id": "1106d441-86ec-4b43-8cf4-31bf161da56c",
   "metadata": {},
   "outputs": [
    {
     "data": {
      "text/plain": [
       "array([10, 11, 12, 13, 14, 15, 16, 17, 18, 19, 20])"
      ]
     },
     "execution_count": 29,
     "metadata": {},
     "output_type": "execute_result"
    }
   ],
   "source": [
    "np.arange(10, 21)"
   ]
  },
  {
   "cell_type": "code",
   "execution_count": 30,
   "id": "1e62f816-aff5-4e05-ab5a-f52d13dd9e35",
   "metadata": {},
   "outputs": [
    {
     "data": {
      "text/plain": [
       "array([ 2,  4,  6,  8, 10])"
      ]
     },
     "execution_count": 30,
     "metadata": {},
     "output_type": "execute_result"
    }
   ],
   "source": [
    "np.arange(2, 11, 2)"
   ]
  },
  {
   "cell_type": "code",
   "execution_count": 31,
   "id": "a86ffc2e-e22a-4016-9276-81e35aa05b95",
   "metadata": {},
   "outputs": [
    {
     "data": {
      "text/plain": [
       "array([ 2,  4,  6,  8, 10])"
      ]
     },
     "execution_count": 31,
     "metadata": {},
     "output_type": "execute_result"
    }
   ],
   "source": [
    "np.arange(start=2, stop=11, step=2)"
   ]
  },
  {
   "cell_type": "markdown",
   "id": "3ca10ed0-f1f2-495e-8849-c1c4d7de11f0",
   "metadata": {},
   "source": [
    "## Reshape"
   ]
  },
  {
   "cell_type": "code",
   "execution_count": 32,
   "id": "9fb58817-a5bd-4cee-96f5-4397fad11271",
   "metadata": {},
   "outputs": [
    {
     "data": {
      "text/plain": [
       "array([[ 0,  1,  2,  3,  4,  5],\n",
       "       [ 6,  7,  8,  9, 10, 11],\n",
       "       [12, 13, 14, 15, 16, 17],\n",
       "       [18, 19, 20, 21, 22, 23],\n",
       "       [24, 25, 26, 27, 28, 29],\n",
       "       [30, 31, 32, 33, 34, 35]])"
      ]
     },
     "execution_count": 32,
     "metadata": {},
     "output_type": "execute_result"
    }
   ],
   "source": [
    "twenty_seven = np.arange(36)\n",
    "twenty_seven.reshape(6, 6)"
   ]
  },
  {
   "cell_type": "markdown",
   "id": "e4f536c6-13c6-4a4c-9166-07f4411f4403",
   "metadata": {},
   "source": [
    "## Horizontal and Vertical stacking"
   ]
  },
  {
   "cell_type": "code",
   "execution_count": 33,
   "id": "9b322abd-02a3-4b9f-9b4f-49a9f88d75f5",
   "metadata": {},
   "outputs": [
    {
     "data": {
      "text/plain": [
       "array([[ 7,  8,  9,  1,  2,  3],\n",
       "       [10, 11, 12,  4,  5,  6]])"
      ]
     },
     "execution_count": 33,
     "metadata": {},
     "output_type": "execute_result"
    }
   ],
   "source": [
    "np.hstack((np.array([ [7,8,9], [10,11,12] ]), np.array([ [1,2,3], [4,5,6] ])))"
   ]
  },
  {
   "cell_type": "code",
   "execution_count": 34,
   "id": "23408eee-25e0-4d21-bd84-66e75d7c3431",
   "metadata": {},
   "outputs": [
    {
     "data": {
      "text/plain": [
       "array([1, 2, 3, 4, 5, 6])"
      ]
     },
     "execution_count": 34,
     "metadata": {},
     "output_type": "execute_result"
    }
   ],
   "source": [
    "np.hstack((np.array((1,2,3)), np.array((4,5,6))))"
   ]
  },
  {
   "cell_type": "code",
   "execution_count": 35,
   "id": "eddce848-b4a1-498b-9b90-4b08fb3c77cc",
   "metadata": {},
   "outputs": [
    {
     "data": {
      "text/plain": [
       "array([[ 7,  8,  9],\n",
       "       [10, 11, 12],\n",
       "       [ 1,  2,  3],\n",
       "       [ 4,  5,  6]])"
      ]
     },
     "execution_count": 35,
     "metadata": {},
     "output_type": "execute_result"
    }
   ],
   "source": [
    "np.vstack((np.array([ [7,8,9], [10,11,12] ]), np.array([ [1,2,3], [4,5,6] ])))"
   ]
  },
  {
   "cell_type": "code",
   "execution_count": 36,
   "id": "41fba73c-52df-4730-8feb-165b0efa873a",
   "metadata": {},
   "outputs": [
    {
     "data": {
      "text/plain": [
       "array([[1, 2, 3],\n",
       "       [4, 5, 6]])"
      ]
     },
     "execution_count": 36,
     "metadata": {},
     "output_type": "execute_result"
    }
   ],
   "source": [
    "np.vstack((np.array((1,2,3)), np.array((4,5,6))))"
   ]
  },
  {
   "cell_type": "markdown",
   "id": "1ab343a9-8028-48f3-871e-81238bb60f29",
   "metadata": {},
   "source": [
    "## Where"
   ]
  },
  {
   "cell_type": "code",
   "execution_count": 37,
   "id": "c80e60c6-5027-4044-9987-601429bd0f4d",
   "metadata": {},
   "outputs": [
    {
     "data": {
      "text/plain": [
       "(array([0, 3, 4]),)"
      ]
     },
     "execution_count": 37,
     "metadata": {},
     "output_type": "execute_result"
    }
   ],
   "source": [
    "a = np.array([1,2,3,4,5])\n",
    "b = np.array([1,3,2,4,5])\n",
    "\n",
    "np.where(a == b)"
   ]
  },
  {
   "cell_type": "code",
   "execution_count": 38,
   "id": "966eaa6f-7051-4098-b6af-e575d0bffee2",
   "metadata": {},
   "outputs": [
    {
     "data": {
      "text/plain": [
       "(array([2]),)"
      ]
     },
     "execution_count": 38,
     "metadata": {},
     "output_type": "execute_result"
    }
   ],
   "source": [
    "np.where(a > b)"
   ]
  },
  {
   "cell_type": "code",
   "execution_count": 39,
   "id": "3cb77e6d-e4c4-4593-ba8b-011a1771f5f7",
   "metadata": {},
   "outputs": [
    {
     "data": {
      "text/plain": [
       "(array([1]),)"
      ]
     },
     "execution_count": 39,
     "metadata": {},
     "output_type": "execute_result"
    }
   ],
   "source": [
    "np.where(a < b)"
   ]
  },
  {
   "cell_type": "code",
   "execution_count": null,
   "id": "efe1b5c9-c3f9-40ba-81ba-8f75fef85c1d",
   "metadata": {},
   "outputs": [],
   "source": []
  }
 ],
 "metadata": {
  "kernelspec": {
   "display_name": "Python 3 (ipykernel)",
   "language": "python",
   "name": "python3"
  },
  "language_info": {
   "codemirror_mode": {
    "name": "ipython",
    "version": 3
   },
   "file_extension": ".py",
   "mimetype": "text/x-python",
   "name": "python",
   "nbconvert_exporter": "python",
   "pygments_lexer": "ipython3",
   "version": "3.11.1 (main, Jan 16 2023, 18:07:37) [Clang 14.0.0 (clang-1400.0.29.202)]"
  },
  "toc-autonumbering": true,
  "toc-showcode": false,
  "toc-showmarkdowntxt": false,
  "toc-showtags": false,
  "vscode": {
   "interpreter": {
    "hash": "ea4113adaf8e4bfc11abaf75596323745810f506ea8e966f1b2f734d8f7e9e7d"
   }
  }
 },
 "nbformat": 4,
 "nbformat_minor": 5
}
