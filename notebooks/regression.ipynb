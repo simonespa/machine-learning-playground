{
 "cells": [
  {
   "cell_type": "markdown",
   "id": "4fea770f-4e8a-493c-99ba-625e9f7a9747",
   "metadata": {},
   "source": [
    "# Regression\n",
    "\n",
    "## Types of regressions\n",
    "\n",
    "### Univariate Linear Regression\n",
    "\n",
    "Also known as **single** or **simple** linear regression. It has only one independent variable, and it is described by the following function:\n",
    "\n",
    "$$y = w_0 + w_1x_1$$\n",
    "\n",
    "simplified by $$y = a + bx$$\n",
    "\n",
    "where $a$ is known as the **intercept** (or y-intercept) - because it determines the point where the regression function crossess the y-axis - and $b$ is known as the **slope** (or gradient), because it determines the slope of the linear function.\n",
    "\n",
    "### Multivariate Linear Regression\n",
    "\n",
    "Also known as **multiple** linear regression. It has two or more independent variables, and it is described by the following function:\n",
    "\n",
    "$$y = w_0 + w_1x_1 + w_2x_2 + ... + w_nx_n$$\n",
    "\n",
    "### Polynomial Regression\n",
    "\n",
    "It is a generalisation of linear regression, where in addition to the linear terms $W \\times X$, the regression function can include nonlinear terms:\n",
    "\n",
    "$$y = w_0{x_0}^0 + w_1{x_1}^1 + w_2{x_2}^2 +  ... + w_n{x_n}^n$$\n",
    "\n",
    "## How to calculate the approximation function\n",
    "\n",
    "Although the $X$ are the variables, in a regression problem these are known and given in input. What needs to be calculated instead are the constant terms.\n",
    "\n",
    "### Least squares method\n",
    "\n",
    "The regression parameters are estimated by minimizing the sum of squared errors (i.e. the vertical distance between the observed value and the approximated one)\n",
    "\n",
    "Given a simple linear regression function $y = a + bx$ and its approximation $\\hat{y} = \\hat{a} + \\hat{b}x$, the least square method to calculate $\\hat{a}$ and $\\hat{b}$ is described by the following equations:\n",
    "\n",
    "$$\\hat{b} = \\frac{\\sum_{n=1}^{n} (x_i - \\bar{x})(y_i - \\bar{y})}{\\sum_{n=1}^{n} (x_i - \\bar{x})^2}$$\n",
    "\n",
    "and\n",
    "\n",
    "$$\\hat{a} = \\bar{y} - \\hat{b}\\bar{x}$$\n",
    "\n",
    "where\n",
    "- $\\hat{a}$ is the approximation of the **intercept**\n",
    "- $\\hat{b}$ is the approximation of the **slope**\n",
    "- $\\bar{x}$ is the mean of $x$\n",
    "- $\\bar{y}$ is the mean of $y$"
   ]
  },
  {
   "cell_type": "code",
   "execution_count": 20,
   "id": "1613581b-7516-424a-bd55-70440c57e1bf",
   "metadata": {},
   "outputs": [],
   "source": [
    "import numpy as np\n",
    "import matplotlib.pyplot as plt"
   ]
  },
  {
   "cell_type": "code",
   "execution_count": 21,
   "id": "2a4b1e0a-0a53-4361-8653-0a9f48893f00",
   "metadata": {},
   "outputs": [],
   "source": [
    "def compute_parameters(x, y):\n",
    "    x_mean = np.mean(x)\n",
    "    y_mean = np.mean(y)\n",
    "    \n",
    "    numerator = (x - x_mean) * (y - y_mean)\n",
    "    denominator = (x - x_mean)**2\n",
    "    \n",
    "    slope = np.sum(numerator) / np.sum(denominator)\n",
    "    intercept = y_mean - (slope * x_mean)\n",
    "    \n",
    "    return intercept, slope"
   ]
  },
  {
   "cell_type": "code",
   "execution_count": 22,
   "id": "18f9c37c-5821-47ce-afd7-bf01ec75287d",
   "metadata": {},
   "outputs": [],
   "source": [
    "x = np.array([0, 1, 2, 3, 5, 6, 7, 8, 9, 10])\n",
    "y = np.array([5, 20, 15, 30, 22, 38, 50, 35, 46, 60])"
   ]
  },
  {
   "cell_type": "code",
   "execution_count": 23,
   "id": "7378d324-4b0b-45cb-8daa-619a72829937",
   "metadata": {},
   "outputs": [],
   "source": [
    "a, b = compute_parameters(x, y)\n",
    "\n",
    "hypothesis = a + b * x"
   ]
  },
  {
   "cell_type": "code",
   "execution_count": 24,
   "id": "1efac78e-6ba5-4554-82ca-46b3a0a1abe1",
   "metadata": {},
   "outputs": [
    {
     "data": {
      "image/png": "[encoded data removed]",
      "text/plain": [
       "<Figure size 640x480 with 1 Axes>"
      ]
     },
     "metadata": {},
     "output_type": "display_data"
    }
   ],
   "source": [
    "plt.grid(visible=True)\n",
    "plt.scatter(x, y)\n",
    "plt.plot(x, hypothesis)\n",
    "plt.show()"
   ]
  }
 ],
 "metadata": {
  "kernelspec": {
   "display_name": "Python 3",
   "language": "python",
   "name": "python3"
  },
  "language_info": {
   "codemirror_mode": {
    "name": "ipython",
    "version": 3
   },
   "file_extension": ".py",
   "mimetype": "text/x-python",
   "name": "python",
   "nbconvert_exporter": "python",
   "pygments_lexer": "ipython3",
   "version": "3.10.9"
  },
  "vscode": {
   "interpreter": {
    "hash": "7664889bb21e5450a60a8d40e5e0ee1792fefb34f3ea6ae6dd300c19b31aa1e4"
   }
  }
 },
 "nbformat": 4,
 "nbformat_minor": 5
}
