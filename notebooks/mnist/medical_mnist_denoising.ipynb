{
 "cells": [
  {
   "cell_type": "markdown",
   "id": "2fa0ade1-c333-41b3-be26-da5eaa5f0af6",
   "metadata": {},
   "source": [
    "# Medical MNIST denoising\n",
    "\n",
    "Ref: https://towardsdatascience.com/autoencoders-in-practice-dimensionality-reduction-and-image-denoising-ed9b9201e7e1"
   ]
  },
  {
   "cell_type": "code",
   "execution_count": 21,
   "id": "4afb332f-75f1-452d-88e9-6f8a7014f8aa",
   "metadata": {},
   "outputs": [
    {
     "name": "stderr",
     "output_type": "stream",
     "text": [
      "2023-10-04 12:12:42,004 WARNING Retrying (Retry(total=2, connect=None, read=None, redirect=None, status=None)) after connection broken by 'ProtocolError('Connection aborted.', RemoteDisconnected('Remote end closed connection without response'))': /api/v1/datasets/download/andrewmvd/medical-mnist?datasetVersionNumber=None\n",
      "Copying files: 58954 files [00:20, 2904.59 files/s]\n"
     ]
    }
   ],
   "source": [
    "from kaggle import api\n",
    "from zipfile import ZipFile\n",
    "import splitfolders\n",
    "import os\n",
    "import shutil\n",
    "\n",
    "dataset = 'andrewmvd/medical-mnist'\n",
    "zip_file = './medical-mnist.zip'\n",
    "extract_folder = 'medical_mnist_archive'\n",
    "split_folder = 'medical_mnist'\n",
    "\n",
    "api.dataset_download_files(dataset)\n",
    "\n",
    "with ZipFile(zip_file, 'r') as zip:\n",
    "    zip.extractall(extract_folder)\n",
    "\n",
    "splitfolders.ratio(input=extract_folder, output=split_folder, seed=101, ratio=(.8, .2), move=True)\n",
    "\n",
    "os.remove(zip_file)\n",
    "shutil.rmtree(extract_folder)"
   ]
  },
  {
   "cell_type": "code",
   "execution_count": 24,
   "id": "9e200326-9143-4bbd-be55-98dd9a272f6f",
   "metadata": {},
   "outputs": [
    {
     "name": "stdout",
     "output_type": "stream",
     "text": [
      "Found 47163 images belonging to 6 classes.\n",
      "Found 11791 images belonging to 6 classes.\n"
     ]
    }
   ],
   "source": [
    "from tensorflow.keras.preprocessing.image import ImageDataGenerator\n",
    "import numpy as np\n",
    "\n",
    "# Specifiy the path to training and validation folder\n",
    "train_dir = f'{split_folder}/train'\n",
    "test_dir = f'{split_folder}/val'\n",
    "\n",
    "# Apply image generator\n",
    "train_datagen = ImageDataGenerator(rescale=1/255)\n",
    "test_datagen = ImageDataGenerator(rescale=1/255)\n",
    "train_generator = train_datagen.flow_from_directory(train_dir,target_size=(44, 44),\n",
    "                                                   batch_size= 47163,\n",
    "                                                   class_mode='categorical')\n",
    "\n",
    "test_generator = test_datagen.flow_from_directory(test_dir,target_size=(44, 44),\n",
    "                                                   batch_size=11791,\n",
    "                                                   class_mode='categorical')\n",
    "\n",
    "# Fetch training and test data and their ground-trith label\n",
    "x_train, y_train = next(train_generator)\n",
    "x_test, y_test  = next(test_generator)\n",
    "\n",
    "n_examples = 500\n",
    "example_images = x_test[0:n_examples]\n",
    "example_labels = y_test[0:n_examples]\n",
    "\n",
    "labels = [np.where(i==1)[0][0] for i in example_labels]"
   ]
  },
  {
   "cell_type": "code",
   "execution_count": 25,
   "id": "71fb67f8-c668-4306-b535-a4382f99d863",
   "metadata": {},
   "outputs": [],
   "source": [
    "from tensorflow.keras.models import Model, Sequential\n",
    "from tensorflow.keras.layers import Conv2D, MaxPooling2D, UpSampling2D, Dropout, Flatten, Dense, Reshape\n",
    "\n",
    "encoded_dim = 2\n",
    "\n",
    "encoder = Sequential([\n",
    "    Conv2D(input_shape=(44,44,3), filters= 64, kernel_size = (3, 3), activation='relu', padding='same'),\n",
    "    MaxPooling2D((2, 2), padding='same'),\n",
    "    Conv2D(32, (3, 3), activation='relu', padding='same'),\n",
    "    MaxPooling2D( (2, 2), padding='same'),\n",
    "    Conv2D(16, (3, 3), activation='relu', padding='same'),\n",
    "    Flatten(),\n",
    "    Dense(encoded_dim)\n",
    "])"
   ]
  },
  {
   "cell_type": "code",
   "execution_count": 26,
   "id": "36723703-fd5a-443a-8a03-346a40656f6b",
   "metadata": {},
   "outputs": [],
   "source": [
    "decoder = Sequential ([\n",
    "    Dense(1936, activation = 'relu', input_shape=(encoded_dim,)),\n",
    "    Reshape((11,11,16)),\n",
    "    Conv2D(32, (3, 3), activation='relu', padding='same'),\n",
    "    UpSampling2D((2, 2)),\n",
    "    Conv2D(64, (3, 3), activation='relu', padding='same'),\n",
    "    UpSampling2D((2, 2)),\n",
    "    Conv2D(3, (3, 3), padding='same') \n",
    "])"
   ]
  },
  {
   "cell_type": "code",
   "execution_count": 28,
   "id": "04a30b03-1cdd-4c9b-9772-60d16e9926f3",
   "metadata": {},
   "outputs": [
    {
     "name": "stdout",
     "output_type": "stream",
     "text": [
      "1474/1474 [==============================] - 188s 127ms/step - loss: 0.0229\n"
     ]
    },
    {
     "data": {
      "text/plain": [
       "<keras.src.callbacks.History at 0x16db6b430>"
      ]
     },
     "execution_count": 28,
     "metadata": {},
     "output_type": "execute_result"
    }
   ],
   "source": [
    "autoencoder_dr = Model(inputs = encoder.inputs, outputs = decoder(encoder.outputs))\n",
    "\n",
    "autoencoder_dr.compile(loss = 'mse')\n",
    "\n",
    "autoencoder_dr.fit(x_train, x_train, epochs = 1, verbose=1)"
   ]
  },
  {
   "cell_type": "code",
   "execution_count": 29,
   "id": "db4311b1-4bbd-4b30-a202-d492ffa978fc",
   "metadata": {},
   "outputs": [
    {
     "ename": "NameError",
     "evalue": "name 'pretrain_encodings' is not defined",
     "output_type": "error",
     "traceback": [
      "\u001b[0;31m---------------------------------------------------------------------------\u001b[0m",
      "\u001b[0;31mNameError\u001b[0m                                 Traceback (most recent call last)",
      "Cell \u001b[0;32mIn[29], line 7\u001b[0m\n\u001b[1;32m      4\u001b[0m posttrain_encodings \u001b[38;5;241m=\u001b[39m encoder(example_images)\u001b[38;5;241m.\u001b[39mnumpy()\n\u001b[1;32m      6\u001b[0m f, axs \u001b[38;5;241m=\u001b[39m plt\u001b[38;5;241m.\u001b[39msubplots(nrows\u001b[38;5;241m=\u001b[39m\u001b[38;5;241m1\u001b[39m, ncols\u001b[38;5;241m=\u001b[39m\u001b[38;5;241m2\u001b[39m, figsize\u001b[38;5;241m=\u001b[39m(\u001b[38;5;241m15\u001b[39m, \u001b[38;5;241m8\u001b[39m))\n\u001b[0;32m----> 7\u001b[0m sns\u001b[38;5;241m.\u001b[39mscatterplot(\u001b[43mpretrain_encodings\u001b[49m[:, \u001b[38;5;241m0\u001b[39m],\n\u001b[1;32m      8\u001b[0m                 pretrain_encodings[:, \u001b[38;5;241m1\u001b[39m],\n\u001b[1;32m      9\u001b[0m                 hue\u001b[38;5;241m=\u001b[39mclass_names[labels], ax\u001b[38;5;241m=\u001b[39maxs[\u001b[38;5;241m0\u001b[39m],\n\u001b[1;32m     10\u001b[0m                 palette\u001b[38;5;241m=\u001b[39msns\u001b[38;5;241m.\u001b[39mcolor_palette(\u001b[38;5;124m\"\u001b[39m\u001b[38;5;124mcolorblind\u001b[39m\u001b[38;5;124m\"\u001b[39m, \u001b[38;5;241m6\u001b[39m));\n\u001b[1;32m     11\u001b[0m sns\u001b[38;5;241m.\u001b[39mscatterplot(posttrain_encodings[:, \u001b[38;5;241m0\u001b[39m],\n\u001b[1;32m     12\u001b[0m                 posttrain_encodings[:, \u001b[38;5;241m1\u001b[39m],\n\u001b[1;32m     13\u001b[0m                 hue\u001b[38;5;241m=\u001b[39mclass_names[labels], ax\u001b[38;5;241m=\u001b[39maxs[\u001b[38;5;241m1\u001b[39m],\n\u001b[1;32m     14\u001b[0m                 palette\u001b[38;5;241m=\u001b[39msns\u001b[38;5;241m.\u001b[39mcolor_palette(\u001b[38;5;124m\"\u001b[39m\u001b[38;5;124mcolorblind\u001b[39m\u001b[38;5;124m\"\u001b[39m, \u001b[38;5;241m6\u001b[39m));\n\u001b[1;32m     16\u001b[0m axs[\u001b[38;5;241m0\u001b[39m]\u001b[38;5;241m.\u001b[39mset_title(\u001b[38;5;124m'\u001b[39m\u001b[38;5;124mEncodings of example images before training\u001b[39m\u001b[38;5;124m'\u001b[39m);\n",
      "\u001b[0;31mNameError\u001b[0m: name 'pretrain_encodings' is not defined"
     ]
    },
    {
     "data": {
      "image/png": "[encoded data removed]",
      "text/plain": [
       "<Figure size 1500x800 with 2 Axes>"
      ]
     },
     "metadata": {},
     "output_type": "display_data"
    }
   ],
   "source": [
    "import matplotlib.pyplot as plt\n",
    "import seaborn as sns\n",
    "\n",
    "posttrain_encodings = encoder(example_images).numpy()\n",
    "\n",
    "f, axs = plt.subplots(nrows=1, ncols=2, figsize=(15, 8))\n",
    "sns.scatterplot(pretrain_encodings[:, 0],\n",
    "                pretrain_encodings[:, 1],\n",
    "                hue=class_names[labels], ax=axs[0],\n",
    "                palette=sns.color_palette(\"colorblind\", 6));\n",
    "sns.scatterplot(posttrain_encodings[:, 0],\n",
    "                posttrain_encodings[:, 1],\n",
    "                hue=class_names[labels], ax=axs[1],\n",
    "                palette=sns.color_palette(\"colorblind\", 6));\n",
    "\n",
    "axs[0].set_title('Encodings of example images before training');\n",
    "axs[1].set_title('Encodings of example images after training');\n",
    "\n",
    "for ax in axs: \n",
    "    ax.set_xlabel('Encoding dimension 1')\n",
    "    ax.set_ylabel('Encoding dimension 2')\n",
    "    ax.legend(loc='upper right')"
   ]
  },
  {
   "cell_type": "code",
   "execution_count": null,
   "id": "5bf50c9c-431b-442e-be3c-d905520a2963",
   "metadata": {},
   "outputs": [],
   "source": []
  }
 ],
 "metadata": {
  "kernelspec": {
   "display_name": "Python 3 (ipykernel)",
   "language": "python",
   "name": "python3"
  },
  "language_info": {
   "codemirror_mode": {
    "name": "ipython",
    "version": 3
   },
   "file_extension": ".py",
   "mimetype": "text/x-python",
   "name": "python",
   "nbconvert_exporter": "python",
   "pygments_lexer": "ipython3",
   "version": "3.10.10"
  }
 },
 "nbformat": 4,
 "nbformat_minor": 5
}
