{
 "cells": [
  {
   "cell_type": "markdown",
   "id": "fd5f1b29",
   "metadata": {},
   "source": [
    "# Executing Python statements from Javascript\n",
    "\n",
    "The following statement is executing a Python command from a Javascript context, by saving a variable from Javascript that can be later retrieved from Python."
   ]
  },
  {
   "cell_type": "code",
   "execution_count": 50,
   "id": "8298b7c9",
   "metadata": {},
   "outputs": [
    {
     "data": {
      "application/javascript": "\nIPython.notebook.kernel.execute('name = \"Simone\"');\n",
      "text/plain": [
       "<IPython.core.display.Javascript object>"
      ]
     },
     "metadata": {},
     "output_type": "display_data"
    }
   ],
   "source": [
    "%%javascript\n",
    "\n",
    "IPython.notebook.kernel.execute('name = \"Simone\"');"
   ]
  },
  {
   "cell_type": "code",
   "execution_count": 51,
   "id": "286c7e58",
   "metadata": {},
   "outputs": [
    {
     "data": {
      "text/plain": [
       "'Simone'"
      ]
     },
     "execution_count": 51,
     "metadata": {},
     "output_type": "execute_result"
    }
   ],
   "source": [
    "name"
   ]
  },
  {
   "cell_type": "markdown",
   "id": "59102239",
   "metadata": {},
   "source": [
    "Same thing with the following cell using an interactive HTML form and a Javascript function to be triggered at the press of the button."
   ]
  },
  {
   "cell_type": "code",
   "execution_count": 52,
   "id": "0d39dc26",
   "metadata": {},
   "outputs": [
    {
     "data": {
      "text/html": [
       "\n",
       "<script type=\"text/Javascript\">\n",
       "    function setValue(){\n",
       "        const varName = document.getElementById('name').value;\n",
       "        const varValue = document.getElementById('value').value;\n",
       "        const command = `${varName} = ${varValue};`;\n",
       "        console.log(`Executing Command: ${command}`);\n",
       "        \n",
       "        const kernel = IPython.notebook.kernel;\n",
       "        kernel.execute(command);\n",
       "    }\n",
       "</script>\n",
       "\n",
       "<div style=\"background-color:gainsboro; border:solid black; width:300px; padding:20px;\">\n",
       "Variable Name: <input type=\"text\" id=\"name\" value=\"name\"><br>\n",
       "Variable Value: <input type=\"text\" id=\"value\" value=\"Simone\"><br>\n",
       "<button onclick=\"setValue()\">Set Value</button>\n",
       "</div>\n"
      ],
      "text/plain": [
       "<IPython.core.display.HTML object>"
      ]
     },
     "metadata": {},
     "output_type": "display_data"
    }
   ],
   "source": [
    "%%HTML\n",
    "\n",
    "<script type=\"text/Javascript\">\n",
    "    function setValue(){\n",
    "        const varName = document.getElementById('name').value;\n",
    "        const varValue = document.getElementById('value').value;\n",
    "        const command = `${varName} = ${varValue};`;\n",
    "        console.log(`Executing Command: ${command}`);\n",
    "        \n",
    "        const kernel = IPython.notebook.kernel;\n",
    "        kernel.execute(command);\n",
    "    }\n",
    "</script>\n",
    "\n",
    "<div style=\"background-color:gainsboro; border:solid black; width:300px; padding:20px;\">\n",
    "Variable Name: <input type=\"text\" id=\"name\" value=\"name\"><br>\n",
    "Variable Value: <input type=\"text\" id=\"value\" value=\"Simone\"><br>\n",
    "<button onclick=\"setValue()\">Set Value</button>\n",
    "</div>"
   ]
  },
  {
   "cell_type": "code",
   "execution_count": 53,
   "id": "9f9fc25f",
   "metadata": {},
   "outputs": [
    {
     "data": {
      "text/plain": [
       "'Simone'"
      ]
     },
     "execution_count": 53,
     "metadata": {},
     "output_type": "execute_result"
    }
   ],
   "source": [
    "name"
   ]
  }
 ],
 "metadata": {
  "kernelspec": {
   "display_name": "Python 3 (ipykernel)",
   "language": "python",
   "name": "python3"
  },
  "language_info": {
   "codemirror_mode": {
    "name": "ipython",
    "version": 3
   },
   "file_extension": ".py",
   "mimetype": "text/x-python",
   "name": "python",
   "nbconvert_exporter": "python",
   "pygments_lexer": "ipython3",
   "version": "3.10.3"
  },
  "vscode": {
   "interpreter": {
    "hash": "1e500b3a597316d3983c6a780b429cf59e60e6a6fcc98c2791b8861703a964ad"
   }
  }
 },
 "nbformat": 4,
 "nbformat_minor": 5
}
