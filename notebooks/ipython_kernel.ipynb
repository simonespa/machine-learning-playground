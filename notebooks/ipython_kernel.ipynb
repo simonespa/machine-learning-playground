{
 "cells": [
  {
   "cell_type": "markdown",
   "id": "ced6da00",
   "metadata": {},
   "source": [
    "# IPython Kernel\n",
    "\n",
    "Reference: https://ipython.readthedocs.io/en/stable/index.html"
   ]
  },
  {
   "cell_type": "markdown",
   "id": "06fa322b",
   "metadata": {},
   "source": [
    "## Magic functions\n",
    "\n",
    "The `%magic` command will open a documentation window within this Jupyter notebook to print out a list of all the IPython's \"magic\" functions available. You can also find the documentation here https://ipython.readthedocs.io/en/stable/interactive/magics.html#"
   ]
  },
  {
   "cell_type": "code",
   "execution_count": 1,
   "id": "ec674068",
   "metadata": {},
   "outputs": [],
   "source": [
    "%magic"
   ]
  },
  {
   "cell_type": "code",
   "execution_count": 2,
   "id": "f4bed99e",
   "metadata": {},
   "outputs": [],
   "source": [
    "n = 100000000"
   ]
  },
  {
   "cell_type": "markdown",
   "id": "ac63f2ca",
   "metadata": {},
   "source": [
    "## Examples of line magics"
   ]
  },
  {
   "cell_type": "code",
   "execution_count": 3,
   "id": "08314d8d",
   "metadata": {},
   "outputs": [
    {
     "name": "stdout",
     "output_type": "stream",
     "text": [
      "CPU times: user 2.19 s, sys: 12.3 ms, total: 2.2 s\n",
      "Wall time: 2.19 s\n"
     ]
    },
    {
     "data": {
      "text/plain": [
       "4999999950000000"
      ]
     },
     "execution_count": 3,
     "metadata": {},
     "output_type": "execute_result"
    }
   ],
   "source": [
    "%time sum(range(n))"
   ]
  },
  {
   "cell_type": "code",
   "execution_count": 4,
   "id": "1b939a6c",
   "metadata": {},
   "outputs": [
    {
     "name": "stdout",
     "output_type": "stream",
     "text": [
      "CPU times: user 496 ms, sys: 328 ms, total: 824 ms\n",
      "Wall time: 494 ms\n"
     ]
    },
    {
     "data": {
      "text/plain": [
       "4999999950000000"
      ]
     },
     "execution_count": 4,
     "metadata": {},
     "output_type": "execute_result"
    }
   ],
   "source": [
    "import numpy as np\n",
    "%time np.sum(np.arange(n))"
   ]
  },
  {
   "cell_type": "code",
   "execution_count": 5,
   "id": "bdfcf22d",
   "metadata": {},
   "outputs": [
    {
     "name": "stdout",
     "output_type": "stream",
     "text": [
      "2.15 s ± 61.3 ms per loop (mean ± std. dev. of 7 runs, 1 loop each)\n"
     ]
    }
   ],
   "source": [
    "%timeit sum(range(n))"
   ]
  },
  {
   "cell_type": "code",
   "execution_count": 6,
   "id": "91f04c5e",
   "metadata": {},
   "outputs": [
    {
     "name": "stdout",
     "output_type": "stream",
     "text": [
      "508 ms ± 8.54 ms per loop (mean ± std. dev. of 7 runs, 1 loop each)\n"
     ]
    }
   ],
   "source": [
    "%timeit np.sum(np.arange(n))"
   ]
  },
  {
   "cell_type": "markdown",
   "id": "d6d76ef0",
   "metadata": {},
   "source": [
    "## Examples of cell magics"
   ]
  },
  {
   "cell_type": "code",
   "execution_count": 7,
   "id": "19e22d53",
   "metadata": {},
   "outputs": [
    {
     "data": {
      "text/html": [
       "<ul>\n",
       "<li>One</li>\n",
       "<li>Two</li>\n",
       "<li>Three</li>\n",
       "<ul/>\n"
      ],
      "text/plain": [
       "<IPython.core.display.HTML object>"
      ]
     },
     "metadata": {},
     "output_type": "display_data"
    }
   ],
   "source": [
    "%%html\n",
    "<ul>\n",
    "<li>One</li>\n",
    "<li>Two</li>\n",
    "<li>Three</li>\n",
    "<ul/>"
   ]
  },
  {
   "cell_type": "code",
   "execution_count": 8,
   "id": "102a2b07",
   "metadata": {},
   "outputs": [
    {
     "data": {
      "application/javascript": [
       "console.log('hello') // open the console tab from the inspector and run this cell\n"
      ],
      "text/plain": [
       "<IPython.core.display.Javascript object>"
      ]
     },
     "metadata": {},
     "output_type": "display_data"
    }
   ],
   "source": [
    "%%javascript\n",
    "console.log('hello') // open the console tab from the inspector and run this cell"
   ]
  },
  {
   "cell_type": "code",
   "execution_count": 18,
   "id": "f37d1541",
   "metadata": {},
   "outputs": [
    {
     "name": "stdout",
     "output_type": "stream",
     "text": [
      "total 1472\n",
      "-rw-r--r--  1 spaccs01  287753940   14305 Mar  1 18:08 CustomTransformers.ipynb\n",
      "-rw-r--r--  1 spaccs01  287753940    4583 Jan 16 19:22 JavascriptToPython.ipynb\n",
      "-rw-r--r--  1 spaccs01  287753940  628625 Jan 16 17:12 Seaborn.ipynb\n",
      "-rw-r--r--  1 spaccs01  287753940    2197 Jan 16 19:27 Stats.ipynb\n",
      "-rw-r--r--  1 spaccs01  287753940    3652 Jan 16 19:26 SymPy.ipynb\n",
      "drwxr-xr-x  6 spaccs01  287753940     192 Jan 16 17:12 \u001b[1m\u001b[36mcalifornia_housing_prices\u001b[m\u001b[m\n",
      "-rw-r--r--  1 spaccs01  287753940   37134 Feb 17 19:38 gradient_descent.ipynb\n",
      "-rw-r--r--  1 spaccs01  287753940    5102 Mar  1 18:56 ipython_kernel.ipynb\n",
      "drwxr-xr-x  4 spaccs01  287753940     128 Jan 16 17:12 \u001b[1m\u001b[36mmnist\u001b[m\u001b[m\n",
      "drwxr-xr-x  7 spaccs01  287753940     224 Jan 31 11:05 \u001b[1m\u001b[36mnumpy\u001b[m\u001b[m\n",
      "drwxr-xr-x  3 spaccs01  287753940      96 Feb  4 19:16 \u001b[1m\u001b[36mpandas\u001b[m\u001b[m\n",
      "-rw-r--r--  1 spaccs01  287753940   36945 Feb 17 15:19 regression.ipynb\n",
      "drwxr-xr-x  3 spaccs01  287753940      96 Jan 16 17:12 \u001b[1m\u001b[36muk_bank_holidays\u001b[m\u001b[m\n"
     ]
    }
   ],
   "source": [
    "%%bash\n",
    "ls -l"
   ]
  },
  {
   "cell_type": "markdown",
   "id": "1729fd23",
   "metadata": {},
   "source": [
    "## IPython API\n",
    "\n",
    "Reference: https://ipython.readthedocs.io/en/stable/api/index.html"
   ]
  },
  {
   "cell_type": "code",
   "execution_count": 10,
   "id": "d041f6e6",
   "metadata": {},
   "outputs": [],
   "source": [
    "import IPython"
   ]
  },
  {
   "cell_type": "code",
   "execution_count": 11,
   "id": "a87235eb",
   "metadata": {},
   "outputs": [
    {
     "data": {
      "text/markdown": [
       "> this is a quote"
      ],
      "text/plain": [
       "<IPython.core.display.Markdown object>"
      ]
     },
     "execution_count": 11,
     "metadata": {},
     "output_type": "execute_result"
    }
   ],
   "source": [
    "IPython.display.Markdown(data='> this is a quote')"
   ]
  },
  {
   "cell_type": "code",
   "execution_count": 12,
   "id": "df903390",
   "metadata": {},
   "outputs": [
    {
     "data": {
      "text/html": [
       "<progress style='width:60ex' max='100' value='0'></progress>"
      ],
      "text/plain": [
       "[                                                            ] 0/100"
      ]
     },
     "execution_count": 12,
     "metadata": {},
     "output_type": "execute_result"
    }
   ],
   "source": [
    "IPython.display.ProgressBar(100)"
   ]
  },
  {
   "cell_type": "code",
   "execution_count": 13,
   "id": "714467e0",
   "metadata": {},
   "outputs": [
    {
     "data": {
      "text/latex": [
       "$\\displaystyle \\sum x^2 + 2x$"
      ],
      "text/plain": [
       "<IPython.core.display.Math object>"
      ]
     },
     "execution_count": 13,
     "metadata": {},
     "output_type": "execute_result"
    }
   ],
   "source": [
    "IPython.display.Math(data='\\sum x^2 + 2x')"
   ]
  },
  {
   "cell_type": "markdown",
   "id": "c58d2b5c",
   "metadata": {
    "tags": []
   },
   "source": [
    "## Shell commands\n",
    "\n",
    "In IPython syntax, the exclamation mark (!) allows users to run shell commands from inside a Jupyter Notebook code cell."
   ]
  },
  {
   "cell_type": "code",
   "execution_count": 14,
   "id": "2bcf570a",
   "metadata": {
    "scrolled": true
   },
   "outputs": [
    {
     "name": "stdout",
     "output_type": "stream",
     "text": [
      "total 1472\n",
      "-rw-r--r--  1 spaccs01  287753940   14305 Mar  1 18:08 CustomTransformers.ipynb\n",
      "-rw-r--r--  1 spaccs01  287753940    4583 Jan 16 19:22 JavascriptToPython.ipynb\n",
      "-rw-r--r--  1 spaccs01  287753940  628625 Jan 16 17:12 Seaborn.ipynb\n",
      "-rw-r--r--  1 spaccs01  287753940    2197 Jan 16 19:27 Stats.ipynb\n",
      "-rw-r--r--  1 spaccs01  287753940    3652 Jan 16 19:26 SymPy.ipynb\n",
      "drwxr-xr-x  6 spaccs01  287753940     192 Jan 16 17:12 \u001b[1m\u001b[36mcalifornia_housing_prices\u001b[m\u001b[m\n",
      "-rw-r--r--  1 spaccs01  287753940   37134 Feb 17 19:38 gradient_descent.ipynb\n",
      "-rw-r--r--  1 spaccs01  287753940    5102 Mar  1 18:56 ipython_kernel.ipynb\n",
      "drwxr-xr-x  4 spaccs01  287753940     128 Jan 16 17:12 \u001b[1m\u001b[36mmnist\u001b[m\u001b[m\n",
      "drwxr-xr-x  7 spaccs01  287753940     224 Jan 31 11:05 \u001b[1m\u001b[36mnumpy\u001b[m\u001b[m\n",
      "drwxr-xr-x  3 spaccs01  287753940      96 Feb  4 19:16 \u001b[1m\u001b[36mpandas\u001b[m\u001b[m\n",
      "-rw-r--r--  1 spaccs01  287753940   36945 Feb 17 15:19 regression.ipynb\n",
      "drwxr-xr-x  3 spaccs01  287753940      96 Jan 16 17:12 \u001b[1m\u001b[36muk_bank_holidays\u001b[m\u001b[m\n"
     ]
    }
   ],
   "source": [
    "!ls -l"
   ]
  },
  {
   "cell_type": "markdown",
   "id": "48ff4bb6-eaed-4ee4-9c1a-702a6e9d0cc1",
   "metadata": {},
   "source": [
    "### How to read the content of a file"
   ]
  },
  {
   "cell_type": "code",
   "execution_count": 5,
   "id": "19a7eb4d-de94-417a-9e42-672b21813cb8",
   "metadata": {
    "tags": []
   },
   "outputs": [
    {
     "name": "stdout",
     "output_type": "stream",
     "text": [
      "{\n",
      " \"cells\": [\n",
      "  {\n",
      "   \"cell_type\": \"markdown\",\n",
      "   \"id\": \"ced6da00\",\n",
      "   \"metadata\": {},\n",
      "   \"source\": [\n",
      "    \"# IPython Kernel\\n\",\n",
      "    \"\\n\",\n",
      "    \"Reference: https://ipython.readthedocs.io/en/stable/index.html\"\n"
     ]
    }
   ],
   "source": [
    "file = './ipython_kernel.ipynb'\n",
    "!head {file}"
   ]
  },
  {
   "cell_type": "markdown",
   "id": "0e986edc",
   "metadata": {
    "tags": []
   },
   "source": [
    "## Display"
   ]
  },
  {
   "cell_type": "code",
   "execution_count": 15,
   "id": "e1ae303b",
   "metadata": {},
   "outputs": [
    {
     "data": {
      "text/plain": [
       "'lalla'"
      ]
     },
     "metadata": {},
     "output_type": "display_data"
    }
   ],
   "source": [
    "display('lalla')"
   ]
  },
  {
   "cell_type": "code",
   "execution_count": 16,
   "id": "79086ffc",
   "metadata": {
    "scrolled": true
   },
   "outputs": [
    {
     "data": {
      "text/plain": [
       "100000000"
      ]
     },
     "execution_count": 16,
     "metadata": {},
     "output_type": "execute_result"
    }
   ],
   "source": [
    "n"
   ]
  },
  {
   "cell_type": "code",
   "execution_count": 17,
   "id": "057e3901",
   "metadata": {},
   "outputs": [
    {
     "data": {
      "text/plain": [
       "100000000"
      ]
     },
     "metadata": {},
     "output_type": "display_data"
    }
   ],
   "source": [
    "display(n)"
   ]
  },
  {
   "cell_type": "markdown",
   "id": "6cb40688-60b5-4a1e-bd1c-b52a3c9b5e59",
   "metadata": {
    "tags": []
   },
   "source": [
    "## Dir"
   ]
  },
  {
   "cell_type": "code",
   "execution_count": 25,
   "id": "37915990-08ed-4236-9aa8-0d6470de7cb1",
   "metadata": {
    "tags": []
   },
   "outputs": [],
   "source": [
    "dir(3);"
   ]
  },
  {
   "cell_type": "code",
   "execution_count": 24,
   "id": "4a48f52b-b31b-4cda-b06b-afc5b6b61e78",
   "metadata": {
    "tags": []
   },
   "outputs": [],
   "source": [
    "dir('string');"
   ]
  },
  {
   "cell_type": "code",
   "execution_count": 26,
   "id": "48e5b3ff-de1b-457e-b698-673640924e9c",
   "metadata": {
    "tags": []
   },
   "outputs": [],
   "source": [
    "dir(True);"
   ]
  },
  {
   "cell_type": "code",
   "execution_count": 22,
   "id": "08260f96-fee4-4338-8896-66e3bf5138a9",
   "metadata": {
    "tags": []
   },
   "outputs": [],
   "source": [
    "dir({\n",
    "    'name': 'Simone'\n",
    "});"
   ]
  },
  {
   "cell_type": "code",
   "execution_count": 21,
   "id": "db4fea2c-cedd-4be3-b417-842d52bc52ed",
   "metadata": {
    "tags": []
   },
   "outputs": [],
   "source": [
    "def hello(name):\n",
    "    return f'Hello {name}'\n",
    "\n",
    "dir(hello);"
   ]
  },
  {
   "cell_type": "code",
   "execution_count": 10,
   "id": "22866f54-5ced-42d2-90f5-cf6369094274",
   "metadata": {
    "tags": []
   },
   "outputs": [],
   "source": [
    "import numpy as np\n",
    "array = np.array([1])"
   ]
  },
  {
   "cell_type": "code",
   "execution_count": 11,
   "id": "cdca9511-cb20-4e93-a54d-6c690beabdeb",
   "metadata": {
    "tags": []
   },
   "outputs": [],
   "source": [
    "dir(np);"
   ]
  },
  {
   "cell_type": "code",
   "execution_count": 13,
   "id": "adeb6cbb-c856-44cd-b676-d886e7267b81",
   "metadata": {
    "tags": []
   },
   "outputs": [],
   "source": [
    "dir(array);"
   ]
  }
 ],
 "metadata": {
  "kernelspec": {
   "display_name": "Python 3 (ipykernel)",
   "language": "python",
   "name": "python3"
  },
  "language_info": {
   "codemirror_mode": {
    "name": "ipython",
    "version": 3
   },
   "file_extension": ".py",
   "mimetype": "text/x-python",
   "name": "python",
   "nbconvert_exporter": "python",
   "pygments_lexer": "ipython3",
   "version": "3.10.10"
  }
 },
 "nbformat": 4,
 "nbformat_minor": 5
}
