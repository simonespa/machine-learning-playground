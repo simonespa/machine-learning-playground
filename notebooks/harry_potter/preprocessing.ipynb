{
 "cells": [
  {
   "cell_type": "code",
   "execution_count": 1,
   "id": "3562575f-e049-4896-817d-6e9f7f81e7d8",
   "metadata": {},
   "outputs": [],
   "source": [
    "with open('harrypotter_raw.txt', 'r') as file:\n",
    "    data = file.read()"
   ]
  },
  {
   "cell_type": "code",
   "execution_count": 2,
   "id": "0cb6aa6a-a44f-4e1e-bf8f-275598c2c078",
   "metadata": {},
   "outputs": [],
   "source": [
    "LIMIT=2000"
   ]
  },
  {
   "cell_type": "code",
   "execution_count": 3,
   "id": "947421a4-5626-460d-9158-012af872fcea",
   "metadata": {},
   "outputs": [
    {
     "name": "stdout",
     "output_type": "stream",
     "text": [
      "Harry Potter and the Sorcerer’s Stone\n",
      "\n",
      "CHAPTER ONE\n",
      "\n",
      "THE BOY WHO LIVED\n",
      "\n",
      "Mr. and Mrs. Dursley, of number four, Privet Drive, were proud to say\n",
      "that they were perfectly normal, thank you very much. They were the\n",
      "last people you’d expect to be involved in anything strange or mysterious,\n",
      "because they just didn’t hold with such nonsense.\n",
      "Mr. Dursley was the director of a firm called Grunnings, which made drills.\n",
      "He was a big, beefy man with hardly any neck, although he did have a very\n",
      "large mustache. Mrs. Dursley was thin and blonde and had nearly twice the\n",
      "usual amount of neck, which came in very useful as she spent so much of her\n",
      "time craning over garden fences, spying on the neighbors. The Dursleys had a\n",
      "small son called Dudley and in their opinion there was no finer boy anywhere.\n",
      "The Dursleys had everything they wanted, but they also had a secret, and\n",
      "their greatest fear was that somebody would discover it. They didn’t think\n",
      "they could bear it if anyone found out about the Potters. Mrs. Potter was Mrs.\n",
      "Dursley’s sister, but they hadn’t met for several years; in fact, Mrs. Dursley\n",
      "pretended she didn’t have a sister, because her sister and her good-for-nothing\n",
      "husband were as unDursleyish as it was possible to be. The Dursleys\n",
      "shuddered to think what the neighbors would say if the Potters arrived in the\n",
      "street. The Dursleys knew that the Potters had a small son, too, but they had\n",
      "never even seen him. This boy was another good reason for keeping the\n",
      "Potters away; they didn’t want Dudley mixing with a child like that.\n",
      "\n",
      "When Mr. and Mrs. Dursley woke up on the dull, gray Tuesday our story\n",
      "starts, there was nothing about the cloudy sky outside to suggest that strange\n",
      "and mysterious things would soon be happening all over the country. Mr.\n",
      "Dursley hummed as he picked out his most boring tie for work, and Mrs.\n",
      "Dursley gossiped away happily as she wrestled a screaming Dudley into his\n",
      "high chair.\n",
      "None of them noticed a large, tawny owl flutter past the window.\n",
      "At half past eight\n"
     ]
    }
   ],
   "source": [
    "print(data[:LIMIT])"
   ]
  },
  {
   "cell_type": "code",
   "execution_count": 4,
   "id": "ab49630e-64e3-435d-bdd9-2d4acd17f8cb",
   "metadata": {},
   "outputs": [],
   "source": [
    "import re\n",
    "\n",
    "data_transformed = re.sub(r\"\\n+\", \" \", data)"
   ]
  },
  {
   "cell_type": "code",
   "execution_count": 5,
   "id": "292188a4-7709-4cd4-b6a0-c6ad0ebae46e",
   "metadata": {},
   "outputs": [
    {
     "name": "stdout",
     "output_type": "stream",
     "text": [
      "Harry Potter and the Sorcerer’s Stone CHAPTER ONE THE BOY WHO LIVED Mr. and Mrs. Dursley, of number four, Privet Drive, were proud to say that they were perfectly normal, thank you very much. They were the last people you’d expect to be involved in anything strange or mysterious, because they just didn’t hold with such nonsense. Mr. Dursley was the director of a firm called Grunnings, which made drills. He was a big, beefy man with hardly any neck, although he did have a very large mustache. Mrs. Dursley was thin and blonde and had nearly twice the usual amount of neck, which came in very useful as she spent so much of her time craning over garden fences, spying on the neighbors. The Dursleys had a small son called Dudley and in their opinion there was no finer boy anywhere. The Dursleys had everything they wanted, but they also had a secret, and their greatest fear was that somebody would discover it. They didn’t think they could bear it if anyone found out about the Potters. Mrs. Potter was Mrs. Dursley’s sister, but they hadn’t met for several years; in fact, Mrs. Dursley pretended she didn’t have a sister, because her sister and her good-for-nothing husband were as unDursleyish as it was possible to be. The Dursleys shuddered to think what the neighbors would say if the Potters arrived in the street. The Dursleys knew that the Potters had a small son, too, but they had never even seen him. This boy was another good reason for keeping the Potters away; they didn’t want Dudley mixing with a child like that. When Mr. and Mrs. Dursley woke up on the dull, gray Tuesday our story starts, there was nothing about the cloudy sky outside to suggest that strange and mysterious things would soon be happening all over the country. Mr. Dursley hummed as he picked out his most boring tie for work, and Mrs. Dursley gossiped away happily as she wrestled a screaming Dudley into his high chair. None of them noticed a large, tawny owl flutter past the window. At half past eight, Mr\n"
     ]
    }
   ],
   "source": [
    "print(data_transformed[:LIMIT])"
   ]
  },
  {
   "cell_type": "code",
   "execution_count": 6,
   "id": "b2b4f20f-eba4-421d-b4f9-359ca6d4f0b9",
   "metadata": {},
   "outputs": [],
   "source": [
    "with open('harrypotter.txt', 'w') as file:\n",
    "    file.write(data_transformed)"
   ]
  }
 ],
 "metadata": {
  "kernelspec": {
   "display_name": "Python 3 (ipykernel)",
   "language": "python",
   "name": "python3"
  },
  "language_info": {
   "codemirror_mode": {
    "name": "ipython",
    "version": 3
   },
   "file_extension": ".py",
   "mimetype": "text/x-python",
   "name": "python",
   "nbconvert_exporter": "python",
   "pygments_lexer": "ipython3",
   "version": "3.12.6"
  },
  "widgets": {
   "application/vnd.jupyter.widget-state+json": {
    "state": {},
    "version_major": 2,
    "version_minor": 0
   }
  }
 },
 "nbformat": 4,
 "nbformat_minor": 5
}
