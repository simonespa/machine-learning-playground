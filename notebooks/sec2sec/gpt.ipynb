{
 "cells": [
  {
   "cell_type": "markdown",
   "id": "e588f32a-6677-4c92-b06c-a0af8c8f4620",
   "metadata": {},
   "source": [
    "# Transformers"
   ]
  },
  {
   "cell_type": "markdown",
   "id": "5dfdd0ea-de70-4410-b3a3-9c13051ad2e2",
   "metadata": {},
   "source": [
    "**Read the input text file**"
   ]
  },
  {
   "cell_type": "code",
   "execution_count": 1,
   "id": "9395c495-9fe8-46c0-9e9f-dcf711f0c10e",
   "metadata": {},
   "outputs": [
    {
     "name": "stdout",
     "output_type": "stream",
     "text": [
      "Input length: 1115394\n"
     ]
    }
   ],
   "source": [
    "with open(\"./tiny-shakespeare.txt\", \"r\", encoding=\"utf-8\") as input:\n",
    "    text = input.read()\n",
    "\n",
    "print(f\"Input length: {len(text)}\")"
   ]
  },
  {
   "cell_type": "markdown",
   "id": "1e837e7d-174c-446c-a048-b963677b0cd6",
   "metadata": {},
   "source": [
    "**Tokenize the corpus of text**"
   ]
  },
  {
   "cell_type": "code",
   "execution_count": 2,
   "id": "410d2681-f357-4484-9ea5-b70cdb3aef45",
   "metadata": {},
   "outputs": [
    {
     "name": "stdout",
     "output_type": "stream",
     "text": [
      "Encoding size: 301829\n"
     ]
    }
   ],
   "source": [
    "import tiktoken\n",
    "\n",
    "tkn = tiktoken.encoding_for_model(\"gpt-4\")\n",
    "\n",
    "encoding = tkn.encode(text)\n",
    "print(f\"Encoding size: {len(encoding)}\")"
   ]
  },
  {
   "cell_type": "markdown",
   "id": "98638e76-3fd8-42f6-89d3-e2855131829c",
   "metadata": {},
   "source": [
    "**Transform the encoded text into a tensor dataset**"
   ]
  },
  {
   "cell_type": "code",
   "execution_count": 3,
   "id": "356068f7-6809-4a01-8d3a-e11f437b8fee",
   "metadata": {},
   "outputs": [
    {
     "name": "stderr",
     "output_type": "stream",
     "text": [
      "2023-09-29 16:55:23.079703: I tensorflow/core/platform/cpu_feature_guard.cc:182] This TensorFlow binary is optimized to use available CPU instructions in performance-critical operations.\n",
      "To enable the following instructions: AVX2 FMA, in other operations, rebuild TensorFlow with the appropriate compiler flags.\n"
     ]
    }
   ],
   "source": [
    "import tensorflow as tf\n",
    "\n",
    "data = tf.constant(encoding)"
   ]
  },
  {
   "cell_type": "markdown",
   "id": "59584205-94d3-4cc3-9f7f-cdc87e9227fb",
   "metadata": {},
   "source": [
    "**Split the dataset into train (90%) and test (10%)**"
   ]
  },
  {
   "cell_type": "code",
   "execution_count": 4,
   "id": "323c2be5-9c70-4503-aa1e-01b35fcc5f3c",
   "metadata": {},
   "outputs": [],
   "source": [
    "split = int(0.9 * len(data))\n",
    "train = data[:split]\n",
    "test = data[split:]"
   ]
  },
  {
   "cell_type": "markdown",
   "id": "ccf4fe9d-2c74-4f2d-a6f7-0a10625fd4c6",
   "metadata": {},
   "source": [
    "**Verify the split it's correct**"
   ]
  },
  {
   "cell_type": "code",
   "execution_count": 5,
   "id": "c708a207-fe8b-4dd1-898d-476d8ab03ac0",
   "metadata": {},
   "outputs": [
    {
     "name": "stdout",
     "output_type": "stream",
     "text": [
      "Data size: 301829\n",
      "Train size: 271646\n",
      "Test size: 30183\n"
     ]
    }
   ],
   "source": [
    "print(f\"Data size: {len(data)}\")\n",
    "print(f\"Train size: {len(train)}\")\n",
    "print(f\"Test size: {len(test)}\")\n",
    "\n",
    "assert len(train) + len(test) == len(data)"
   ]
  },
  {
   "cell_type": "code",
   "execution_count": 6,
   "id": "b14d381d-92a7-4e54-b92f-d55afcb8d9e9",
   "metadata": {},
   "outputs": [],
   "source": [
    "SEQUENCE_SIZE = 8  # the length of the sequence to process\n",
    "BATCH_SIZE = 4  # the number of sequences to process at once (possibly in parallel)"
   ]
  },
  {
   "cell_type": "code",
   "execution_count": 14,
   "id": "73cc387a-13a5-4fb5-ac26-2a1f5b81a0fd",
   "metadata": {},
   "outputs": [],
   "source": [
    "from tensorflow import keras\n",
    "from tensorflow.keras import layers\n",
    "\n",
    "def transformer(input_shape, head_size, num_heads, dropout):\n",
    "    model = keras.Sequential(\n",
    "        name='Transformer',\n",
    "        layers=[\n",
    "            layers.Input(shape=input_shape),\n",
    "            ## Normalization & Attention\n",
    "            layers.LayerNormalization(epsilon=1e-6),\n",
    "            layers.MultiHeadAttention(\n",
    "                key_dim=head_size,\n",
    "                num_heads=num_heads,\n",
    "                dropout=dropout\n",
    "            ),\n",
    "            layers.Dropout(dropout),\n",
    "            \n",
    "        ]\n",
    "    )\n",
    "    \n",
    "    return model\n",
    "    \n",
    "# model.compile(optimizer='rmsprop', loss='categorical_crossentropy', metrics=['accuracy'])\n",
    "# model.summary()"
   ]
  },
  {
   "cell_type": "code",
   "execution_count": null,
   "id": "37582157-a516-4281-883a-e7c06f651b15",
   "metadata": {},
   "outputs": [],
   "source": []
  }
 ],
 "metadata": {
  "kernelspec": {
   "display_name": "Python 3 (ipykernel)",
   "language": "python",
   "name": "python3"
  },
  "language_info": {
   "codemirror_mode": {
    "name": "ipython",
    "version": 3
   },
   "file_extension": ".py",
   "mimetype": "text/x-python",
   "name": "python",
   "nbconvert_exporter": "python",
   "pygments_lexer": "ipython3",
   "version": "3.10.10"
  }
 },
 "nbformat": 4,
 "nbformat_minor": 5
}
