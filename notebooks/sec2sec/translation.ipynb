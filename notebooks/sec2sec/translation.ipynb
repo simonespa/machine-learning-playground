{
 "cells": [
  {
   "cell_type": "markdown",
   "id": "839b3782-3022-41c6-a062-b04b3513a5a8",
   "metadata": {},
   "source": [
    "# Translation\n",
    "\n",
    "Ref: https://blog.keras.io/a-ten-minute-introduction-to-sequence-to-sequence-learning-in-keras.html"
   ]
  }
 ],
 "metadata": {
  "kernelspec": {
   "display_name": "Python 3 (ipykernel)",
   "language": "python",
   "name": "python3"
  },
  "language_info": {
   "codemirror_mode": {
    "name": "ipython",
    "version": 3
   },
   "file_extension": ".py",
   "mimetype": "text/x-python",
   "name": "python",
   "nbconvert_exporter": "python",
   "pygments_lexer": "ipython3",
   "version": "3.10.10"
  }
 },
 "nbformat": 4,
 "nbformat_minor": 5
}
