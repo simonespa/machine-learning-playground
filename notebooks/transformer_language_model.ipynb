{
 "cells": [
  {
   "cell_type": "markdown",
   "id": "7a58521a-8474-4da3-b83f-5ff7c92e2a04",
   "metadata": {},
   "source": [
    "# Transformer-based Language Model"
   ]
  },
  {
   "cell_type": "code",
   "execution_count": 7,
   "id": "cbabbe77-2911-4983-accb-4cefa8ee3c25",
   "metadata": {},
   "outputs": [],
   "source": [
    "import tensorflow as tf\n",
    "import tensorflow_datasets as tfds\n",
    "\n",
    "d = tfds.load(name='tiny_shakespeare')['train']\n",
    "d = d.map(lambda x: tf.strings.unicode_split(x['text'], 'UTF-8'))\n",
    "# train split includes vocabulary for other splits\n",
    "vocabulary = sorted(set(next(iter(d)).numpy()))\n",
    "d = d.map(lambda x: {'cur_char': x[:-1], 'next_char': x[1:]})\n",
    "d = d.unbatch()\n",
    "seq_len = 100\n",
    "batch_size = 2\n",
    "d = d.batch(seq_len)\n",
    "d = d.batch(batch_size)"
   ]
  },
  {
   "cell_type": "code",
   "execution_count": null,
   "id": "e53645c4-b486-4420-9bf8-251c0085429b",
   "metadata": {},
   "outputs": [],
   "source": []
  }
 ],
 "metadata": {
  "kernelspec": {
   "display_name": "Python 3 (ipykernel)",
   "language": "python",
   "name": "python3"
  },
  "language_info": {
   "codemirror_mode": {
    "name": "ipython",
    "version": 3
   },
   "file_extension": ".py",
   "mimetype": "text/x-python",
   "name": "python",
   "nbconvert_exporter": "python",
   "pygments_lexer": "ipython3",
   "version": "3.10.10"
  }
 },
 "nbformat": 4,
 "nbformat_minor": 5
}
