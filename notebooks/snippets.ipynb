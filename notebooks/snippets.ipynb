{
 "cells": [
  {
   "cell_type": "markdown",
   "id": "474890da-b390-4cab-a0ea-72721c44ef57",
   "metadata": {},
   "source": [
    "# Snippets"
   ]
  },
  {
   "cell_type": "code",
   "execution_count": 7,
   "id": "34f9fa7e-2669-43d4-bc19-9192b51b84c2",
   "metadata": {},
   "outputs": [],
   "source": [
    "import pandas as pd"
   ]
  },
  {
   "cell_type": "markdown",
   "id": "eb9df9c8-ae22-4093-9d16-27fbda0d6316",
   "metadata": {},
   "source": [
    "## Missing values"
   ]
  },
  {
   "cell_type": "code",
   "execution_count": 8,
   "id": "89ec1227-81de-46e2-af9e-9aeba7c89b1b",
   "metadata": {
    "tags": []
   },
   "outputs": [
    {
     "name": "stdout",
     "output_type": "stream",
     "text": [
      "Missing values: {'radio': 2, 'newspaper': 1}\n"
     ]
    }
   ],
   "source": [
    "dataset = pd.read_csv('../datasets/advertising.csv')\n",
    "missing_values = {column: dataset[column].isna().sum() for column in dataset.columns if dataset[column].isna().sum() > 0}\n",
    "print(f'Missing values: {missing_values}')"
   ]
  },
  {
   "cell_type": "code",
   "execution_count": null,
   "id": "d7384631-733d-436b-8158-980cef70ebb6",
   "metadata": {},
   "outputs": [],
   "source": []
  }
 ],
 "metadata": {
  "kernelspec": {
   "display_name": "Python 3 (ipykernel)",
   "language": "python",
   "name": "python3"
  },
  "language_info": {
   "codemirror_mode": {
    "name": "ipython",
    "version": 3
   },
   "file_extension": ".py",
   "mimetype": "text/x-python",
   "name": "python",
   "nbconvert_exporter": "python",
   "pygments_lexer": "ipython3",
   "version": "3.10.10"
  }
 },
 "nbformat": 4,
 "nbformat_minor": 5
}
