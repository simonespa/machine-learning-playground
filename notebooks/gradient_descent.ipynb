{
 "cells": [
  {
   "cell_type": "markdown",
   "id": "14ccb3ef-c344-4517-9400-8014118ef7a9",
   "metadata": {},
   "source": [
    "# Gradient Descent\n",
    "\n",
    "Reference: https://towardsdatascience.com/implementing-gradient-descent-in-python-from-scratch-760a8556c31f\n",
    "\n",
    "Each feature has a certain importance in terms of predicting power. This importance is described by the weights. A method to calculate these weights is called **gradient descend**.\n",
    "\n",
    "The **gradient descent** is an optimisation algorithm which calculates the weights of the model, with the goal of minimising the cost, which is the total sum of all the distances between the real data point and the predicted one."
   ]
  },
  {
   "cell_type": "code",
   "execution_count": 282,
   "id": "466272ad-a8d9-47b0-bfa0-f347a12571c5",
   "metadata": {},
   "outputs": [],
   "source": [
    "import pandas as pd\n",
    "import numpy as np\n",
    "import matplotlib.pyplot as plt\n",
    "import seaborn as sn"
   ]
  },
  {
   "cell_type": "code",
   "execution_count": 283,
   "id": "a405eeaf-f9ef-402d-80b7-391e7ffd2925",
   "metadata": {},
   "outputs": [
    {
     "data": {
      "text/html": [
       "<div>\n",
       "<style scoped>\n",
       "    .dataframe tbody tr th:only-of-type {\n",
       "        vertical-align: middle;\n",
       "    }\n",
       "\n",
       "    .dataframe tbody tr th {\n",
       "        vertical-align: top;\n",
       "    }\n",
       "\n",
       "    .dataframe thead th {\n",
       "        text-align: right;\n",
       "    }\n",
       "</style>\n",
       "<table border=\"1\" class=\"dataframe\">\n",
       "  <thead>\n",
       "    <tr style=\"text-align: right;\">\n",
       "      <th></th>\n",
       "      <th>TV</th>\n",
       "      <th>radio</th>\n",
       "      <th>newspaper</th>\n",
       "      <th>sales</th>\n",
       "    </tr>\n",
       "  </thead>\n",
       "  <tbody>\n",
       "    <tr>\n",
       "      <th>0</th>\n",
       "      <td>230.1</td>\n",
       "      <td>37.8</td>\n",
       "      <td>69.2</td>\n",
       "      <td>22.1</td>\n",
       "    </tr>\n",
       "    <tr>\n",
       "      <th>1</th>\n",
       "      <td>44.5</td>\n",
       "      <td>39.3</td>\n",
       "      <td>45.1</td>\n",
       "      <td>10.4</td>\n",
       "    </tr>\n",
       "    <tr>\n",
       "      <th>2</th>\n",
       "      <td>17.2</td>\n",
       "      <td>45.9</td>\n",
       "      <td>69.3</td>\n",
       "      <td>9.3</td>\n",
       "    </tr>\n",
       "    <tr>\n",
       "      <th>3</th>\n",
       "      <td>151.5</td>\n",
       "      <td>41.3</td>\n",
       "      <td>58.5</td>\n",
       "      <td>18.5</td>\n",
       "    </tr>\n",
       "    <tr>\n",
       "      <th>4</th>\n",
       "      <td>180.8</td>\n",
       "      <td>10.8</td>\n",
       "      <td>58.4</td>\n",
       "      <td>12.9</td>\n",
       "    </tr>\n",
       "  </tbody>\n",
       "</table>\n",
       "</div>"
      ],
      "text/plain": [
       "      TV  radio  newspaper  sales\n",
       "0  230.1   37.8       69.2   22.1\n",
       "1   44.5   39.3       45.1   10.4\n",
       "2   17.2   45.9       69.3    9.3\n",
       "3  151.5   41.3       58.5   18.5\n",
       "4  180.8   10.8       58.4   12.9"
      ]
     },
     "execution_count": 283,
     "metadata": {},
     "output_type": "execute_result"
    }
   ],
   "source": [
    "df = pd.read_csv('../datasets/advertising.csv')\n",
    "df = df.drop(df.columns[0], axis='columns')\n",
    "df.head()"
   ]
  },
  {
   "cell_type": "code",
   "execution_count": 284,
   "id": "26dac4ff-5cdc-42a1-991e-ba2fa75d91a1",
   "metadata": {},
   "outputs": [],
   "source": [
    "x = df[['TV', 'radio', 'newspaper']]\n",
    "y = df['sales']"
   ]
  },
  {
   "cell_type": "markdown",
   "id": "f2d20080-2344-4d22-aacd-39d58c33f1ec",
   "metadata": {},
   "source": [
    "As all these sales might be on different scales, we then normalise $x$ and $y$."
   ]
  },
  {
   "cell_type": "code",
   "execution_count": 285,
   "id": "7c2100c9-3a06-4472-a68f-e6eac2750f0f",
   "metadata": {},
   "outputs": [],
   "source": [
    "y = np.array((y - y.mean()) / y.std())\n",
    "x = x.apply(lambda c : (c - c.mean()) / c.std(), axis=0)"
   ]
  },
  {
   "cell_type": "markdown",
   "id": "9e5459bf-533a-4421-a545-7afb165a1b1e",
   "metadata": {},
   "source": [
    "To implement a gradient descent algorithm we need to follow 4 steps:\n",
    "- Randomly initialize the bias and the weights\n",
    "- Calculate predicted value of y that is Y given the bias and the weight\n",
    "- Calculate the cost function from predicted and actual values of Y\n",
    "- Calculate gradient and the weights"
   ]
  },
  {
   "cell_type": "markdown",
   "id": "4496550a-33b7-4d66-93a1-2a59511fa77a",
   "metadata": {},
   "source": [
    "The next step randomly initialises the bias and the weights"
   ]
  },
  {
   "cell_type": "code",
   "execution_count": 286,
   "id": "83f1044c-d1f5-4aa9-8b6f-b35fd0794110",
   "metadata": {},
   "outputs": [],
   "source": [
    "def initialize(size):\n",
    "    bias = np.random.random(1)[0]\n",
    "    weights = np.random.random(size)\n",
    "    return bias, weights"
   ]
  },
  {
   "cell_type": "markdown",
   "id": "0bd6bab2-61a4-4a6f-95d2-fc9301d22558",
   "metadata": {},
   "source": [
    "Using the bias and the weights, we calculate the first approximation"
   ]
  },
  {
   "cell_type": "code",
   "execution_count": 287,
   "id": "631d6b59-94a3-46ba-862f-0efc0d76eac7",
   "metadata": {},
   "outputs": [],
   "source": [
    "def predict(bias, weights, x):\n",
    "    return bias + np.dot(x, weights)"
   ]
  },
  {
   "cell_type": "markdown",
   "id": "9eac71dc-369c-4e97-bb68-550ebdba55c0",
   "metadata": {},
   "source": [
    "Now we need to calculate the cost of the prediction compared to the initial values"
   ]
  },
  {
   "cell_type": "code",
   "execution_count": 288,
   "id": "45324bb2-2f78-46ad-9095-9e402fff4827",
   "metadata": {},
   "outputs": [],
   "source": [
    "def get_cost(y, y_hat):\n",
    "    y_resd = y - y_hat\n",
    "    return np.sum(np.dot(y_resd.T, y_resd)) / len(y - y_resd)"
   ]
  },
  {
   "cell_type": "code",
   "execution_count": 289,
   "id": "a98854bb-7d13-4e17-bdf1-31098cc40bae",
   "metadata": {},
   "outputs": [],
   "source": [
    "def update(x, y, y_hat, bias, weights, learning_rate):\n",
    "    db = (np.sum(y_hat - y) * 2) / len(y)\n",
    "    dw = (np.dot((y_hat - y), x) * 2) / len(y)\n",
    "    new_bias = bias - learning_rate * db\n",
    "    new_weights = weights - learning_rate * dw\n",
    "    return new_bias, new_weights"
   ]
  },
  {
   "cell_type": "code",
   "execution_count": 307,
   "id": "39ba6014-ef30-4f00-9034-081be6bcad80",
   "metadata": {},
   "outputs": [],
   "source": [
    "def gradient_descent(x, y, learning_rate, epochs):\n",
    "    bias, weights = initialize(x.shape[1])\n",
    "    \n",
    "    stats = pd.DataFrame(columns=['iteration', 'cost', 'bias', 'weights'])\n",
    "    \n",
    "    for index in range(epochs):\n",
    "        y_hat = predict(bias, weights, x)\n",
    "        cost = get_cost(y, y_hat)\n",
    "        if (index % 10 == 0):\n",
    "            # pass\n",
    "            # stats.append((index, cost, bias, weights), ignore_index=True)\n",
    "            stats.loc[len(stats)] = (index, cost, bias, weights)\n",
    "            \n",
    "        bias, weights = update(x, y, y_hat, bias, weights, 0.01)\n",
    "    \n",
    "    return stats, bias, weights"
   ]
  },
  {
   "cell_type": "code",
   "execution_count": 347,
   "id": "97507282-f6df-4076-98fc-9468e191b048",
   "metadata": {},
   "outputs": [
    {
     "data": {
      "text/html": [
       "<div>\n",
       "<style scoped>\n",
       "    .dataframe tbody tr th:only-of-type {\n",
       "        vertical-align: middle;\n",
       "    }\n",
       "\n",
       "    .dataframe tbody tr th {\n",
       "        vertical-align: top;\n",
       "    }\n",
       "\n",
       "    .dataframe thead th {\n",
       "        text-align: right;\n",
       "    }\n",
       "</style>\n",
       "<table border=\"1\" class=\"dataframe\">\n",
       "  <thead>\n",
       "    <tr style=\"text-align: right;\">\n",
       "      <th></th>\n",
       "      <th>iteration</th>\n",
       "      <th>cost</th>\n",
       "      <th>bias</th>\n",
       "      <th>weights</th>\n",
       "    </tr>\n",
       "  </thead>\n",
       "  <tbody>\n",
       "    <tr>\n",
       "      <th>0</th>\n",
       "      <td>0</td>\n",
       "      <td>0.402326</td>\n",
       "      <td>1.038297e-01</td>\n",
       "      <td>[0.4841442653835284, 0.12863957252979397, 0.41...</td>\n",
       "    </tr>\n",
       "    <tr>\n",
       "      <th>1</th>\n",
       "      <td>10</td>\n",
       "      <td>0.325504</td>\n",
       "      <td>8.483646e-02</td>\n",
       "      <td>[0.5328882554818758, 0.18003928692474538, 0.36...</td>\n",
       "    </tr>\n",
       "    <tr>\n",
       "      <th>2</th>\n",
       "      <td>20</td>\n",
       "      <td>0.269018</td>\n",
       "      <td>6.931756e-02</td>\n",
       "      <td>[0.5727500842261959, 0.2245988146916025, 0.319...</td>\n",
       "    </tr>\n",
       "    <tr>\n",
       "      <th>3</th>\n",
       "      <td>30</td>\n",
       "      <td>0.227279</td>\n",
       "      <td>5.663749e-02</td>\n",
       "      <td>[0.6053585579343186, 0.26331929016667516, 0.28...</td>\n",
       "    </tr>\n",
       "    <tr>\n",
       "      <th>4</th>\n",
       "      <td>40</td>\n",
       "      <td>0.196296</td>\n",
       "      <td>4.627696e-02</td>\n",
       "      <td>[0.632041461094178, 0.29703446598084177, 0.247...</td>\n",
       "    </tr>\n",
       "    <tr>\n",
       "      <th>...</th>\n",
       "      <td>...</td>\n",
       "      <td>...</td>\n",
       "      <td>...</td>\n",
       "      <td>...</td>\n",
       "    </tr>\n",
       "    <tr>\n",
       "      <th>195</th>\n",
       "      <td>1950</td>\n",
       "      <td>0.102275</td>\n",
       "      <td>-4.848150e-17</td>\n",
       "      <td>[0.7530659117735315, 0.5364815499445292, -0.00...</td>\n",
       "    </tr>\n",
       "    <tr>\n",
       "      <th>196</th>\n",
       "      <td>1960</td>\n",
       "      <td>0.102275</td>\n",
       "      <td>-4.963613e-17</td>\n",
       "      <td>[0.7530659117735348, 0.5364815499450836, -0.00...</td>\n",
       "    </tr>\n",
       "    <tr>\n",
       "      <th>197</th>\n",
       "      <td>1970</td>\n",
       "      <td>0.102275</td>\n",
       "      <td>-5.087958e-17</td>\n",
       "      <td>[0.753065911773537, 0.5364815499455703, -0.004...</td>\n",
       "    </tr>\n",
       "    <tr>\n",
       "      <th>198</th>\n",
       "      <td>1980</td>\n",
       "      <td>0.102275</td>\n",
       "      <td>-5.327766e-17</td>\n",
       "      <td>[0.7530659117735392, 0.5364815499459983, -0.00...</td>\n",
       "    </tr>\n",
       "    <tr>\n",
       "      <th>199</th>\n",
       "      <td>1990</td>\n",
       "      <td>0.102275</td>\n",
       "      <td>-5.460993e-17</td>\n",
       "      <td>[0.7530659117735414, 0.5364815499463741, -0.00...</td>\n",
       "    </tr>\n",
       "  </tbody>\n",
       "</table>\n",
       "<p>200 rows × 4 columns</p>\n",
       "</div>"
      ],
      "text/plain": [
       "     iteration      cost          bias  \\\n",
       "0            0  0.402326  1.038297e-01   \n",
       "1           10  0.325504  8.483646e-02   \n",
       "2           20  0.269018  6.931756e-02   \n",
       "3           30  0.227279  5.663749e-02   \n",
       "4           40  0.196296  4.627696e-02   \n",
       "..         ...       ...           ...   \n",
       "195       1950  0.102275 -4.848150e-17   \n",
       "196       1960  0.102275 -4.963613e-17   \n",
       "197       1970  0.102275 -5.087958e-17   \n",
       "198       1980  0.102275 -5.327766e-17   \n",
       "199       1990  0.102275 -5.460993e-17   \n",
       "\n",
       "                                               weights  \n",
       "0    [0.4841442653835284, 0.12863957252979397, 0.41...  \n",
       "1    [0.5328882554818758, 0.18003928692474538, 0.36...  \n",
       "2    [0.5727500842261959, 0.2245988146916025, 0.319...  \n",
       "3    [0.6053585579343186, 0.26331929016667516, 0.28...  \n",
       "4    [0.632041461094178, 0.29703446598084177, 0.247...  \n",
       "..                                                 ...  \n",
       "195  [0.7530659117735315, 0.5364815499445292, -0.00...  \n",
       "196  [0.7530659117735348, 0.5364815499450836, -0.00...  \n",
       "197  [0.753065911773537, 0.5364815499455703, -0.004...  \n",
       "198  [0.7530659117735392, 0.5364815499459983, -0.00...  \n",
       "199  [0.7530659117735414, 0.5364815499463741, -0.00...  \n",
       "\n",
       "[200 rows x 4 columns]"
      ]
     },
     "execution_count": 347,
     "metadata": {},
     "output_type": "execute_result"
    }
   ],
   "source": [
    "stats, bias, weights = gradient_descent(x, y, learning_rate=0.01, epochs=2000)\n",
    "stats"
   ]
  },
  {
   "cell_type": "code",
   "execution_count": 349,
   "id": "5ad18e34-8172-4eef-bf25-90833699427f",
   "metadata": {},
   "outputs": [
    {
     "data": {
      "text/plain": [
       "Text(0, 0.5, 'MSE')"
      ]
     },
     "execution_count": 349,
     "metadata": {},
     "output_type": "execute_result"
    },
    {
     "data": {
      "image/png": "[encoded data removed]",
      "text/plain": [
       "<Figure size 640x480 with 1 Axes>"
      ]
     },
     "metadata": {},
     "output_type": "display_data"
    }
   ],
   "source": [
    "# %matplotlib inline\n",
    "plt.plot(stats.iteration, stats.cost)\n",
    "plt.xlabel('Number of iterations')\n",
    "plt.ylabel('MSE')"
   ]
  },
  {
   "cell_type": "code",
   "execution_count": null,
   "id": "16bbca07-5c55-4071-8dd2-8fbb097d2c5c",
   "metadata": {},
   "outputs": [],
   "source": []
  }
 ],
 "metadata": {
  "kernelspec": {
   "display_name": "Python 3 (ipykernel)",
   "language": "python",
   "name": "python3"
  },
  "language_info": {
   "codemirror_mode": {
    "name": "ipython",
    "version": 3
   },
   "file_extension": ".py",
   "mimetype": "text/x-python",
   "name": "python",
   "nbconvert_exporter": "python",
   "pygments_lexer": "ipython3",
   "version": "3.10.9"
  }
 },
 "nbformat": 4,
 "nbformat_minor": 5
}
