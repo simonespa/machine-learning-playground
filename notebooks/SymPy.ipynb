{
 "cells": [
  {
   "cell_type": "markdown",
   "id": "37cbd370",
   "metadata": {},
   "source": [
    "## SymPy\n",
    "\n",
    "$$f(x) = ax^3 - bx^2 + 3$$"
   ]
  },
  {
   "cell_type": "code",
   "execution_count": 6,
   "id": "dac1650a",
   "metadata": {},
   "outputs": [],
   "source": [
    "import sympy as sp\n",
    "import numpy as np"
   ]
  },
  {
   "cell_type": "code",
   "execution_count": 7,
   "id": "fb81ccd4",
   "metadata": {},
   "outputs": [
    {
     "data": {
      "text/latex": [
       "$\\displaystyle 3 x^{2}$"
      ],
      "text/plain": [
       "3*x**2"
      ]
     },
     "execution_count": 7,
     "metadata": {},
     "output_type": "execute_result"
    }
   ],
   "source": [
    "x = sp.Symbol('x')\n",
    "f = 3 * x ** 2\n",
    "f"
   ]
  },
  {
   "cell_type": "code",
   "execution_count": 8,
   "id": "68bcde88",
   "metadata": {},
   "outputs": [
    {
     "data": {
      "text/plain": [
       "12"
      ]
     },
     "execution_count": 8,
     "metadata": {},
     "output_type": "execute_result"
    }
   ],
   "source": [
    "int(f.subs(x, 2))"
   ]
  },
  {
   "cell_type": "code",
   "execution_count": 12,
   "id": "75f2c742",
   "metadata": {},
   "outputs": [
    {
     "data": {
      "text/plain": [
       "[0, 1, 2, 3, 4, 5, 6, 7, 8, 9]"
      ]
     },
     "execution_count": 12,
     "metadata": {},
     "output_type": "execute_result"
    }
   ],
   "source": [
    "values = np.arange(10)\n",
    "list(values)"
   ]
  },
  {
   "cell_type": "code",
   "execution_count": 13,
   "id": "ebe3d7ab",
   "metadata": {},
   "outputs": [
    {
     "data": {
      "text/plain": [
       "[0, 3, 12, 27, 48, 75, 108, 147, 192, 243]"
      ]
     },
     "execution_count": 13,
     "metadata": {},
     "output_type": "execute_result"
    }
   ],
   "source": [
    "g = sp.lambdify(x, f, \"numpy\")\n",
    "list(g(values))"
   ]
  },
  {
   "cell_type": "code",
   "execution_count": 14,
   "id": "ec230c49",
   "metadata": {},
   "outputs": [
    {
     "data": {
      "text/plain": [
       "[0, 3, 12, 27, 48, 75, 108, 147, 192, 243]"
      ]
     },
     "execution_count": 14,
     "metadata": {},
     "output_type": "execute_result"
    }
   ],
   "source": [
    "h = sp.lambdify(x, f, \"math\")\n",
    "list(h(values))"
   ]
  },
  {
   "cell_type": "code",
   "execution_count": 15,
   "id": "cf24fbc0",
   "metadata": {},
   "outputs": [
    {
     "data": {
      "text/latex": [
       "$\\displaystyle 6 x$"
      ],
      "text/plain": [
       "6*x"
      ]
     },
     "execution_count": 15,
     "metadata": {},
     "output_type": "execute_result"
    }
   ],
   "source": [
    "f_1 = sp.diff(f) # calculate the derivative\n",
    "f_1"
   ]
  },
  {
   "cell_type": "code",
   "execution_count": 16,
   "id": "1ef81e72",
   "metadata": {},
   "outputs": [
    {
     "data": {
      "text/plain": [
       "-12"
      ]
     },
     "execution_count": 16,
     "metadata": {},
     "output_type": "execute_result"
    }
   ],
   "source": [
    "int(f_1.subs(x, -2))"
   ]
  },
  {
   "cell_type": "code",
   "execution_count": null,
   "id": "8c928421",
   "metadata": {},
   "outputs": [],
   "source": []
  }
 ],
 "metadata": {
  "kernelspec": {
   "display_name": "Python 3 (ipykernel)",
   "language": "python",
   "name": "python3"
  },
  "language_info": {
   "codemirror_mode": {
    "name": "ipython",
    "version": 3
   },
   "file_extension": ".py",
   "mimetype": "text/x-python",
   "name": "python",
   "nbconvert_exporter": "python",
   "pygments_lexer": "ipython3",
   "version": "3.10.9"
  }
 },
 "nbformat": 4,
 "nbformat_minor": 5
}
