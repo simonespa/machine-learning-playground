{
 "cells": [
  {
   "cell_type": "markdown",
   "id": "65ff0dd7-9d73-41ec-98d8-0f294294c214",
   "metadata": {},
   "source": [
    "# NumPy\n",
    "\n",
    "NumPy’s main object is the homogeneous multidimensional array. It is a table of elements of the same type, indexed by a tuple of non-negative integers. In NumPy dimensions are called axes."
   ]
  },
  {
   "cell_type": "code",
   "execution_count": 72,
   "id": "32a83081-b877-4864-a14e-e95bd552faad",
   "metadata": {},
   "outputs": [
    {
     "data": {
      "text/plain": [
       "array([[ 0,  1,  2,  3],\n",
       "       [ 4,  5,  6,  7],\n",
       "       [ 8,  9, 10, 11],\n",
       "       [12, 13, 14, 15]])"
      ]
     },
     "execution_count": 72,
     "metadata": {},
     "output_type": "execute_result"
    }
   ],
   "source": [
    "import numpy as np\n",
    "a = np.arange(16).reshape(4, 4)\n",
    "a"
   ]
  },
  {
   "cell_type": "markdown",
   "id": "3a5755e7",
   "metadata": {},
   "source": [
    "NumPy’s array class is called `ndarray`. It is also known by the alias `array`. Note that `numpy.array` is not the same as the Standard Python Library class `array.array`, which only handles one-dimensional arrays and offers less functionality. The more important attributes of an ndarray object are:"
   ]
  },
  {
   "cell_type": "markdown",
   "id": "2147b3ea",
   "metadata": {},
   "source": [
    "#### ndarray.ndim\n",
    "\n",
    "The number of axes (dimensions) of the array."
   ]
  },
  {
   "cell_type": "code",
   "execution_count": 9,
   "id": "2e24f27f-f7b9-4334-8cd1-a373b02b287c",
   "metadata": {},
   "outputs": [
    {
     "data": {
      "text/plain": [
       "2"
      ]
     },
     "execution_count": 9,
     "metadata": {},
     "output_type": "execute_result"
    }
   ],
   "source": [
    "a.ndim"
   ]
  },
  {
   "cell_type": "markdown",
   "id": "5410e446",
   "metadata": {},
   "source": [
    "#### ndarray.shape\n",
    "\n",
    "The dimensions of the array. This is a tuple of integers indicating the size of the array in each dimension. For a matrix with n rows and m columns, `shape` will be `(n,m)`. The length of the `shape` tuple is therefore the number of axes, `ndim`."
   ]
  },
  {
   "cell_type": "code",
   "execution_count": 11,
   "id": "0acdfd3b-1e20-482b-b466-7cb0f6f2ae26",
   "metadata": {},
   "outputs": [
    {
     "data": {
      "text/plain": [
       "(4, 4)"
      ]
     },
     "execution_count": 11,
     "metadata": {},
     "output_type": "execute_result"
    }
   ],
   "source": [
    "a.shape"
   ]
  },
  {
   "cell_type": "markdown",
   "id": "5151b829",
   "metadata": {},
   "source": [
    "#### ndarray.size\n",
    "\n",
    "The total number of elements of the array. This is equal to the product of the elements of `shape`."
   ]
  },
  {
   "cell_type": "code",
   "execution_count": 12,
   "id": "eac8c2e5-7505-46b0-9a87-70f810c04295",
   "metadata": {},
   "outputs": [
    {
     "data": {
      "text/plain": [
       "16"
      ]
     },
     "execution_count": 12,
     "metadata": {},
     "output_type": "execute_result"
    }
   ],
   "source": [
    "a.size"
   ]
  },
  {
   "cell_type": "markdown",
   "id": "2e6f2d44",
   "metadata": {},
   "source": [
    "#### ndarray.dtype\n",
    "\n",
    "An object describing the type of the elements in the array. One can create or specify dtype’s using standard Python types. Additionally NumPy provides types of its own. numpy.int32, numpy.int16, and numpy.float64 are some examples."
   ]
  },
  {
   "cell_type": "code",
   "execution_count": 18,
   "id": "0400e7ed-b102-46b4-86b4-a6edeaf08075",
   "metadata": {},
   "outputs": [
    {
     "data": {
      "text/plain": [
       "dtype('int64')"
      ]
     },
     "execution_count": 18,
     "metadata": {},
     "output_type": "execute_result"
    }
   ],
   "source": [
    "a.dtype"
   ]
  },
  {
   "cell_type": "markdown",
   "id": "60f2bdd0",
   "metadata": {},
   "source": [
    "#### ndarray.itemsize\n",
    "\n",
    "The size in bytes of each element of the array. For example, an array of elements of type `float64` has `itemsize` 8 (=64/8), while one of type `complex32` has `itemsize` 4 (=32/8). It is equivalent to `ndarray.dtype.itemsize`."
   ]
  },
  {
   "cell_type": "code",
   "execution_count": 19,
   "id": "907dfc64-5b8b-484c-bcb8-48a330aec1af",
   "metadata": {},
   "outputs": [
    {
     "data": {
      "text/plain": [
       "8"
      ]
     },
     "execution_count": 19,
     "metadata": {},
     "output_type": "execute_result"
    }
   ],
   "source": [
    "a.itemsize"
   ]
  },
  {
   "cell_type": "markdown",
   "id": "ddb111ff",
   "metadata": {},
   "source": [
    "#### ndarray.data\n",
    "\n",
    "The buffer containing the actual elements of the array. Normally, we won’t need to use this attribute because we will access the elements in an array using indexing facilities."
   ]
  },
  {
   "cell_type": "code",
   "execution_count": 20,
   "id": "9f118fe0",
   "metadata": {},
   "outputs": [
    {
     "data": {
      "text/plain": [
       "<memory at 0x10cb3a260>"
      ]
     },
     "execution_count": 20,
     "metadata": {},
     "output_type": "execute_result"
    }
   ],
   "source": [
    "a.data"
   ]
  },
  {
   "cell_type": "markdown",
   "id": "b3ca96a0",
   "metadata": {},
   "source": [
    "## References\n",
    "* Types: https://numpy.org/doc/stable/reference/arrays.scalars.html#sized-aliases\n",
    "* Functions: https://numpy.org/doc/stable/reference/routines.html"
   ]
  },
  {
   "cell_type": "markdown",
   "id": "0cd73056",
   "metadata": {},
   "source": [
    "## Logic Functions"
   ]
  },
  {
   "cell_type": "code",
   "execution_count": 99,
   "id": "81b14a7d-4ee9-4240-b533-ea3929e08222",
   "metadata": {},
   "outputs": [],
   "source": [
    "x = np.array([True, True, False, False])\n",
    "y = np.array([True, False, True, False])"
   ]
  },
  {
   "cell_type": "code",
   "execution_count": 100,
   "id": "790327da",
   "metadata": {},
   "outputs": [
    {
     "data": {
      "text/plain": [
       "False"
      ]
     },
     "execution_count": 100,
     "metadata": {},
     "output_type": "execute_result"
    }
   ],
   "source": [
    "np.all(x)"
   ]
  },
  {
   "cell_type": "code",
   "execution_count": 101,
   "id": "c7524cb0",
   "metadata": {},
   "outputs": [
    {
     "data": {
      "text/plain": [
       "True"
      ]
     },
     "execution_count": 101,
     "metadata": {},
     "output_type": "execute_result"
    }
   ],
   "source": [
    "np.any(x)"
   ]
  },
  {
   "cell_type": "code",
   "execution_count": 102,
   "id": "44583090-c16a-4f9c-98f0-1e51fd9b5105",
   "metadata": {},
   "outputs": [
    {
     "data": {
      "text/plain": [
       "array([ True, False, False, False])"
      ]
     },
     "execution_count": 102,
     "metadata": {},
     "output_type": "execute_result"
    }
   ],
   "source": [
    "np.logical_and(x, y)"
   ]
  },
  {
   "cell_type": "code",
   "execution_count": 103,
   "id": "dce7371b-f911-4977-9eb0-8bfaab66625d",
   "metadata": {},
   "outputs": [
    {
     "data": {
      "text/plain": [
       "array([ True,  True,  True, False])"
      ]
     },
     "execution_count": 103,
     "metadata": {},
     "output_type": "execute_result"
    }
   ],
   "source": [
    "np.logical_or(x, y)"
   ]
  },
  {
   "cell_type": "code",
   "execution_count": 104,
   "id": "3a11d2dd",
   "metadata": {},
   "outputs": [
    {
     "data": {
      "text/plain": [
       "array([False,  True,  True, False])"
      ]
     },
     "execution_count": 104,
     "metadata": {},
     "output_type": "execute_result"
    }
   ],
   "source": [
    "np.logical_xor(x, y)"
   ]
  },
  {
   "cell_type": "code",
   "execution_count": 105,
   "id": "391ed906",
   "metadata": {},
   "outputs": [
    {
     "data": {
      "text/plain": [
       "array([False, False,  True,  True])"
      ]
     },
     "execution_count": 105,
     "metadata": {},
     "output_type": "execute_result"
    }
   ],
   "source": [
    "np.logical_not(x)"
   ]
  },
  {
   "cell_type": "markdown",
   "id": "8ab32a58",
   "metadata": {},
   "source": [
    "## Comparison"
   ]
  },
  {
   "cell_type": "code",
   "execution_count": 106,
   "id": "1e990e71",
   "metadata": {},
   "outputs": [
    {
     "data": {
      "text/plain": [
       "False"
      ]
     },
     "execution_count": 106,
     "metadata": {},
     "output_type": "execute_result"
    }
   ],
   "source": [
    "np.array_equal(x, y)"
   ]
  },
  {
   "cell_type": "code",
   "execution_count": 107,
   "id": "3fd4fb60",
   "metadata": {},
   "outputs": [
    {
     "data": {
      "text/plain": [
       "False"
      ]
     },
     "execution_count": 107,
     "metadata": {},
     "output_type": "execute_result"
    }
   ],
   "source": [
    "np.array_equiv(x, y)"
   ]
  },
  {
   "cell_type": "code",
   "execution_count": 108,
   "id": "548063d0",
   "metadata": {},
   "outputs": [
    {
     "data": {
      "text/plain": [
       "array([[   0,    0,    0,    0,    0],\n",
       "       [   0,    0, -128,   79,   28],\n",
       "       [ -38,  -34,   -2,    7,    0],\n",
       "       [  64,    2,    0,    0,    0],\n",
       "       [   0,    0,    0,    0,    0]], dtype=int8)"
      ]
     },
     "execution_count": 108,
     "metadata": {},
     "output_type": "execute_result"
    }
   ],
   "source": [
    "np.empty(shape=(5, 5), dtype=np.int8)"
   ]
  },
  {
   "cell_type": "markdown",
   "id": "50a87185",
   "metadata": {},
   "source": [
    "## Others"
   ]
  },
  {
   "cell_type": "code",
   "execution_count": 109,
   "id": "2229cd8e",
   "metadata": {},
   "outputs": [
    {
     "data": {
      "text/plain": [
       "array([[1, 1, 1, 1, 1],\n",
       "       [1, 1, 1, 1, 1],\n",
       "       [1, 1, 1, 1, 1],\n",
       "       [1, 1, 1, 1, 1],\n",
       "       [1, 1, 1, 1, 1]], dtype=int8)"
      ]
     },
     "execution_count": 109,
     "metadata": {},
     "output_type": "execute_result"
    }
   ],
   "source": [
    "np.ones(shape=(5, 5), dtype=np.int8)"
   ]
  },
  {
   "cell_type": "code",
   "execution_count": 110,
   "id": "11c31ad0",
   "metadata": {},
   "outputs": [
    {
     "data": {
      "text/plain": [
       "array([[0, 0, 0, 0, 0],\n",
       "       [0, 0, 0, 0, 0],\n",
       "       [0, 0, 0, 0, 0],\n",
       "       [0, 0, 0, 0, 0],\n",
       "       [0, 0, 0, 0, 0]], dtype=int8)"
      ]
     },
     "execution_count": 110,
     "metadata": {},
     "output_type": "execute_result"
    }
   ],
   "source": [
    "np.zeros(shape=(5, 5), dtype=np.int8)"
   ]
  },
  {
   "cell_type": "code",
   "execution_count": 111,
   "id": "74912d73",
   "metadata": {},
   "outputs": [
    {
     "data": {
      "text/plain": [
       "array([ 0,  1,  2,  3,  4,  5,  6,  7,  8,  9, 10, 11, 12, 13, 14, 15, 16,\n",
       "       17, 18, 19])"
      ]
     },
     "execution_count": 111,
     "metadata": {},
     "output_type": "execute_result"
    }
   ],
   "source": [
    "np.arange(20).reshape(10, 2).ravel()"
   ]
  },
  {
   "cell_type": "code",
   "execution_count": 112,
   "id": "6f5f5365",
   "metadata": {},
   "outputs": [
    {
     "data": {
      "text/plain": [
       "array([[0, 1],\n",
       "       [2, 3]])"
      ]
     },
     "execution_count": 112,
     "metadata": {},
     "output_type": "execute_result"
    }
   ],
   "source": [
    "np.resize(np.arange(20), (2, 2))"
   ]
  }
 ],
 "metadata": {
  "interpreter": {
   "hash": "1a7854de1ac03914391af317b61dba7cebf3fe5ee4803c86fc125cce7da183f4"
  },
  "kernelspec": {
   "display_name": "Python 3 (ipykernel)",
   "language": "python",
   "name": "python3"
  },
  "language_info": {
   "codemirror_mode": {
    "name": "ipython",
    "version": 3
   },
   "file_extension": ".py",
   "mimetype": "text/x-python",
   "name": "python",
   "nbconvert_exporter": "python",
   "pygments_lexer": "ipython3",
   "version": "3.10.2"
  }
 },
 "nbformat": 4,
 "nbformat_minor": 5
}
