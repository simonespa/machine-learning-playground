{
 "cells": [
  {
   "cell_type": "markdown",
   "id": "3736ee6e",
   "metadata": {},
   "source": [
    "## Mean"
   ]
  },
  {
   "cell_type": "code",
   "execution_count": 1,
   "id": "f27ae507",
   "metadata": {},
   "outputs": [],
   "source": [
    "def mean(list):\n",
    "    if len(list) == 0:\n",
    "        raise ValueError(\"The list is empty\")\n",
    "    \n",
    "    if len(list) == 1:\n",
    "        return list[0]\n",
    "    \n",
    "    return sum(list) / len(list)"
   ]
  },
  {
   "cell_type": "markdown",
   "id": "3c6cf798",
   "metadata": {},
   "source": [
    "## Standard Deviation"
   ]
  },
  {
   "cell_type": "code",
   "execution_count": 2,
   "id": "5212b2ae",
   "metadata": {},
   "outputs": [],
   "source": [
    "def standard_deviation(list):    \n",
    "    if len(list) == 1:\n",
    "        return 0\n",
    "\n",
    "    the_mean = mean(list)\n",
    "    diff_squared = []\n",
    "    \n",
    "    for el in list:\n",
    "        diff_squared.append((el - the_mean) ** 2)\n",
    "        \n",
    "    variance = sum(diff_squared) / len(list)\n",
    "    \n",
    "    return variance ** 0.5 # performs the square root"
   ]
  },
  {
   "cell_type": "markdown",
   "id": "4a9d045a",
   "metadata": {},
   "source": [
    "## Dot Product"
   ]
  },
  {
   "cell_type": "code",
   "execution_count": 4,
   "id": "ecdfcbfc",
   "metadata": {},
   "outputs": [],
   "source": [
    "def dot_product(u, v):    \n",
    "    sum = 0\n",
    "    \n",
    "    for x, y in zip(u, v):\n",
    "        sum += x * y\n",
    "        \n",
    "    return sum"
   ]
  },
  {
   "cell_type": "code",
   "execution_count": null,
   "id": "8a8cbe3b",
   "metadata": {},
   "outputs": [],
   "source": []
  }
 ],
 "metadata": {
  "kernelspec": {
   "display_name": "Python 3 (ipykernel)",
   "language": "python",
   "name": "python3"
  },
  "language_info": {
   "codemirror_mode": {
    "name": "ipython",
    "version": 3
   },
   "file_extension": ".py",
   "mimetype": "text/x-python",
   "name": "python",
   "nbconvert_exporter": "python",
   "pygments_lexer": "ipython3",
   "version": "3.10.9"
  }
 },
 "nbformat": 4,
 "nbformat_minor": 5
}
