{
 "cells": [
  {
   "cell_type": "markdown",
   "id": "e8f22f38-77db-44e3-bd11-78ec0a690f4c",
   "metadata": {},
   "source": [
    "# Confusion Matrix\n",
    "\n",
    "<img alt=\"Confusion Matrix\" src=\"images/confusion_matrix.png\" width=\"300\" />"
   ]
  },
  {
   "cell_type": "markdown",
   "id": "5649813a-cacd-43ef-ad79-517051fa0c30",
   "metadata": {},
   "source": [
    "## True Positive (TP)\n",
    "\n",
    "Also known as **Hit**, is the number of correct positive predictions."
   ]
  },
  {
   "cell_type": "markdown",
   "id": "5e47bcc6-bc94-4ca8-8edf-547a411dd7ae",
   "metadata": {},
   "source": [
    "## False Negative (FN)\n",
    "\n",
    "Also known as **Miss**, **Underestimation** or **Type II Error**, is the number of incorrect negative predictions (positives misclassified as negatives)."
   ]
  },
  {
   "cell_type": "markdown",
   "id": "bd5300fd-3092-41bd-836e-c695b4fb21e4",
   "metadata": {},
   "source": [
    "## False Positive (FP)\n",
    "\n",
    "Also known as: **False Alarm**, **Overestimation** or **Type I Error**, is the number of incorrect positive predictions (negatives misclassified as positives)."
   ]
  },
  {
   "cell_type": "markdown",
   "id": "32e53a33-b514-4aca-81aa-f8d732aaafef",
   "metadata": {},
   "source": [
    "## True Negative (TN)\n",
    "\n",
    "Also known as **Correct Rejection**, is the number of correct negative predictions."
   ]
  },
  {
   "cell_type": "code",
   "execution_count": 1,
   "id": "835a13e7-9117-4aa2-a066-3361cbdc0ada",
   "metadata": {},
   "outputs": [
    {
     "name": "stdout",
     "output_type": "stream",
     "text": [
      "True Positive: 600\n",
      "True Negative: 9513\n",
      "False Positive: 12\n",
      "False Negative: 221\n"
     ]
    }
   ],
   "source": [
    "TP = 600   # True Positive\n",
    "TN = 9513  # True Negative\n",
    "FP = 12    # False Positive\n",
    "FN = 221   # False Negative\n",
    "\n",
    "print(f'True Positive: {TP}')\n",
    "print(f'True Negative: {TN}')\n",
    "print(f'False Positive: {FP}')\n",
    "print(f'False Negative: {FN}')"
   ]
  },
  {
   "cell_type": "code",
   "execution_count": 2,
   "id": "f55d8ee8-6ae5-42e0-ab6d-5418f0932226",
   "metadata": {},
   "outputs": [
    {
     "name": "stdout",
     "output_type": "stream",
     "text": [
      "Predicted Positive: 612\n",
      "Predicted Negative: 9734\n",
      "Actual Positive: 821\n",
      "Actual Negative: 9525\n",
      "Total Predictions: 10346\n"
     ]
    }
   ],
   "source": [
    "pp = TP + FP # Predicted Positive\n",
    "pn = FN + TN # Predicted Negative\n",
    "ap = TP + FN # Actual Positive\n",
    "an = FP + TN # Actual Negative\n",
    "total_predictions = TP + TN + FP + FN\n",
    "\n",
    "print(f'Predicted Positive: {pp}')\n",
    "print(f'Predicted Negative: {pn}')\n",
    "print(f'Actual Positive: {ap}')\n",
    "print(f'Actual Negative: {an}')\n",
    "print(f'Total Predictions: {total_predictions}')"
   ]
  },
  {
   "cell_type": "markdown",
   "id": "060076b7-87e0-4b8f-8fe3-ecbb4d271d3d",
   "metadata": {},
   "source": [
    "# Binary Classification Metrics"
   ]
  },
  {
   "cell_type": "markdown",
   "id": "f8e71f89-eb62-4396-b701-57111e38faf9",
   "metadata": {},
   "source": [
    "## Accuracy\n",
    "\n",
    "Also known as **Correct Classification Rate (CCR)**\n",
    "\n",
    "<img alt=\"Accuracy\" src=\"images/accuracy.png\" width=\"300\" />\n",
    "\n",
    "It is the percentage of accurate predictions over the total of all predictions. This measure is only useful in cases where the classes are balanced.\n",
    "\n",
    "**Example:** Email spam detection. The False Positive occurs when the mail which is not spam is predicted as spam, and the user loses important information.\n",
    "\n",
    "$$Accuracy = \\frac{TP + TN}{Total Predictions} = \\frac{TP + TN}{TP + TN + FP + FN}$$"
   ]
  },
  {
   "cell_type": "code",
   "execution_count": 3,
   "id": "703f3723-a10c-4949-98cf-7c152acc668d",
   "metadata": {},
   "outputs": [
    {
     "name": "stdout",
     "output_type": "stream",
     "text": [
      "Accuracy: 97.75%\n"
     ]
    }
   ],
   "source": [
    "accuracy = (TP + TN) / total_predictions\n",
    "print(f'Accuracy: {accuracy * 100:.2f}%')"
   ]
  },
  {
   "cell_type": "markdown",
   "id": "48148500-bf6d-427f-9f8a-4359bb97f7ff",
   "metadata": {},
   "source": [
    "## Inverse Accuracy\n",
    "\n",
    "Also known as **Incorrect Classification Rate (ICR)**.\n",
    "\n",
    "<img alt=\"Inverse Accuracy\" src=\"images/inverse_accuracy.png\" width=\"300\" />\n",
    "\n",
    "It is the percentage of inaccurate predictions over the total of all predictions. This measure is only useful in cases where the classes are balanced.\n",
    "\n",
    "$$Inverse Accuracy = 1 - Accuracy = \\frac{FP + FN}{Total Predictions} = \\frac{FP + FN}{TP + TN + FP + FN}$$"
   ]
  },
  {
   "cell_type": "code",
   "execution_count": 4,
   "id": "cf16224d-b871-4a78-b01e-ca339c2d9bed",
   "metadata": {},
   "outputs": [
    {
     "name": "stdout",
     "output_type": "stream",
     "text": [
      "Inverse Accuracy: 2.25%\n"
     ]
    }
   ],
   "source": [
    "inverse_accuracy = 1 - accuracy\n",
    "print(f'Inverse Accuracy: {inverse_accuracy * 100:.2f}%')"
   ]
  },
  {
   "cell_type": "markdown",
   "id": "4f4c77bf-c9b7-4f1a-87b6-3bea07fe30ec",
   "metadata": {},
   "source": [
    "## Actual Classes Rates"
   ]
  },
  {
   "cell_type": "markdown",
   "id": "c659681e-1b98-4222-81e4-c03ea09c1d1a",
   "metadata": {},
   "source": [
    "### True Positive Rate (TPR)\n",
    "\n",
    "Also known as: **Recall**, **Sensitivity**, Probability of detection, Detection Rate, Hit Rate, Power, Coverage\n",
    "  \n",
    "\n",
    "<img alt=\"True Positive Rate\" src=\"images/tpr.png\" width=\"300\" />\n",
    "\n",
    "$$TPR = \\frac{TP}{TP + FN}$$"
   ]
  },
  {
   "cell_type": "code",
   "execution_count": 5,
   "id": "90fb148f-bf86-45db-8a51-d6d36e8aec5d",
   "metadata": {},
   "outputs": [
    {
     "name": "stdout",
     "output_type": "stream",
     "text": [
      "True Positive Rate: 73.08%\n"
     ]
    }
   ],
   "source": [
    "tpr = TP / (TP + FN)\n",
    "print(f'True Positive Rate: {tpr * 100:.2f}%')"
   ]
  },
  {
   "cell_type": "markdown",
   "id": "e6a4aaa2-5dee-4bf0-ada7-2cddef779065",
   "metadata": {},
   "source": [
    "### True Negative Rate (TNR)\n",
    "\n",
    "Also known as: **Specificity** or Selectivity\n",
    "\n",
    "<img alt=\"True Negative Rate\" src=\"images/tnr.png\" width=\"300\" />\n",
    "\n",
    "$$TNR = \\frac{TN}{FP + TN}$$"
   ]
  },
  {
   "cell_type": "code",
   "execution_count": 6,
   "id": "03bbf9de-b399-4d34-a840-78e6ef2a5e1d",
   "metadata": {},
   "outputs": [
    {
     "name": "stdout",
     "output_type": "stream",
     "text": [
      "True Negative Rate: 99.87%\n"
     ]
    }
   ],
   "source": [
    "tnr = TN / (FP + TN)\n",
    "print(f'True Negative Rate: {tnr * 100:.2f}%')"
   ]
  },
  {
   "cell_type": "markdown",
   "id": "76a3bd9e-38b5-483e-b54b-0ccdecff546b",
   "metadata": {},
   "source": [
    "### False Positive Rate (FPR)\n",
    "\n",
    "Also known as **Fallout**\n",
    "\n",
    "<img alt=\"False Positive Rate\" src=\"images/fpr.png\" width=\"300\" />\n",
    "\n",
    "$$FPR = \\frac{FP}{FP + TN}$$"
   ]
  },
  {
   "cell_type": "code",
   "execution_count": 7,
   "id": "e8c6e6cf-70ba-43aa-bcc4-a8d9c5af0d1a",
   "metadata": {},
   "outputs": [
    {
     "name": "stdout",
     "output_type": "stream",
     "text": [
      "False Positive Rate: 0.13%\n"
     ]
    }
   ],
   "source": [
    "fpr = FP / (FP + TN)\n",
    "print(f'False Positive Rate: {fpr * 100:.2f}%')"
   ]
  },
  {
   "cell_type": "markdown",
   "id": "e7180852-89a1-4ee3-aa26-258bd5dc7440",
   "metadata": {},
   "source": [
    "### False Negative Rate (FNR)\n",
    "\n",
    "Also known as **Miss Rate**\n",
    "\n",
    "<img alt=\"False Negative Rate\" src=\"images/fnr.png\" width=\"300\" />\n",
    "\n",
    "$$FNR = \\frac{FN}{TP + FN}$$"
   ]
  },
  {
   "cell_type": "code",
   "execution_count": 8,
   "id": "ce6b0216-cce8-4729-8550-b74e04eea2d9",
   "metadata": {},
   "outputs": [
    {
     "name": "stdout",
     "output_type": "stream",
     "text": [
      "False Negative Rate: 26.92%\n"
     ]
    }
   ],
   "source": [
    "fnr = FN / (TP + FN)\n",
    "print(f'False Negative Rate: {fnr * 100:.2f}%')"
   ]
  },
  {
   "cell_type": "markdown",
   "id": "5e256365-1c89-4a77-914f-e08299d51bba",
   "metadata": {},
   "source": [
    "## Predicted Classes Rates"
   ]
  },
  {
   "cell_type": "markdown",
   "id": "ebce3b49-3877-40d6-9436-bd2cbc73ad07",
   "metadata": {},
   "source": [
    "### Positive Predictive Value (PPV)\n",
    "\n",
    "Also known as **Precision**, **Confidence** or **True Positive Accuracy (TPA)**\n",
    "\n",
    "<img alt=\"Positive Predictive Value\" src=\"images/ppv.png\" width=\"300\" />\n",
    "\n",
    "$$PPV = \\frac{TP}{TP + FP}$$"
   ]
  },
  {
   "cell_type": "code",
   "execution_count": 15,
   "id": "38f150b0-7889-4151-a0ef-0615e402f1a2",
   "metadata": {},
   "outputs": [
    {
     "name": "stdout",
     "output_type": "stream",
     "text": [
      "Positive Predictive Value: 98.04%\n"
     ]
    }
   ],
   "source": [
    "ppv = TP / (TP + FP)\n",
    "print(f'Positive Predictive Value: {ppv * 100:.2f}%')"
   ]
  },
  {
   "cell_type": "markdown",
   "id": "2b419940-337c-4211-af2c-860c613c547b",
   "metadata": {},
   "source": [
    "### Negative Predictive Value (NPV)\n",
    "\n",
    "Also known as **True Negative Accuracy (TNA)**.\n",
    "\n",
    "<img alt=\"Negative Predictive Value\" src=\"images/npv.png\" width=\"300\" />\n",
    "\n",
    "$$NPV = \\frac{TN}{FN + TN}$$"
   ]
  },
  {
   "cell_type": "code",
   "execution_count": 14,
   "id": "f7731a8d-449e-49a6-9102-c552049b4314",
   "metadata": {},
   "outputs": [
    {
     "name": "stdout",
     "output_type": "stream",
     "text": [
      "Negative Predictive Value: 97.73%\n"
     ]
    }
   ],
   "source": [
    "npv = TN / (FN + TN)\n",
    "print(f'Negative Predictive Value: {npv * 100:.2f}%')"
   ]
  },
  {
   "cell_type": "markdown",
   "id": "e3300ce8-7110-4c84-a1bf-45643b5e9093",
   "metadata": {},
   "source": [
    "### False Discovery Rate (FDR)\n",
    "\n",
    "<img alt=\"False Discovery Rate\" src=\"images/fdr.png\" width=\"300\" />\n",
    "\n",
    "$$FDR = \\frac{FP}{TP + FP}$$"
   ]
  },
  {
   "cell_type": "code",
   "execution_count": 16,
   "id": "2274a772-4ff3-4706-b67a-8b30e2243257",
   "metadata": {},
   "outputs": [
    {
     "name": "stdout",
     "output_type": "stream",
     "text": [
      "False Discovery Rate: 1.96%\n"
     ]
    }
   ],
   "source": [
    "fdr = FP / (TP + FP)\n",
    "print(f'False Discovery Rate: {fdr * 100:.2f}%')"
   ]
  },
  {
   "cell_type": "markdown",
   "id": "15ce9b21-e783-47fa-ae09-4b2e85357604",
   "metadata": {},
   "source": [
    "### False Omission Rate (FOR)\n",
    "\n",
    "<img alt=\"False Omission Rate\" src=\"images/for.png\" width=\"300\" />\n",
    "\n",
    "$$FOR = \\frac{FN}{FN + TN}$$"
   ]
  },
  {
   "cell_type": "code",
   "execution_count": 17,
   "id": "a3662439-af01-4eba-b512-c05e6501e1e7",
   "metadata": {},
   "outputs": [
    {
     "name": "stdout",
     "output_type": "stream",
     "text": [
      "False Omision Rate: 2.27%\n"
     ]
    }
   ],
   "source": [
    "FOR = FN / (FN + TN)\n",
    "print(f'False Omision Rate: {FOR * 100:.2f}%')"
   ]
  },
  {
   "cell_type": "markdown",
   "id": "c771646e-e7bc-455d-bf27-d22993518380",
   "metadata": {},
   "source": [
    "## Precision\n",
    "\n",
    "See [Positive Predictive Value (PPV)](#Positive-Predictive-Value-(PPV))"
   ]
  },
  {
   "cell_type": "code",
   "execution_count": 18,
   "id": "8ec42a52-b0f5-44be-b38c-714dd2cc1aea",
   "metadata": {},
   "outputs": [
    {
     "name": "stdout",
     "output_type": "stream",
     "text": [
      "Precision: 98.04%\n"
     ]
    }
   ],
   "source": [
    "precision = ppv\n",
    "print(f'Precision: {precision * 100:.2f}%')"
   ]
  },
  {
   "cell_type": "markdown",
   "id": "56ef9bc2-1285-451e-be51-7384fa95265e",
   "metadata": {},
   "source": [
    "## Recall\n",
    "\n",
    "See [True Positive Rate (TPR)](#True-Positive-Rate-(TPR))"
   ]
  },
  {
   "cell_type": "code",
   "execution_count": 19,
   "id": "10908134-9d1f-4214-b9de-3b989751ad43",
   "metadata": {},
   "outputs": [
    {
     "name": "stdout",
     "output_type": "stream",
     "text": [
      "Recall: 73.08%\n"
     ]
    }
   ],
   "source": [
    "recall = tpr\n",
    "print(f'Recall: {recall * 100:.2f}%')"
   ]
  },
  {
   "cell_type": "markdown",
   "id": "eb1c5f66-1594-4e4e-854e-ad57d34f4cd2",
   "metadata": {},
   "source": [
    "## F1 Score\n",
    "\n",
    "It is the harmonic mean of precision and recall\n",
    "\n",
    "$$F1 = 2 * \\frac{Precision * Recall}{Precision + Recall}$$"
   ]
  },
  {
   "cell_type": "code",
   "execution_count": 20,
   "id": "280a296f-d96e-4fcb-a854-ea6318c421f9",
   "metadata": {},
   "outputs": [
    {
     "name": "stdout",
     "output_type": "stream",
     "text": [
      "F1 Score: 0.837404047452896\n"
     ]
    }
   ],
   "source": [
    "f1 = (2 * precision * recall) / (precision + recall)\n",
    "print(f'F1 Score: {f1}')"
   ]
  },
  {
   "cell_type": "markdown",
   "id": "fae0bb2d-979f-4f4a-87b3-78296edee79d",
   "metadata": {},
   "source": [
    "## Receiver Operating Characteristic (ROC) curve\n",
    "\n",
    "It plots the True Positive Rate (TPR) (y-axis) against the False Positive Rate (FPR) (x-axis) for each threshold setting of a binary classifier."
   ]
  },
  {
   "cell_type": "markdown",
   "id": "ab20035d-433e-4738-b1bd-595c29cbccb5",
   "metadata": {},
   "source": [
    "### Area Under the ROC Curve (ROC-AUC)\n",
    "\n",
    "It is a number between 0 and 1 used to compare multiple ROC curves to find the better one."
   ]
  },
  {
   "cell_type": "markdown",
   "id": "d0ab5b44-f3b3-4fbd-8eb8-4aafc1671167",
   "metadata": {},
   "source": [
    "## Precision Recall (PR) curve\n",
    "\n",
    "Like ROC, it plots **Precision** (y-axis) against **Recall** (x-axis), and it is used when the dataset is severely imbalanced."
   ]
  },
  {
   "cell_type": "markdown",
   "id": "333ea54d-3062-41ff-b095-1e563cc89888",
   "metadata": {},
   "source": [
    "# References\n",
    "- https://arxiv.org/pdf/2010.16061.pdf\n",
    "- [Positive and negative predictive values](https://en.wikipedia.org/wiki/Positive_and_negative_predictive_values)\n",
    "- [Sensitivity and Specificity](https://en.wikipedia.org/wiki/Sensitivity_and_specificity)\n",
    "- https://en.wikipedia.org/wiki/Positive_and_negative_predictive_values\n",
    "- https://www.sciencedirect.com/topics/nursing-and-health-professions/predictive-value\n",
    "- https://www.ncbi.nlm.nih.gov/pmc/articles/PMC4608333\n",
    "- [Multi-class Metrics](https://www.evidentlyai.com/classification-metrics/multi-class-metrics)\n",
    "- https://arxiv.org/abs/2008.05756"
   ]
  },
  {
   "cell_type": "markdown",
   "id": "4f67a712",
   "metadata": {},
   "source": []
  }
 ],
 "metadata": {
  "kernelspec": {
   "display_name": "Python 3 (ipykernel)",
   "language": "python",
   "name": "python3"
  },
  "language_info": {
   "codemirror_mode": {
    "name": "ipython",
    "version": 3
   },
   "file_extension": ".py",
   "mimetype": "text/x-python",
   "name": "python",
   "nbconvert_exporter": "python",
   "pygments_lexer": "ipython3",
   "version": "3.12.6"
  },
  "widgets": {
   "application/vnd.jupyter.widget-state+json": {
    "state": {},
    "version_major": 2,
    "version_minor": 0
   }
  }
 },
 "nbformat": 4,
 "nbformat_minor": 5
}
