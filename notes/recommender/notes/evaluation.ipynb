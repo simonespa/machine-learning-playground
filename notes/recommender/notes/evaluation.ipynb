{
 "cells": [
  {
   "cell_type": "markdown",
   "id": "0e0461ba-6f82-463a-9b65-7f6992016ae0",
   "metadata": {},
   "source": [
    "# Evaluation of Top-N recommender\n",
    "\n",
    "Can be evaluated offline with the usual train/test and Cross Validation.\n",
    "\n",
    "- MAE\n",
    "- RMSE: penalises more the difference between the predicted and real values is way off (because of the square).\n",
    "\n",
    "MAE and RMSE tells you how good a model is a predicting things that have been already consumed (listened, read, watched), but cannot predict things that the user has never consumed.\n",
    "\n",
    "Caveat: RMSE doesn't really matter in the real world. What matter is how users react to the recommendation presented to them."
   ]
  },
  {
   "cell_type": "markdown",
   "id": "5587ca1b-ce20-4901-b710-f36193e80f3d",
   "metadata": {},
   "source": [
    "## Hit Rate\n",
    "\n",
    "- Generate top-n recs for all of the users in the test set. If one of the item in the list is something that was actually rated/watched/liked, that is considered a hit.\n",
    "- Sum all the hits for every user and divide by the number of users."
   ]
  },
  {
   "cell_type": "markdown",
   "id": "9b0e5d37-3e09-4b70-ad0f-842112a6bc6e",
   "metadata": {},
   "source": [
    "### How to measure it\n",
    "\n",
    "We can't just use the usual train/test cross validation technique.\n",
    "\n",
    "### Leave-one-out cross validation\n",
    "\n",
    "- Compute the Top-N recs for each user in our training data and intentionally remove one item from the list for each of them\n",
    "- We then test the ability of the rec system to recommend that item that was left out for that user\n",
    "\n",
    "It basically focus on measuring the ability to recommend an item from the top N list for each user that was left out in training\n",
    "\n",
    "Hit-rate with this technique tends to be really small and difficult to measure with small datasets."
   ]
  },
  {
   "cell_type": "markdown",
   "id": "32f10db2-be23-4a55-861b-4284b3687ae9",
   "metadata": {},
   "source": [
    "### Average Reciprocal Hit Rate (ARHR)\n",
    "\n",
    "$$\n",
    "\\sum_{i=1}^{N} \\frac{\\frac{1}{rank_i}}{users}\n",
    "$$\n",
    "\n",
    "| Rank | Reciprocal |\n",
    "| :-: | :-: |\n",
    "| 5 | $\\frac{1}{5}$ |\n",
    "| 1 | 1 |\n",
    "| 2 | $\\frac{1}{2}$ |\n",
    "| 4 | $\\frac{1}{4}$ |\n",
    "\n",
    "This metric is like hit rate, but it accounts for where in the top end list your hits appear. It gives more credit for successfully recommending an item in the top slot, than in the bottom slot.\n",
    "\n",
    "This is a more user-focused metric, since users tend to focus on the beginning of lists.\n",
    "\n",
    "The only difference is that instead of summing up the number of hits, we sum up the reciprocal rank of each hit. So if we successfully predict a recommendation in slot three, that only counts as one-third. But a hit in slot one of our top end recommendations receives the full weight of 1.0. \n",
    "\n",
    "It penalises good recommendations that are too down in the list."
   ]
  },
  {
   "cell_type": "markdown",
   "id": "be30e86f-bd55-4d1b-a030-c69d7a68c056",
   "metadata": {},
   "source": [
    "### Cumulative Hit Rate (cHR)\n",
    "\n",
    "It sets a threshold and throws away predicted ratings below that threshold."
   ]
  },
  {
   "cell_type": "markdown",
   "id": "13f9d5e8-a789-4ba9-baca-639280229189",
   "metadata": {},
   "source": [
    "### Rating Hit Rate (rHR)"
   ]
  },
  {
   "cell_type": "markdown",
   "id": "748db8c8-b8f1-4d24-8e05-f0730a863334",
   "metadata": {},
   "source": [
    "## Coverage\n",
    "\n",
    "- It's the percentage of possible recommendations that the system is able to provide.\n",
    "- It's the percentage of (user, item) pairs that can be predicted.\n",
    "\n",
    "This measure is in constrast with accuracy. This measure can tell how quickly new items can appear in the recommendations."
   ]
  },
  {
   "cell_type": "markdown",
   "id": "dc1a9b91-fe62-4fe2-9798-8d0782754ceb",
   "metadata": {},
   "source": [
    "## Diversity\n",
    "\n",
    "It's a measure of variety of the recommended items.\n",
    "\n",
    "A low-variety recommender system may just recommend episodes from the same programme or content of the same specific sub-genre.\n",
    "\n",
    "$(1 - S)$\n",
    "\n",
    "where $S$ is the average similarity between recommendation pairs\n",
    "\n",
    "Diversity alone is not a good measure for a recommender system, because we could have a high-degree of diversity by recommending random items, and achieve poor result.\n",
    "\n",
    "We could consider diversity as a parameter to take into account, and not as an absolute value to measure in isolation."
   ]
  },
  {
   "cell_type": "markdown",
   "id": "f0172fa6-aa61-4010-9d3d-170afe12ffc0",
   "metadata": {},
   "source": [
    "## Novelty\n",
    "\n",
    "It's the measure of how popular/unknown a recommendation is.\n",
    "\n",
    "Serendipity: an unplanned fortunate discovery.\n",
    "\n",
    "Mean popularity ranking. It's a measure of new item being recommended. By just recommending new items, it doesn't mean it makes the recommendation better. Again, this alone is not a good measure, but can be used as a parameter to tune the recommender system.\n",
    "\n",
    "You still want the recommender system to show a certain percentage of popular items.\n",
    "\n",
    "We must strike the right balance between familiar items and new ones."
   ]
  },
  {
   "cell_type": "markdown",
   "id": "4ecc8a5b-55de-48ab-9188-8721d9f3739f",
   "metadata": {},
   "source": [
    "### The long tail\n",
    "\n",
    "If we plot a graph where on the X axis we have all the items and the Y axis the popularity/frequency, we will see an exponential function, where very few items amount for the most popular ones to be consumed, and everything else represent niche items with low popularity. But if you combine all the item in the long tail, they would amount to the majority.\n",
    "\n",
    "Items in the long tails represent niche interests, and the recommender system must be able to let users discover those items."
   ]
  },
  {
   "cell_type": "markdown",
   "id": "face6c5a-ff46-428c-9feb-411b61f48093",
   "metadata": {},
   "source": [
    "## Churn\n",
    "\n",
    "Is the measure of how often do recommendations change for a given user.\n",
    "\n",
    "It can also measure the sensitivity of the recommender system to change in user behaviour.\n",
    "\n",
    "It measures the impact of change on the recommendation list.\n",
    "\n",
    "At the low-end of the churn scale we have staleness. Showing the same recs to user may not be a great idea if the items are then not clicked at all. Randomisation can help, but even in this instance we need to strike the right balance."
   ]
  },
  {
   "cell_type": "markdown",
   "id": "a5ca4ad8-6dc9-498e-9964-4d6d300d8951",
   "metadata": {},
   "source": [
    "## Responsivness\n",
    "\n",
    "How quick the new user behaviour impacts the recommendation.\n",
    "\n",
    "A highly responsive recommender systems means the changes are reflected instantly.\n",
    "\n",
    "Highly responsive recommender are complex and hard to maintain and expensive.\n",
    "\n",
    "As always, we need to strike the right balance based on the business needs."
   ]
  },
  {
   "cell_type": "markdown",
   "id": "91c3b6e1-625f-4525-8073-897930f35275",
   "metadata": {},
   "source": [
    "## A/B Testing\n",
    "\n",
    "Tune the recommender by putting it in front of real users."
   ]
  },
  {
   "cell_type": "markdown",
   "id": "b5e5b75a-9a1b-43b1-8f60-26d510af4ebc",
   "metadata": {},
   "source": [
    "### The surrogate Problem\n",
    "\n",
    "Accurately predicted rating, not necessarily tranlsates into good recommendations."
   ]
  },
  {
   "cell_type": "markdown",
   "id": "565c486d-b45f-4338-aebf-1ac5966d96e4",
   "metadata": {},
   "source": [
    "## Perceived quality\n",
    "\n",
    "Is a qualitative metric and it is measured by asking users if they think the recommendations are good.\n",
    "\n",
    "Challenges are, you may not get enough data out of it, because it relies on users willing to respond to an online poll for example."
   ]
  },
  {
   "cell_type": "code",
   "execution_count": null,
   "id": "234b6292-1cfd-41cf-b861-0c6e0a562ecc",
   "metadata": {},
   "outputs": [],
   "source": []
  }
 ],
 "metadata": {
  "kernelspec": {
   "display_name": "Python 3 (ipykernel)",
   "language": "python",
   "name": "python3"
  },
  "language_info": {
   "codemirror_mode": {
    "name": "ipython",
    "version": 3
   },
   "file_extension": ".py",
   "mimetype": "text/x-python",
   "name": "python",
   "nbconvert_exporter": "python",
   "pygments_lexer": "ipython3",
   "version": "3.10.10"
  }
 },
 "nbformat": 4,
 "nbformat_minor": 5
}
