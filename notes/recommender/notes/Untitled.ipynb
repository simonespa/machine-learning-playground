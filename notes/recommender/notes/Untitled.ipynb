{
 "cells": [
  {
   "cell_type": "markdown",
   "id": "05a75f8f-50bb-45cf-83bf-ce5205a95de2",
   "metadata": {},
   "source": [
    "# Coverage\n",
    "\n",
    "- It's the percentage of possible recommendations that the system is able to provide.\n",
    "- It's the percentage of (user, item) pairs that can be predicted.\n",
    "\n",
    "This measure contrasts with accuracy "
   ]
  },
  {
   "cell_type": "code",
   "execution_count": null,
   "id": "6943a122-58fb-484c-b2e1-fa3fea7f51a1",
   "metadata": {},
   "outputs": [],
   "source": []
  }
 ],
 "metadata": {
  "kernelspec": {
   "display_name": "Python 3 (ipykernel)",
   "language": "python",
   "name": "python3"
  },
  "language_info": {
   "codemirror_mode": {
    "name": "ipython",
    "version": 3
   },
   "file_extension": ".py",
   "mimetype": "text/x-python",
   "name": "python",
   "nbconvert_exporter": "python",
   "pygments_lexer": "ipython3",
   "version": "3.10.10"
  }
 },
 "nbformat": 4,
 "nbformat_minor": 5
}
