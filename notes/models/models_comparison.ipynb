{
 "cells": [
  {
   "cell_type": "markdown",
   "id": "09d177ae-9717-4b13-9ed3-41248c741b47",
   "metadata": {},
   "source": [
    "# Models Comparison"
   ]
  },
  {
   "cell_type": "code",
   "execution_count": 16,
   "id": "32502541-64b6-40e8-a94d-39ec3d9617c2",
   "metadata": {},
   "outputs": [
    {
     "data": {
      "text/html": [
       "<div>\n",
       "<style scoped>\n",
       "    .dataframe tbody tr th:only-of-type {\n",
       "        vertical-align: middle;\n",
       "    }\n",
       "\n",
       "    .dataframe tbody tr th {\n",
       "        vertical-align: top;\n",
       "    }\n",
       "\n",
       "    .dataframe thead th {\n",
       "        text-align: right;\n",
       "    }\n",
       "</style>\n",
       "<table border=\"1\" class=\"dataframe\">\n",
       "  <thead>\n",
       "    <tr style=\"text-align: right;\">\n",
       "      <th></th>\n",
       "      <th>Model Name</th>\n",
       "      <th>Regression</th>\n",
       "      <th>Classification</th>\n",
       "      <th>Training Time</th>\n",
       "      <th>Inference Time</th>\n",
       "    </tr>\n",
       "  </thead>\n",
       "  <tbody>\n",
       "    <tr>\n",
       "      <th>0</th>\n",
       "      <td>Linear Regression</td>\n",
       "      <td>True</td>\n",
       "      <td>False</td>\n",
       "      <td>O(np^2 + p^3)</td>\n",
       "      <td>O(p)</td>\n",
       "    </tr>\n",
       "    <tr>\n",
       "      <th>1</th>\n",
       "      <td>Logistic Regression</td>\n",
       "      <td>False</td>\n",
       "      <td>True</td>\n",
       "      <td>O(np)</td>\n",
       "      <td>O(p)</td>\n",
       "    </tr>\n",
       "  </tbody>\n",
       "</table>\n",
       "</div>"
      ],
      "text/plain": [
       "            Model Name  Regression  Classification  Training Time  \\\n",
       "0    Linear Regression        True           False  O(np^2 + p^3)   \n",
       "1  Logistic Regression       False            True          O(np)   \n",
       "\n",
       "  Inference Time  \n",
       "0           O(p)  \n",
       "1           O(p)  "
      ]
     },
     "execution_count": 16,
     "metadata": {},
     "output_type": "execute_result"
    }
   ],
   "source": [
    "import pandas as pd\n",
    "\n",
    "pd.DataFrame(\n",
    "    [\n",
    "        ['Linear Regression', True, False, 'O(np^2 + p^3)', 'O(p)'],\n",
    "        ['Logistic Regression', False, True, 'O(np)', 'O(p)'],\n",
    "    ],\n",
    "    columns=['Model Name', 'Regression', 'Classification', 'Training Time', 'Inference Time'])"
   ]
  },
  {
   "cell_type": "markdown",
   "id": "b909660c-c64d-4be8-9fd5-c7f97e332eb5",
   "metadata": {},
   "source": [
    "## Time Complexity\n",
    "\n",
    "<img src='./models_time_complexity.jpeg'>\n",
    "\n",
    "### Linear Regression\n",
    "- simple training among all models\n",
    "- fast time in predictions\n",
    "\n",
    "### Logistic Regression\n",
    "- Iterative optimization needed\n",
    "- Ideal for binary classification\n",
    "\n",
    "### Naive Bayes\n",
    "- Incredibly fast training speed\n",
    "- Perfect for text classification\n",
    "\n",
    "### Decision Trees\n",
    "- Quick predictions after training\n",
    "- Great for interpretable results\n",
    "\n",
    "### Random Forest\n",
    "- Memory intensive during training\n",
    "- Superior to single trees\n",
    "\n",
    "### Gradient Boosting\n",
    "- Memory-efficient implementations available\n",
    "- Better accuracy-speed trade-off\n",
    "\n",
    "### PCA\n",
    "- Fast for low dimensions\n",
    "- Struggles with high dimensions\n",
    "\n",
    "### K-Nearest Neighbors\n",
    "- Memory scales with data size\n",
    "- Heavy prediction phase\n",
    "\n",
    "### K-Means\n",
    "- Usually quick convergence\n",
    "- Scales well with mini-batches\n",
    "\n",
    "### Dense Neural Networks\n",
    "- Memory usage varies greatly\n",
    "- Complex hyperparameter tuning\n",
    "\n",
    "Consider your data size, available computing resources, and time constraints. Sometimes, simpler models offer the best trade-off between complexity and performance."
   ]
  }
 ],
 "metadata": {
  "kernelspec": {
   "display_name": "Python 3 (ipykernel)",
   "language": "python",
   "name": "python3"
  },
  "language_info": {
   "codemirror_mode": {
    "name": "ipython",
    "version": 3
   },
   "file_extension": ".py",
   "mimetype": "text/x-python",
   "name": "python",
   "nbconvert_exporter": "python",
   "pygments_lexer": "ipython3",
   "version": "3.12.6"
  },
  "widgets": {
   "application/vnd.jupyter.widget-state+json": {
    "state": {},
    "version_major": 2,
    "version_minor": 0
   }
  }
 },
 "nbformat": 4,
 "nbformat_minor": 5
}
