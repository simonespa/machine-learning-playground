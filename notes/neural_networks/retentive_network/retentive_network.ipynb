{
 "cells": [
  {
   "cell_type": "markdown",
   "id": "3b567050-931b-403f-9b08-c2875fd77c48",
   "metadata": {},
   "source": [
    "# RetNet\n",
    "\n",
    "Paper: https://arxiv.org/pdf/2307.08621.pdf\n",
    "\n",
    "<img src=\"./img/impossible_triangle.png\" alt=\"Impossible Triangle\" width=\"50%\">"
   ]
  },
  {
   "cell_type": "markdown",
   "id": "1d02ec1a-8bca-4ee1-ac1d-92909a7f8c20",
   "metadata": {},
   "source": [
    "**Perplexity** is an intrinsic evaluation metric for language models in Natural Language Processing."
   ]
  },
  {
   "cell_type": "markdown",
   "id": "eb06cd51-78c7-4f16-bc88-3a15e8ceed8f",
   "metadata": {},
   "source": [
    "## Inference cost and memory complexity\n",
    "\n",
    "- Inference cost per time step refers to GPU memory, throughput and latency\n",
    "- Memory complexity refers to "
   ]
  }
 ],
 "metadata": {
  "kernelspec": {
   "display_name": "Python 3 (ipykernel)",
   "language": "python",
   "name": "python3"
  },
  "language_info": {
   "codemirror_mode": {
    "name": "ipython",
    "version": 3
   },
   "file_extension": ".py",
   "mimetype": "text/x-python",
   "name": "python",
   "nbconvert_exporter": "python",
   "pygments_lexer": "ipython3",
   "version": "3.10.10"
  }
 },
 "nbformat": 4,
 "nbformat_minor": 5
}
