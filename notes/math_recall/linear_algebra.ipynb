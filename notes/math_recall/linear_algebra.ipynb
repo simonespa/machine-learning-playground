{
 "cells": [
  {
   "cell_type": "markdown",
   "id": "e6f71f7c-f06c-477d-9d70-82751bd8e080",
   "metadata": {},
   "source": [
    "# Linear Algebra\n",
    "\n",
    "## References\n",
    "- [Sine/Cosine](https://www.wikihow.com/Graph-Sine-and-Cosine-Functions)\n",
    "- [Dot Product](https://www.khanacademy.org/math/multivariable-calculus/thinking-about-multivariable-function/x786f2022:vectors-and-matrices/a/dot-products-mvc)\n",
    "- [Cross Product](https://www.khanacademy.org/math/multivariable-calculus/thinking-about-multivariable-function/x786f2022:vectors-and-matrices/a/cross-products-mvc)"
   ]
  },
  {
   "cell_type": "markdown",
   "id": "9d7425c7-3754-443f-ab88-fb655fb06b89",
   "metadata": {},
   "source": [
    "## Vector multiplication"
   ]
  },
  {
   "cell_type": "code",
   "execution_count": 34,
   "id": "67f4375a-b208-4944-ae15-f22597448aab",
   "metadata": {},
   "outputs": [],
   "source": [
    "import numpy as np\n",
    "\n",
    "v = np.array([3, 1, -4])\n",
    "w = np.array([-4, 7, 11])"
   ]
  },
  {
   "cell_type": "markdown",
   "id": "cbf45dc3-27b1-4b3b-b400-2d760bfa6c23",
   "metadata": {},
   "source": [
    "### Scalar multiplication"
   ]
  },
  {
   "cell_type": "code",
   "execution_count": 41,
   "id": "4b392cde-233f-40fb-9fd0-a265b84737fb",
   "metadata": {},
   "outputs": [
    {
     "data": {
      "text/plain": [
       "array([ 6,  2, -8])"
      ]
     },
     "execution_count": 41,
     "metadata": {},
     "output_type": "execute_result"
    }
   ],
   "source": [
    "2 * v"
   ]
  },
  {
   "cell_type": "markdown",
   "id": "5ff1c36b-c7ea-4527-a2f7-59c66a63d512",
   "metadata": {},
   "source": [
    "### Dot Product\n",
    "\n",
    "The result of the **dot product** is a scalar quantity, which represents the magnitude.\n",
    "\n",
    "$$\n",
    "\\vec{v} \\cdot \\vec{w} = \\vec{w} \\cdot \\vec{v} = ||\\vec{v}|| ||\\vec{w}|| \\cos(\\theta)\n",
    "$$\n",
    "\n",
    "Read more details on [Khanacademy](https://www.khanacademy.org/math/multivariable-calculus/thinking-about-multivariable-function/x786f2022:vectors-and-matrices/a/dot-products-mvc)."
   ]
  },
  {
   "cell_type": "code",
   "execution_count": 35,
   "id": "1954be3f-be04-4bc1-8bf5-53dd9fadb8ec",
   "metadata": {},
   "outputs": [],
   "source": [
    "def dot_product(v, w):\n",
    "    sum = 0\n",
    "    for (vi, wi) in np.nditer((v, w)):\n",
    "        sum += vi * wi\n",
    "    return sum"
   ]
  },
  {
   "cell_type": "code",
   "execution_count": 36,
   "id": "dde453f2-9cda-4913-914f-104979683662",
   "metadata": {},
   "outputs": [
    {
     "data": {
      "text/plain": [
       "-49"
      ]
     },
     "execution_count": 36,
     "metadata": {},
     "output_type": "execute_result"
    }
   ],
   "source": [
    "assert np.dot(v, w) == dot_product(v, w)\n",
    "np.dot(v, w)"
   ]
  },
  {
   "cell_type": "markdown",
   "id": "8bf11af3-041f-430f-aa0e-1a20b325e816",
   "metadata": {},
   "source": [
    "### Cross Product\n",
    "\n",
    "The result of the **cross product** is a vector, which represents magnitude and direction.\n",
    "\n",
    "$$\n",
    "\\vec{v} \\times \\vec{w} = \\vec{z} = ||\\vec{v}|| ||\\vec{w}|| \\sin(\\theta) \\hat{n}\n",
    "$$\n",
    "\n",
    "where $\\hat{n}$ is the unit vector which gives the direction. To calculate the direction (positive/negative) of the resulting vector, remember the right-hand rule.\n",
    "\n",
    "Read more details on [Khanacademy](https://www.khanacademy.org/math/multivariable-calculus/thinking-about-multivariable-function/x786f2022:vectors-and-matrices/a/cross-products-mvc)"
   ]
  },
  {
   "cell_type": "code",
   "execution_count": 38,
   "id": "d149068f-d14b-4e5e-84e6-c14b262fd2c6",
   "metadata": {},
   "outputs": [
    {
     "data": {
      "text/plain": [
       "array([ 39, -17,  25])"
      ]
     },
     "execution_count": 38,
     "metadata": {},
     "output_type": "execute_result"
    }
   ],
   "source": [
    "np.cross(v, w)"
   ]
  },
  {
   "cell_type": "markdown",
   "id": "00099972-2b47-4f06-8f9c-201818f13992",
   "metadata": {},
   "source": [
    "### Comparison\n",
    "\n",
    "- The **dot product** measures how much two vectors point in the same direction (similarity)\n",
    "- The **cross product** measures how much two vectors point in different directions (diversity)"
   ]
  },
  {
   "cell_type": "markdown",
   "id": "12d45bb5-7438-4bcb-a454-d7d702088bf2",
   "metadata": {},
   "source": [
    "## Matrix Multiplication"
   ]
  },
  {
   "cell_type": "markdown",
   "id": "920f2bea-2efd-4555-99a3-e19bc7be97c2",
   "metadata": {},
   "source": [
    "### Hadamard multiplication\n",
    "The **Hadamard** multiplication $𝐴 ∘ 𝐵$ or $A ⊙ B$, also known as the **element-wise**, **entrywise** or **Schur** multiplication, it's a binary operation that requires two matrices with identical dimensions.\n",
    "\n",
    "The product is a matrix with the same dimension where each element is the product of the corresponding elements in $A$ and $B$.\n",
    "\n",
    "In **Python**:\n",
    "- with the NumPy numerical library, multiplication of array objects as `a*b` produces the Hadamard product, and multiplication as `a@b` produces the matrix product.\n",
    "- With the SymPy symbolic library, multiplication of array objects as both `a*b` and `a@b` will produce the matrix product, the Hadamard product can be obtained with `a.multiply_elementwise(b)`.\n",
    "\n",
    "The Hadamard product is used in image compression techniques such as JPEG and in LSTM cells of Recurrent Neural Networks.\n",
    "\n",
    "Read https://en.wikipedia.org/wiki/Hadamard_product_(matrices)"
   ]
  },
  {
   "cell_type": "markdown",
   "id": "c52a5ae4-7fee-43a3-b3f4-92cd1f168dac",
   "metadata": {},
   "source": [
    "### Frobenius multiplication\n",
    "\n",
    "The Frobenius multiplication $⟨A,B⟩_F$ is component-wise inner product that takes two matrices with the same size and returns a scalar.\n",
    "\n",
    "Read https://en.wikipedia.org/wiki/Frobenius_inner_product"
   ]
  },
  {
   "cell_type": "markdown",
   "id": "706684b1-8c89-4864-8ddb-70e2bae964aa",
   "metadata": {},
   "source": [
    "### Kronecker multiplication\n",
    "\n",
    "The Kronecker product $A⊗B$ is an operation that takes two matrices of arbitrary size and return a block matrix.\n",
    "\n",
    "Read https://en.wikipedia.org/wiki/Kronecker_product"
   ]
  },
  {
   "cell_type": "code",
   "execution_count": null,
   "id": "ccdbfbaf-5668-493b-82ee-0a46abfb77f5",
   "metadata": {},
   "outputs": [],
   "source": []
  }
 ],
 "metadata": {
  "kernelspec": {
   "display_name": "Python 3 (ipykernel)",
   "language": "python",
   "name": "python3"
  },
  "language_info": {
   "codemirror_mode": {
    "name": "ipython",
    "version": 3
   },
   "file_extension": ".py",
   "mimetype": "text/x-python",
   "name": "python",
   "nbconvert_exporter": "python",
   "pygments_lexer": "ipython3",
   "version": "3.10.10"
  }
 },
 "nbformat": 4,
 "nbformat_minor": 5
}
